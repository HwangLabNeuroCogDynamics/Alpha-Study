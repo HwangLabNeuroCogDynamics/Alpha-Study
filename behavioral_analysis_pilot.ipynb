{
 "cells": [
  {
   "cell_type": "code",
   "execution_count": null,
   "metadata": {},
   "outputs": [],
   "source": []
  },
  {
   "cell_type": "code",
   "execution_count": 1,
   "metadata": {},
   "outputs": [
    {
     "name": "stdout",
     "output_type": "stream",
     "text": [
      "Python version 2.7.15 |Anaconda, Inc.| (default, Dec 14 2018, 19:04:19) \n",
      "[GCC 7.3.0]\n",
      "Pandas version 0.23.4\n",
      "Matplotlib version 2.2.3\n"
     ]
    }
   ],
   "source": [
    "import numpy as np  # whole numpy lib is available, prepend 'np.'\n",
    "from numpy import average, std\n",
    "from numpy.random import random, randint, normal, shuffle,uniform\n",
    "import scipy\n",
    "from scipy.stats import ttest_ind\n",
    "import seaborn as sns\n",
    "import fnmatch\n",
    "import os  # handy system and path functions\n",
    "import sys  # to get file system encoding\n",
    "import csv\n",
    "from pandas import DataFrame, read_csv\n",
    "import matplotlib.pyplot as plt\n",
    "import pandas as pd  \n",
    "import matplotlib\n",
    "print('Python version ' + sys.version)\n",
    "print('Pandas version ' + pd.__version__)\n",
    "print('Matplotlib version ' + matplotlib.__version__)"
   ]
  },
  {
   "cell_type": "code",
   "execution_count": 2,
   "metadata": {},
   "outputs": [],
   "source": [
    "cue_conditions=['target','distractor','neutral']\n",
    "valid_conds=[0.5,0.8]\n",
    "numTrials=33\n",
    "subjects1=['10','11','12','13','14','16','17','18']#['19'] subject 19 has some issue ?? need to figure that out\n",
    "subjects2=['20','21','23','24','25','27','29']\n",
    "subjects3=['31','32','33','34','35','36','37']\n",
    "subjects4=['38','39','41','42','43','45'] #40\n",
    "subjects5=['47','50','52','53']#['46','47','48','49','50','51','52','53'] #excluding spenser subs\n",
    "subjects6=['55','56','66','67',' 68','69']#54,\n",
    "subjects7=['73','74','75','77','78','79']#'72' because accidentally turned numlock off\n",
    "subjects8=['101','102','104','105','106','91','109'] #alpha singleton pilot with distractor target color pre assigned\n",
    "subjects9=['111','112','113','114'] #alpha singleton pilot with colors+shapes randomized every trial\n",
    "subjects=[subjects9]#[subjects5,subjects6,subjects7]#[subjects1,subjects2,subjects3,subjects4,subjects5]\n",
    "sessions=1\n",
    "#path to .csv result files with our data \n",
    "where_files = r'/home/dcellier/RDSS/AlphaStudy_Data/behavData/'"
   ]
  },
  {
   "cell_type": "code",
   "execution_count": null,
   "metadata": {},
   "outputs": [],
   "source": [
    "#sub20=pd.read_csv(r'/home/dcellier/RDSS/AlphaStudy_Data/behavData/20_alpha_pilot_01_2018_Oct_31_1459.csv')"
   ]
  },
  {
   "cell_type": "code",
   "execution_count": null,
   "metadata": {},
   "outputs": [],
   "source": [
    "#one_result = pd.read_csv(where_files +r'12_alpha_pilot_01_2018_Oct_23_1237.csv') \n",
    "#one_result"
   ]
  },
  {
   "cell_type": "code",
   "execution_count": null,
   "metadata": {},
   "outputs": [],
   "source": [
    "#one_result['trialCorr?']=one_result['trialCorr?'].replace(-1,0)"
   ]
  },
  {
   "cell_type": "code",
   "execution_count": null,
   "metadata": {},
   "outputs": [],
   "source": [
    "#one_result.groupby(['subResp']).mean()"
   ]
  },
  {
   "cell_type": "code",
   "execution_count": null,
   "metadata": {},
   "outputs": [],
   "source": [
    "#one_result_copy=one_result.copy()\n",
    "#one_result_copy"
   ]
  },
  {
   "cell_type": "code",
   "execution_count": null,
   "metadata": {
    "scrolled": true
   },
   "outputs": [],
   "source": [
    "#one_result_copy.subResp != 'None'"
   ]
  },
  {
   "cell_type": "code",
   "execution_count": null,
   "metadata": {},
   "outputs": [],
   "source": [
    "#one_result_copy=one_result_copy[one_result_copy.subResp != 'None']\n",
    "#one_result_copy"
   ]
  },
  {
   "cell_type": "code",
   "execution_count": null,
   "metadata": {},
   "outputs": [],
   "source": [
    "#one_result_copy.groupby(['subResp']).mean()"
   ]
  },
  {
   "cell_type": "code",
   "execution_count": null,
   "metadata": {
    "scrolled": true
   },
   "outputs": [],
   "source": [
    "#one_result.groupby(['cue','validity']).mean()"
   ]
  },
  {
   "cell_type": "code",
   "execution_count": null,
   "metadata": {
    "scrolled": false
   },
   "outputs": [],
   "source": [
    "all_iters_all=[] # all_results across all iterations\n",
    "all_iters_sub=[] # sub_results across all iterations\n",
    "#print(all_results)\n",
    "files=os.listdir(where_files)\n",
    "for l in subjects:\n",
    "    all_results=pd.DataFrame()\n",
    "    sub_results=[]\n",
    "    for sub in l:\n",
    "        pattern='%s_alpha_pilot_01_201*_*_*_*.csv' %sub \n",
    "        pattern2='%s_alpha_noCue_pilot2019_*_*_*.csv'%sub#\n",
    "        for f in files:\n",
    "            if fnmatch.fnmatch(f,pattern) or fnmatch.fnmatch(f,pattern2):\n",
    "                thisSub=f\n",
    "        thisSubf=where_files+thisSub\n",
    "        print(thisSubf)\n",
    "        thisSub_result=pd.read_csv(thisSubf,engine='python')# not sure what engine = python is doing\n",
    "        thisSub_result_minusNR=thisSub_result.copy() #taking out non responses \n",
    "        thisSub_result_minusNR=thisSub_result_minusNR[thisSub_result_minusNR.subResp != 'None']\n",
    "        #thisSub_result_minueNR=\n",
    "        thisSub_result_minusNR['sub']=sub\n",
    "        #thisSub_result['RT']=thisSub_result['RT'].replace(-1,0)\n",
    "        #print(thisSub_result)\n",
    "        sub_results.append(thisSub_result_minusNR)\n",
    "        all_results=all_results.append(thisSub_result_minusNR,ignore_index=True)\n",
    "    all_iters_all.append(all_results)\n",
    "    all_iters_sub.append(sub_results)"
   ]
  },
  {
   "cell_type": "code",
   "execution_count": null,
   "metadata": {},
   "outputs": [],
   "source": [
    "all_iters_all[0]"
   ]
  },
  {
   "cell_type": "code",
   "execution_count": null,
   "metadata": {},
   "outputs": [],
   "source": [
    "#pd.read_csv('/home/dcellier/RDSS/AlphaStudy_Data/behavData/55_alpha_pilot_01_2019_Feb_12_1320.csv')"
   ]
  },
  {
   "cell_type": "code",
   "execution_count": null,
   "metadata": {},
   "outputs": [],
   "source": [
    "#all_iters_all[0]#[699:799]"
   ]
  },
  {
   "cell_type": "code",
   "execution_count": null,
   "metadata": {},
   "outputs": [],
   "source": [
    "all_iters_sub[0][0].groupby(['trial_type','dis_PresentorAbsent'])['RT','trialCorr?'].mean()"
   ]
  },
  {
   "cell_type": "code",
   "execution_count": null,
   "metadata": {},
   "outputs": [],
   "source": [
    "all_iters_sub[0][1].groupby(['trial_type','dis_PresentorAbsent'])['RT','trialCorr?'].mean()"
   ]
  },
  {
   "cell_type": "code",
   "execution_count": null,
   "metadata": {},
   "outputs": [],
   "source": [
    "all_iters_sub[0][2].groupby(['trial_type','dis_PresentorAbsent'])['RT','trialCorr?'].mean()"
   ]
  },
  {
   "cell_type": "code",
   "execution_count": null,
   "metadata": {},
   "outputs": [],
   "source": [
    "all_iters_sub[0][3].groupby(['trial_type','dis_PresentorAbsent'])['RT','trialCorr?'].mean()"
   ]
  },
  {
   "cell_type": "code",
   "execution_count": null,
   "metadata": {},
   "outputs": [],
   "source": [
    "all_iters_sub[0][4].groupby(['trial_type','dis_PresentorAbsent'])['RT','trialCorr?'].mean()"
   ]
  },
  {
   "cell_type": "code",
   "execution_count": null,
   "metadata": {},
   "outputs": [],
   "source": [
    "all_iters_sub[0][5].groupby(['trial_type','dis_PresentorAbsent'])['RT','trialCorr?'].mean()"
   ]
  },
  {
   "cell_type": "code",
   "execution_count": null,
   "metadata": {
    "scrolled": false
   },
   "outputs": [],
   "source": [
    "#len(all_iters_sub[0])\n",
    "#all_iters_sub[0][0].groupby(['tarCue_validity','highProbLoc?','disCue','disPresentOrAbsent'])['RT','trialCorr?'].mean()\n",
    "#all_results.groupby(['cue']).mean()"
   ]
  },
  {
   "cell_type": "code",
   "execution_count": null,
   "metadata": {},
   "outputs": [],
   "source": [
    "#all_iters_sub[0][1].groupby(['tarCue_validity','highProbLoc?','disCue','disPresentOrAbsent'])['RT','trialCorr?'].mean()"
   ]
  },
  {
   "cell_type": "code",
   "execution_count": null,
   "metadata": {},
   "outputs": [],
   "source": [
    "#all_iters_sub[0][4].groupby(['tarCue_validity','highProbLoc?','disCue','disPresentOrAbsent'])['RT','trialCorr?'].mean()"
   ]
  },
  {
   "cell_type": "code",
   "execution_count": null,
   "metadata": {
    "scrolled": false
   },
   "outputs": [],
   "source": [
    "pd.DataFrame([all_results.iloc[x] for x in range(len(all_results)) if all_results.block[x]<1]).groupby(['trial_type','dis_PresentorAbsent'])['RT','trialNum'].mean()"
   ]
  },
  {
   "cell_type": "code",
   "execution_count": null,
   "metadata": {},
   "outputs": [],
   "source": [
    "pd.DataFrame([all_results.iloc[x] for x in range(len(all_results)) if all_results.block[x]>=3]).groupby(['trial_type','dis_PresentorAbsent'])['RT','trialNum'].mean()"
   ]
  },
  {
   "cell_type": "code",
   "execution_count": null,
   "metadata": {},
   "outputs": [],
   "source": [
    "all_results.groupby(['trial_type','dis_PresentorAbsent'])['RT','trialCorr?'].mean()"
   ]
  },
  {
   "cell_type": "code",
   "execution_count": null,
   "metadata": {},
   "outputs": [],
   "source": [
    "#all_results.groupby(['sub','cue','validity'],as_index=False).mean()"
   ]
  },
  {
   "cell_type": "code",
   "execution_count": null,
   "metadata": {},
   "outputs": [],
   "source": [
    "#a=sub_results[0].groupby(['cue','validity']).mean()\n",
    "#b=sub_results[1].groupby(['cue','validity']).mean()"
   ]
  },
  {
   "cell_type": "code",
   "execution_count": null,
   "metadata": {},
   "outputs": [],
   "source": [
    "#c=a.append(b)\n",
    "#c['RT']\n",
    "#c"
   ]
  },
  {
   "cell_type": "code",
   "execution_count": null,
   "metadata": {},
   "outputs": [],
   "source": [
    "#sub10\n",
    "#sub_results[0].groupby(['cue','validity','flex or blocked?']).mean()"
   ]
  },
  {
   "cell_type": "code",
   "execution_count": null,
   "metadata": {
    "scrolled": true
   },
   "outputs": [],
   "source": [
    "#sub11\n",
    "#sub_results[1].groupby(['cue','validity','flex or blocked?']).mean()"
   ]
  },
  {
   "cell_type": "code",
   "execution_count": null,
   "metadata": {},
   "outputs": [],
   "source": [
    "#sub12\n",
    "#sub_results[2].groupby(['cue','validity','flex or blocked?']).mean()"
   ]
  },
  {
   "cell_type": "code",
   "execution_count": null,
   "metadata": {},
   "outputs": [],
   "source": [
    "#sub13\n",
    "#sub_results[3].groupby(['cue','validity','flex or blocked?']).mean()"
   ]
  },
  {
   "cell_type": "code",
   "execution_count": null,
   "metadata": {
    "scrolled": true
   },
   "outputs": [],
   "source": [
    "#sub14\n",
    "#sub_results[4].groupby(['cue','validity','flex or blocked?']).mean()"
   ]
  },
  {
   "cell_type": "code",
   "execution_count": null,
   "metadata": {},
   "outputs": [],
   "source": [
    "#sub16\n",
    "#sub_results[5].groupby(['cue','validity','flex or blocked?']).mean()"
   ]
  },
  {
   "cell_type": "code",
   "execution_count": null,
   "metadata": {},
   "outputs": [],
   "source": [
    "#sub17\n",
    "#sub_results[6].groupby(['cue','validity','flex or blocked?']).mean()"
   ]
  },
  {
   "cell_type": "code",
   "execution_count": null,
   "metadata": {},
   "outputs": [],
   "source": [
    "#sub18\n",
    "#sub_results[7].groupby(['cue','validity','flex or blocked?']).mean()"
   ]
  },
  {
   "cell_type": "code",
   "execution_count": null,
   "metadata": {},
   "outputs": [],
   "source": [
    "#sub19\n",
    "#sub_results[8].groupby(['cue','validity','trial_type']).mean()"
   ]
  },
  {
   "cell_type": "code",
   "execution_count": null,
   "metadata": {},
   "outputs": [],
   "source": [
    "#sub20\n",
    "#sub_results[9].groupby(['cue','validity']).mean()"
   ]
  },
  {
   "cell_type": "code",
   "execution_count": null,
   "metadata": {},
   "outputs": [],
   "source": [
    "#sub20\n",
    "#sub_results[9].groupby(['cue','validity','trial_type']).mean()"
   ]
  },
  {
   "cell_type": "markdown",
   "metadata": {},
   "source": [
    "# plots"
   ]
  },
  {
   "cell_type": "code",
   "execution_count": null,
   "metadata": {},
   "outputs": [],
   "source": [
    "plt.axis\n",
    "x = np.array(list(\"ABCDEFGHIJ\"))\n",
    "y1 = np.arange(1, 11)\n",
    "sns.barplot(x=x, y=y1, palette=\"rocket\")\n",
    "#ax1.axhline(0, color=\"k\", clip_on=False)\n",
    "#axis.set_ylabel(\"Sequential\")"
   ]
  },
  {
   "cell_type": "code",
   "execution_count": null,
   "metadata": {},
   "outputs": [],
   "source": [
    "#plt.subplots()\n",
    "#x= np.array(['RT','ACC'])\n",
    "#y1=np.array([all_results['RT'].mean(),all_results['trialCorr?'].mean()])\n",
    "#sns.barplot(x=x, y=y1, palette=\"rocket\")"
   ]
  },
  {
   "cell_type": "markdown",
   "metadata": {},
   "source": [
    "# Plotting different piloted conditions"
   ]
  },
  {
   "cell_type": "markdown",
   "metadata": {},
   "source": [
    "## iteration 1: T/D/N, 50/80"
   ]
  },
  {
   "cell_type": "code",
   "execution_count": null,
   "metadata": {},
   "outputs": [],
   "source": [
    "iters=all_iters_all[0]\n",
    "c=iters.groupby(['sub','cue','validity']).mean()\n",
    "c.reset_index(inplace=True)\n",
    "tarNdist=c[c.cue!='neutral']\n",
    "neut=c[c.cue=='neutral']\n",
    "#f,(ax1, ax2,ax3) = plt.subplots(3, 1, figsize=(5,12),sharex=True)\n",
    "#sns.catplot(y='RT',x='validity',hue='cue',data=sub_results[0],kind='bar',ci='sd')\n",
    "e=sns.catplot(y='RT',x='validity',hue='cue',data=tarNdist,kind='bar',ci='sd',palette='Set2')\n",
    "i=sns.catplot(y='RT',x='cue',height=5,hue='sub',data=neut,ci='sd')\n",
    "#ax1.axhline(0, color=\"k\", clip_on=False)\n",
    "o=sns.catplot(y='trialCorr?',x='validity',hue='cue',data=c,kind='bar',ci='sd',palette='rocket')\n",
    "o.set_axis_labels('cue validity','ACC')"
   ]
  },
  {
   "cell_type": "markdown",
   "metadata": {},
   "source": [
    "## iteration 2: T/D, 33/65/95"
   ]
  },
  {
   "cell_type": "code",
   "execution_count": null,
   "metadata": {},
   "outputs": [],
   "source": [
    "iters=all_iters_all[1]\n",
    "c=iters.groupby(['sub','cue','validity']).mean()\n",
    "c.reset_index(inplace=True)\n",
    "tarNdist=c[c.cue!='neutral']\n",
    "#neut=c[c.cue=='neutral']\n",
    "e=sns.catplot(y='RT',x='cue',hue='validity',data=tarNdist,kind='bar',ci='sd',palette='Set2')\n",
    "e.set_titles('Reaction times')\n",
    "#i=sns.catplot(y='RT',x='cue',height=5,hue='sub',data=neut,ci='sd')\n",
    "o=sns.catplot(y='trialCorr?',x='validity',hue='cue',data=c,kind='bar',ci='sd',palette='rocket')\n",
    "o.set_axis_labels('cue validity','ACC')"
   ]
  },
  {
   "cell_type": "markdown",
   "metadata": {},
   "source": [
    "## iteration 3: T/D, 33/95, uni/bi"
   ]
  },
  {
   "cell_type": "code",
   "execution_count": null,
   "metadata": {},
   "outputs": [],
   "source": [
    "iters=all_iters_all[2]\n",
    "c=iters.groupby(['sub','cue','validity','uni or bi lat?']).mean()\n",
    "c.reset_index(inplace=True)\n",
    "tarNdist=c[c.cue!='neutral']\n",
    "e=sns.catplot(y='RT',x='cue',hue='validity',col='uni or bi lat?',data=tarNdist,kind='bar',ci='sd',palette='Set2')\n",
    "e.set_titles('{col_name}'+'lateral cues')\n",
    "e.set_axis_labels('cue type',)\n",
    "o=sns.catplot(y='trialCorr?',x='validity',hue='cue',data=c,kind='bar',ci='sd',palette='rocket')\n",
    "o.set_axis_labels('cue validity','ACC')\n",
    "o.despine(left=True)"
   ]
  },
  {
   "cell_type": "markdown",
   "metadata": {},
   "source": [
    "## iteration 4: T/D/N, 95, flex/blocked"
   ]
  },
  {
   "cell_type": "code",
   "execution_count": null,
   "metadata": {
    "scrolled": false
   },
   "outputs": [],
   "source": [
    "iters=all_iters_all[3]\n",
    "c=iters.groupby(['sub','cue','validity','flex or blocked?']).mean()\n",
    "c.reset_index(inplace=True)\n",
    "tarNdist=c[c.cue!='neutral']\n",
    "neut=c[c.cue=='neutral']\n",
    "e=sns.catplot(y='RT',x='cue',hue='flex or blocked?',col='validity',data=tarNdist,kind='bar',ci='sd',palette='husl')\n",
    "e.set_titles('95% cue validity')\n",
    "i=sns.catplot(y='RT',x='flex or blocked?',col='validity',data=neut,kind='bar',ci='sd',palette='husl')\n",
    "i.set_titles('neutral cue: randomly valid')\n",
    "i.set_axis_labels('cue change','RT')\n",
    "o=sns.catplot(y='trialCorr?',x='validity',hue='sub',data=c,ci='sd',palette='rocket')\n",
    "o.set_axis_labels('cue validity','ACC')"
   ]
  },
  {
   "cell_type": "code",
   "execution_count": null,
   "metadata": {},
   "outputs": [],
   "source": [
    "all_iters_all[0]"
   ]
  },
  {
   "cell_type": "code",
   "execution_count": null,
   "metadata": {},
   "outputs": [],
   "source": [
    "c=all_iters_all[0].groupby(['disCue_validity','tarCue_validity','highProbLoc?']).mean()\n",
    "c"
   ]
  },
  {
   "cell_type": "markdown",
   "metadata": {},
   "source": [
    "## iteration 5: central dis cue w Hi/Lo validity, superimposed with target cues with Hi/Lo validity\n",
    "hi validity=100%\n",
    "lo validity=50%\n",
    "high prob distractor location= 85%"
   ]
  },
  {
   "cell_type": "code",
   "execution_count": null,
   "metadata": {},
   "outputs": [],
   "source": [
    "iters=all_iters_all[0]\n",
    "c=iters.groupby(['disCue_validity','tarCue_validity','highProbLoc?','tarVorI','disVorI','disPresentOrAbsent','disCue']).mean()\n",
    "c.reset_index(inplace=True)\n",
    "#tarNdist=c[c.cue!='neutral']\n",
    "#neut=c[c.cue=='neutral']\n",
    "e=sns.catplot(y='RT',x=('tarCue_validity'),data=c,kind='bar',ci='sd',palette='husl')\n",
    "plt.title('Target Cue Validity Effects on RT')\n",
    "e.set_axis_labels('target cue validity','RT')\n",
    "#e._legend.set_title('dis cue validity')\n",
    "\n",
    "f=sns.catplot(y='RT',x=('disCue_validity'),data=c,kind='bar',ci='sd',palette=sns.cubehelix_palette(8))\n",
    "plt.title('Distractor Cue Validity Effects on RT')\n",
    "f.set_axis_labels('distractor cue validity','RT')\n",
    "#e._legend.set_title('dis cue validity')\n",
    "\n",
    "#\n",
    "i=sns.catplot(y='RT',x='disCue',hue='disPresentOrAbsent',data=c,kind='bar',ci='sd',palette='rocket')\n",
    "plt.title('Distractor Cue Effects on RT by Type')\n",
    "i._legend.set_title('distractors in probe array')\n",
    "i.set_axis_labels('distractor cue type','RT') \n",
    "\n",
    "o=sns.catplot(y='RT',x='disCue',col='highProbLoc?',hue='disVorI',data=c,ci='sd',kind='bar',palette='Set2')\n",
    "o.set_axis_labels('distractor cue type','RT')\n",
    "o.set_titles(col_template=\"High Probability Dis Location? : {col_name}\")\n",
    "o._legend.set_title('distractor validity')"
   ]
  },
  {
   "cell_type": "code",
   "execution_count": null,
   "metadata": {},
   "outputs": [],
   "source": [
    "all_iters_all[1]"
   ]
  },
  {
   "cell_type": "markdown",
   "metadata": {},
   "source": [
    "## iteration 6: central dis cue (Hi/Lo) w targets (Hi validity only), vs no target cues\n",
    "high prob distractor location=100% valid\n",
    "hi dis validity=100%, lo dis validity=50%"
   ]
  },
  {
   "cell_type": "code",
   "execution_count": null,
   "metadata": {
    "scrolled": false
   },
   "outputs": [],
   "source": [
    "iters=all_iters_all[1]\n",
    "c=iters.groupby(['disCue_validity','tarCue_validity','highProbLoc?','disPresentOrAbsent','disVorI','disCue']).mean()\n",
    "c.reset_index(inplace=True)\n",
    "noTar=c[c.tarCue_validity!='100%']\n",
    "Tar_w_Present=c[c.tarCue_validity=='100%'][c.disCue=='Present']\n",
    "onlyHivalid_dis=c[c.disCue_validity=='100%']\n",
    "\n",
    "\n",
    "\n",
    "i=sns.catplot(y='RT',x='highProbLoc?',hue='disCue',data=onlyHivalid_dis,kind='bar',ci='sd',palette='rocket')\n",
    "plt.title('High Validity Distractor Cue Blocks')\n",
    "i.set_axis_labels('high probability distractor location','RT')\n",
    "i._legend.set_title('type of cue')\n",
    "#plt.legend(title='ha')\n",
    "\n",
    "# distractor cue only high valid vs dis and target high valid\n",
    "o=sns.catplot(y='RT',hue='tarCue_validity',data=c,x='disCue_validity',ci='sd',kind='bar',palette='Paired')\n",
    "o.set_axis_labels('Distractor Cue Validity','RT')\n",
    "#o.set_titles('Distractor Cue Validity: {row_name}')\n",
    "plt.title('Target Cue versus Non-Target Cue Blocks')\n",
    "o._legend.set_title('target cue validity')\n",
    "\n",
    "#distractor only cue hi valid vs distractor only cue lo valid\n",
    "e=sns.catplot(y='RT',x='disCue_validity',data=noTar,kind='bar',ci='sd',palette='Paired')\n",
    "plt.title('Distractor Cue-only trials')\n",
    "e.set_axis_labels('validity of distractor cue','RT') \n",
    "#e._legend.set_title('high prob dis loc')"
   ]
  },
  {
   "cell_type": "code",
   "execution_count": null,
   "metadata": {},
   "outputs": [],
   "source": [
    "all_iters_all[2]"
   ]
  },
  {
   "cell_type": "markdown",
   "metadata": {},
   "source": [
    "## iteration 7: no cues, flexible v blocked distractors, respond to spatial feature of target v feature based orientation"
   ]
  },
  {
   "cell_type": "code",
   "execution_count": null,
   "metadata": {},
   "outputs": [],
   "source": [
    "iters=all_iters_all[2]\n",
    "c=iters.groupby(['flex_blocked']).mean()\n",
    "c.reset_index(inplace=True)\n",
    "\n",
    "e=sns.catplot(y='RT',x='flex_blocked',data=c,kind='bar',ci='sd',palette='Set1')\n",
    "plt.title('Distractor Cue: Flexible versus Blocked')\n",
    "plt.show()\n",
    "\n",
    "e.set_axis_labels('distractor predictability','RT')"
   ]
  },
  {
   "cell_type": "markdown",
   "metadata": {},
   "source": [
    "## ****STATS ****"
   ]
  },
  {
   "cell_type": "markdown",
   "metadata": {},
   "source": [
    "## iteration no 2"
   ]
  },
  {
   "cell_type": "code",
   "execution_count": null,
   "metadata": {},
   "outputs": [],
   "source": [
    "iteration2=all_iters_sub[1]\n",
    "i2=iteration2[0]\n",
    "i2[i2.validity==0.65][i2.cue=='target'].RT.mean()"
   ]
  },
  {
   "cell_type": "code",
   "execution_count": null,
   "metadata": {},
   "outputs": [],
   "source": [
    "iteration2=all_iters_sub[1]\n",
    "tar65means=[]\n",
    "tar95means=[]\n",
    "tar33means=[]\n",
    "dis65means=[]\n",
    "dis95means=[]\n",
    "dis33means=[]\n",
    "for subject in iteration2:\n",
    "    i2=subject\n",
    "    tar65means.append(i2[i2.validity==0.65][i2.cue=='target'].RT.mean())\n",
    "    tar95means.append(i2[i2.validity==0.95][i2.cue=='target'].RT.mean())\n",
    "    tar33means.append(i2[i2.validity==0.3333333333333333][i2.cue=='target'].RT.mean())\n",
    "    dis65means.append(i2[i2.validity==0.65][i2.cue=='distractor'].RT.mean())\n",
    "    dis95means.append(i2[i2.validity==0.95][i2.cue=='distractor'].RT.mean())\n",
    "    dis33means.append(i2[i2.validity==0.3333333333333333][i2.cue=='distractor'].RT.mean())\n",
    "if len(tar65means) != len(iteration2):\n",
    "    print('error!!!')\n",
    "len(tar65means)"
   ]
  },
  {
   "cell_type": "code",
   "execution_count": null,
   "metadata": {},
   "outputs": [],
   "source": [
    "t,p=scipy.stats.ttest_rel(tar65means,tar33means)\n",
    "print('tar 33/65')\n",
    "print(t)\n",
    "print(p)\n",
    "t,p=scipy.stats.ttest_rel(tar95means,tar33means)\n",
    "print('tar 33/95')\n",
    "print(t)\n",
    "print(p)\n",
    "t,p=scipy.stats.ttest_rel(tar65means,tar95means)\n",
    "print('tar 95/65')\n",
    "print(t)\n",
    "print(p)\n",
    "t,p=scipy.stats.ttest_rel(dis65means,dis33means)\n",
    "print('dis 33/65')\n",
    "print(t)\n",
    "print(p)\n",
    "t,p=scipy.stats.ttest_rel(dis95means,dis33means)\n",
    "print('dis 33/95')\n",
    "print(t)\n",
    "print(p)\n",
    "t,p=scipy.stats.ttest_rel(dis65means,dis95means)\n",
    "print('dis 95/65')\n",
    "print(t)\n",
    "print(p)"
   ]
  },
  {
   "cell_type": "code",
   "execution_count": null,
   "metadata": {},
   "outputs": [],
   "source": [
    "#i2=all_iters_all[1]\n",
    "i2.columns=[u'flex or blocked?', u'no stim', u'allCircsFlag', u'TarInDistFlag',\n",
    "       u'lateralized?', u'neutral?', u'block', u'cue', u'validity',\n",
    "       u'trialNum', u'trial_type', u'corrResp', u'subResp', u'trialCorr',\n",
    "       u'RT', u'stim_loc(T,D)', u'tarinDisCond', u'ITI', u'sub']\n",
    "#tar65acc=list(i2[i2.validity==0.65][i2.cue=='target'].trialCorr)\n",
    "tar95acc=list(i2[i2.validity==0.95][i2.cue=='target'].trialCorr)\n",
    "tar33acc=list(i2[i2.validity==0.3333333333333333][i2.cue=='target'].trialCorr)\n",
    "#tar95acc"
   ]
  },
  {
   "cell_type": "code",
   "execution_count": null,
   "metadata": {},
   "outputs": [],
   "source": [
    "m65=(sum(tar65acc)/len(tar65acc))\n",
    "m95=(sum(tar95acc)/len(tar95acc))\n"
   ]
  },
  {
   "cell_type": "code",
   "execution_count": null,
   "metadata": {},
   "outputs": [],
   "source": [
    "t,p=scipy.stats.ttest_ind(m65,m95)\n",
    "print('65/95')\n",
    "print(t)\n",
    "print(p)"
   ]
  },
  {
   "cell_type": "markdown",
   "metadata": {},
   "source": [
    "## iter 3"
   ]
  },
  {
   "cell_type": "code",
   "execution_count": null,
   "metadata": {
    "scrolled": true
   },
   "outputs": [],
   "source": [
    "iteration3=all_iters_sub[2]\n",
    "tar95uni=[]\n",
    "tar33uni=[]\n",
    "dis95uni=[]\n",
    "dis33uni=[]\n",
    "tar95bi=[]\n",
    "tar33bi=[]\n",
    "dis95bi=[]\n",
    "dis33bi=[]\n",
    "for subject in iteration3:\n",
    "    i3=subject\n",
    "    i3.columns=[u'flex or blocked?', u'no stim', u'allCircsFlag', u'TarInDistFlag',\n",
    "           u'lateralized?', u'neutral?', u'block', u'cue', u'validity',\n",
    "           u'uni_bi_lat', u'trialNum', u'trial_type', u'corrResp', u'subResp',\n",
    "           u'trialCorr?', u'RT', u'stim_loc(T,D)', u'tarinDisCond', u'ITI',\n",
    "           u'sub']\n",
    "    tar95uni.append(i3[i3.validity==0.95][i3.cue=='target'][i3.uni_bi_lat=='uni'].RT.mean())\n",
    "    tar33uni.append(i3[i3.validity==0.3333333333333333][i3.cue=='target'][i3.uni_bi_lat=='uni'].RT.mean())\n",
    "    dis95uni.append(i3[i3.validity==0.95][i3.cue=='distractor'][i3.uni_bi_lat=='uni'].RT.mean())\n",
    "    dis33uni.append(i3[i3.validity==0.3333333333333333][i3.cue=='distractor'][i3.uni_bi_lat=='uni'].RT.mean())\n",
    "    tar95bi.append(i3[i3.validity==0.95][i3.cue=='target'][i3.uni_bi_lat=='bi'].RT.mean())\n",
    "    tar33bi.append(i3[i3.validity==0.3333333333333333][i3.cue=='target'][i3.uni_bi_lat=='bi'].RT.mean())\n",
    "    dis95bi.append(i3[i3.validity==0.95][i3.cue=='distractor'][i3.uni_bi_lat=='bi'].RT.mean())\n",
    "    dis33bi.append(i3[i3.validity==0.3333333333333333][i3.cue=='distractor'][i3.uni_bi_lat=='bi'].RT.mean())\n",
    "#i3.columnsc\n",
    "len(tar95uni)"
   ]
  },
  {
   "cell_type": "code",
   "execution_count": null,
   "metadata": {},
   "outputs": [],
   "source": [
    "t,p=scipy.stats.ttest_rel(dis95uni,dis33uni)\n",
    "print('dis 33/95 uni')\n",
    "print(t)\n",
    "print(p)\n",
    "t,p=scipy.stats.ttest_rel(tar95uni,tar33uni)\n",
    "print('tar 33/95 uni')\n",
    "print(t)\n",
    "print(p)\n",
    "t,p=scipy.stats.ttest_rel(tar95bi,tar33bi)\n",
    "print('tar 95/65 bi')\n",
    "print(t)\n",
    "print(p)\n",
    "t,p=scipy.stats.ttest_rel(dis95bi,dis33bi)\n",
    "print('dis 95/65 bi')\n",
    "print(t)\n",
    "print(p)"
   ]
  },
  {
   "cell_type": "code",
   "execution_count": null,
   "metadata": {},
   "outputs": [],
   "source": [
    "#scipy.stats.f_oneway(tar33uni,tar95uni,tar33uni)\n"
   ]
  },
  {
   "cell_type": "markdown",
   "metadata": {},
   "source": [
    "## iteration 4"
   ]
  },
  {
   "cell_type": "code",
   "execution_count": null,
   "metadata": {},
   "outputs": [],
   "source": [
    "iteration4=all_iters_sub[3]\n",
    "tar95flex=[]\n",
    "tar95block=[]\n",
    "dis95flex=[]\n",
    "dis95block=[]\n",
    "neutralblock=[]\n",
    "neutralflex=[]\n",
    "for subject in iteration4:\n",
    "    i4=subject\n",
    "    i4.columns=[u'flex and blocked?', u'no stim', u'allCircsFlag', u'TarInDistFlag',\n",
    "           u'lateralized?', u'neutral?', u'block', u'cue', u'validity',\n",
    "           u'uni or bi lat?', u'flex_or_blocked', u'trialNum', u'trial_type',\n",
    "           u'corrResp', u'subResp', u'trialCorr?', u'RT', u'stim_loc(T,D)',\n",
    "           u'tarinDisCond', u'ITI', u'sub']\n",
    "    tar95flex.append(i4[i4.validity==0.95][i4.cue=='target'][i4.flex_or_blocked=='flex'].RT.mean())\n",
    "    dis95flex.append(i4[i4.validity==0.95][i4.cue=='distractor'][i4.flex_or_blocked=='flex'].RT.mean())\n",
    "    tar95block.append(i4[i4.validity==0.95][i4.cue=='target'][i4.flex_or_blocked=='blocked'].RT.mean())\n",
    "    dis95block.append(i4[i4.validity==0.95][i4.cue=='distractor'][i4.flex_or_blocked=='blocked'].RT.mean())\n",
    "    neutralblock.append(i4[i4.validity==0.0][i4.cue=='neutral'][i4.flex_or_blocked=='blocked'].RT.mean())\n",
    "    neutralflex.append(i4[i4.validity==0.0][i4.cue=='neutral'][i4.flex_or_blocked=='flex'].RT.mean())"
   ]
  },
  {
   "cell_type": "code",
   "execution_count": null,
   "metadata": {},
   "outputs": [],
   "source": [
    "t,p=scipy.stats.ttest_rel(dis95flex,neutralflex)\n",
    "print('dis 95 flex-neutral')\n",
    "print(t)\n",
    "print(p)\n",
    "t,p=scipy.stats.ttest_rel(tar95flex,neutralflex)\n",
    "print('tar 95 flex-neutral')\n",
    "print(t)\n",
    "print(p)\n",
    "t,p=scipy.stats.ttest_rel(tar95block,neutralblock)\n",
    "print('tar 95 block')\n",
    "print(t)\n",
    "print(p)\n",
    "t,p=scipy.stats.ttest_rel(dis95block,neutralblock)\n",
    "print('dis 95 block')\n",
    "print(t)\n",
    "print(p)"
   ]
  },
  {
   "cell_type": "code",
   "execution_count": null,
   "metadata": {
    "scrolled": true
   },
   "outputs": [],
   "source": [
    "t,p=scipy.stats.ttest_rel(dis95flex,dis95block)\n",
    "print('dis 95 flex-block')\n",
    "print(t)\n",
    "print(p)\n",
    "t,p=scipy.stats.ttest_rel(tar95flex,tar95block)\n",
    "print('tar 95 flex-block')\n",
    "print(t)\n",
    "print(p)\n"
   ]
  },
  {
   "cell_type": "code",
   "execution_count": null,
   "metadata": {
    "scrolled": true
   },
   "outputs": [],
   "source": [
    "all_iters_sub[0][1]"
   ]
  },
  {
   "cell_type": "markdown",
   "metadata": {},
   "source": [
    "## iter5"
   ]
  },
  {
   "cell_type": "code",
   "execution_count": null,
   "metadata": {
    "scrolled": true
   },
   "outputs": [],
   "source": [
    "iteration5=all_iters_sub[0]\n",
    "disHi=[]\n",
    "disLo=[]\n",
    "disAbsent_valid=[]\n",
    "disPresent_valid=[]\n",
    "disAbsent_invalid=[]\n",
    "disPresent_invalid=[]\n",
    "tarHi=[]\n",
    "tarLo=[]\n",
    "hi_prob_present_v=[]\n",
    "hi_prob_present_i=[]\n",
    "hi_prob_absent_v=[]\n",
    "hi_prob_absent_i=[]\n",
    "no_hi_prob_present_v=[]\n",
    "no_hi_prob_present_i=[]\n",
    "no_hi_prob_absent_v=[]\n",
    "no_hi_prob_absent_i=[]\n",
    "for subject in iteration5:\n",
    "    i5=subject\n",
    "    i5.columns=[u'block', u'tarCue_validity', u'disCue_validity', u'highProbLoc?',\n",
    "       u'highProbLocation', u'likelyDisHemisphere', u'trialNum', u'tarVorI',\n",
    "       u'disCue', u'disPresentOrAbsent', u'disVorI', u'distractor_loc',\n",
    "       u'corrResp', u'subResp', u'trialCorr?', u'RT', u'stim_loc(T,D)', u'ITI',\n",
    "       u'triggers', u'sub','highProb']\n",
    "    #highprobs=i5['highProbLoc?']\n",
    "    #i5['highProb']=highprobs\n",
    "    disHi.append(i5[i5.disCue_validity=='100%'].RT.mean())\n",
    "    disLo.append(i5[i5.disCue_validity=='50%'].RT.mean())\n",
    "    disAbsent_valid.append(i5[i5.disCue=='Absent'][i5.disPresentOrAbsent=='Absent'].RT.mean())\n",
    "    disPresent_valid.append(i5[i5.disCue=='Present'][i5.disPresentOrAbsent=='Present'].RT.mean())\n",
    "    disPresent_invalid.append(i5[i5.disCue=='Present'][i5.disPresentOrAbsent=='Absent'].RT.mean())\n",
    "    disAbsent_invalid.append(i5[i5.disCue=='Absent'][i5.disPresentOrAbsent=='Present'].RT.mean())\n",
    "    tarHi.append(i5[i5.tarCue_validity=='100%'].RT.mean())\n",
    "    tarLo.append(i5[i5.tarCue_validity=='50%'].RT.mean())\n",
    "    hi_prob_present_v.append(i5[i5.highProb=='Yes'][i5.disCue=='Present'][i5.disPresentOrAbsent=='Present'].RT.mean())\n",
    "    hi_prob_present_i.append(i5[i5.highProb=='Yes'][i5.disCue=='Present'][i5.disPresentOrAbsent=='Absent'].RT.mean())\n",
    "    hi_prob_absent_v.append(i5[i5.highProb=='Yes'][i5.disCue=='Absent'][i5.disPresentOrAbsent=='Absent'].RT.mean())\n",
    "    hi_prob_absent_i.append(i5[i5.highProb=='Yes'][i5.disCue=='Absent'][i5.disPresentOrAbsent=='Present'].RT.mean())\n",
    "    no_hi_prob_present_v.append(i5[i5.highProb=='No'][i5.disCue=='Present'][i5.disPresentOrAbsent=='Present'].RT.mean())\n",
    "    no_hi_prob_present_i.append(i5[i5.highProb=='No'][i5.disCue=='Present'][i5.disPresentOrAbsent=='Absent'].RT.mean())\n",
    "    no_hi_prob_absent_v.append(i5[i5.highProb=='No'][i5.disCue=='Absent'][i5.disPresentOrAbsent=='Absent'].RT.mean())\n",
    "    no_hi_prob_absent_i.append(i5[i5.highProb=='No'][i5.disCue=='Absent'][i5.disPresentOrAbsent=='Present'].RT.mean())\n",
    "    \n",
    "    #neutralflex.append(i4[i4.validity==0.0][i4.cue=='neutral'][i4.flex_or_blocked=='flex'].RT.mean())"
   ]
  },
  {
   "cell_type": "code",
   "execution_count": null,
   "metadata": {},
   "outputs": [],
   "source": [
    "t,p=scipy.stats.ttest_rel(disHi,disLo)\n",
    "print('dis hi-lo')\n",
    "print(t)\n",
    "print(p)\n",
    "t,p=scipy.stats.ttest_rel(disAbsent_valid,disAbsent_invalid)\n",
    "print('\\n')\n",
    "print('dis absent valid-invalid')\n",
    "print(t)\n",
    "print(p)\n",
    "t,p=scipy.stats.ttest_rel(disPresent_valid,disPresent_invalid)\n",
    "print('\\n')\n",
    "print('dis present valid-invalid')\n",
    "print(t)\n",
    "print(p)\n",
    "t,p=scipy.stats.ttest_rel(tarHi,tarLo)\n",
    "print('\\n')\n",
    "print('tar hi-lo')\n",
    "print(t)\n",
    "print(p)\n",
    "t,p=scipy.stats.ttest_rel(hi_prob_present_v,hi_prob_present_i)\n",
    "print('\\n')\n",
    "print('hi prob present cue valid-invalid')\n",
    "print(t)\n",
    "print(p)\n",
    "t,p=scipy.stats.ttest_rel(hi_prob_absent_v,hi_prob_absent_i)\n",
    "print('\\n')\n",
    "print('hi prob absent cue valid-invalid')\n",
    "print(t)\n",
    "print(p)\n",
    "t,p=scipy.stats.ttest_rel(no_hi_prob_present_v,no_hi_prob_present_i)\n",
    "print('\\n')\n",
    "print('no hi prob present cue valid-invalid')\n",
    "print(t)\n",
    "print(p)\n",
    "t,p=scipy.stats.ttest_rel(no_hi_prob_absent_v,no_hi_prob_absent_i)\n",
    "print('\\n')\n",
    "print('no hi prob absent cue valid-invalid')\n",
    "print(t)\n",
    "print(p)\n",
    "t,p=scipy.stats.ttest_rel(hi_prob_present_v,no_hi_prob_present_v)\n",
    "print('\\n')\n",
    "print('present cue valid: hi prob v no hi prob')\n",
    "print(t)\n",
    "print(p)\n"
   ]
  },
  {
   "cell_type": "code",
   "execution_count": null,
   "metadata": {},
   "outputs": [],
   "source": [
    "#all_iters_sub[0][0]#.disCue_validity=='100%'"
   ]
  },
  {
   "cell_type": "code",
   "execution_count": null,
   "metadata": {},
   "outputs": [],
   "source": [
    "all_iters_sub[1][0].columns"
   ]
  },
  {
   "cell_type": "code",
   "execution_count": null,
   "metadata": {},
   "outputs": [],
   "source": []
  },
  {
   "cell_type": "markdown",
   "metadata": {},
   "source": [
    "## iter6"
   ]
  },
  {
   "cell_type": "code",
   "execution_count": null,
   "metadata": {
    "scrolled": true
   },
   "outputs": [],
   "source": [
    "iteration6=all_iters_sub[1]\n",
    "noTar_lo=[]\n",
    "noTar_hi=[]\n",
    "tar_lo=[]\n",
    "tar_hi=[]\n",
    "for subject in iteration6:\n",
    "    i6=subject\n",
    "    i6.columns=[u'block', u'tarCue_validity', u'disCue_validity', u'highProbLoc?',\n",
    "       u'highProbLocation', u'likelyDisHemisphere', u'trialNum', u'disCue',\n",
    "       u'disPresentOrAbsent', u'disVorI', u'distractor_loc', u'corrResp',\n",
    "       u'subResp', u'trialCorr?', u'RT', u'stim_loc(T,D)', u'ITI', u'triggers',\n",
    "       u'sub']\n",
    "    noTar_lo.append(i6[i6.tarCue_validity=='None'][i6.disCue_validity=='50%'].RT.mean())\n",
    "    noTar_hi.append(i6[i6.tarCue_validity=='None'][i6.disCue_validity=='100%'].RT.mean())\n",
    "    tar_lo.append(i6[i6.tarCue_validity=='100%'][i6.disCue_validity=='50%'].RT.mean())\n",
    "    tar_hi.append(i6[i6.tarCue_validity=='100%'][i6.disCue_validity=='100%'].RT.mean())"
   ]
  },
  {
   "cell_type": "code",
   "execution_count": null,
   "metadata": {},
   "outputs": [],
   "source": [
    "t,p=scipy.stats.ttest_rel(noTar_hi,noTar_lo)\n",
    "print('no Target, dis hi-lo')\n",
    "print(t)\n",
    "print(p)\n",
    "t,p=scipy.stats.ttest_rel(noTar_hi,tar_hi)\n",
    "print('no target cue hi, target cue hi')\n",
    "print(t)\n",
    "print(p)\n",
    "t,p=scipy.stats.ttest_rel(noTar_lo, tar_lo)\n",
    "print('no tar cue lo, target cue lo')\n",
    "print(t)\n",
    "print(p)"
   ]
  },
  {
   "cell_type": "markdown",
   "metadata": {},
   "source": [
    "## iter7"
   ]
  },
  {
   "cell_type": "code",
   "execution_count": null,
   "metadata": {},
   "outputs": [],
   "source": [
    "iteration7=all_iters_sub[2]\n",
    "flex=[]\n",
    "blocked=[]\n",
    "for subject in iteration7:\n",
    "    i7=subject\n",
    "    i7.columns=[u'block', u'flex_blocked', u'trialNum', u'corrResp', u'subResp',\n",
    "       u'trialCorr?', u'RT', u'stim_loc(T,D)', u'ITI', u'sub']\n",
    "    flex.append(i7[i7.flex_blocked=='flex'].RT.mean())\n",
    "    blocked.append(i7[i7.flex_blocked=='block'].RT.mean())"
   ]
  },
  {
   "cell_type": "code",
   "execution_count": null,
   "metadata": {},
   "outputs": [],
   "source": [
    "t,p=scipy.stats.ttest_rel(flex,blocked)\n",
    "print('flex v blocked')\n",
    "print(t)\n",
    "print(p)\n"
   ]
  },
  {
   "cell_type": "code",
   "execution_count": null,
   "metadata": {},
   "outputs": [],
   "source": []
  },
  {
   "cell_type": "code",
   "execution_count": null,
   "metadata": {},
   "outputs": [],
   "source": []
  }
 ],
 "metadata": {
  "kernelspec": {
   "display_name": "Python 3",
   "language": "python",
   "name": "python3"
  },
  "language_info": {
   "codemirror_mode": {
    "name": "ipython",
    "version": 3
   },
   "file_extension": ".py",
   "mimetype": "text/x-python",
   "name": "python",
   "nbconvert_exporter": "python",
   "pygments_lexer": "ipython3",
   "version": "3.7.1"
  }
 },
 "nbformat": 4,
 "nbformat_minor": 2
}
