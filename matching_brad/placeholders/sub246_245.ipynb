{
 "cells": [
  {
   "cell_type": "code",
   "execution_count": 11,
   "metadata": {},
   "outputs": [],
   "source": [
    "import mne\n",
    "import os"
   ]
  },
  {
   "cell_type": "code",
   "execution_count": 12,
   "metadata": {},
   "outputs": [],
   "source": [
    "raw_dat_path='/home/dcellier/RDSS/AlphaStudy_Data/eegData/eeg_raw/'"
   ]
  },
  {
   "cell_type": "code",
   "execution_count": 13,
   "metadata": {},
   "outputs": [
    {
     "name": "stdout",
     "output_type": "stream",
     "text": [
      "Extracting EDF parameters from /home/dcellier/RDSS/AlphaStudy_Data/eegData/eeg_raw/sub_245_alpha_placeholders_02_04_20.bdf...\n",
      "BDF file detected\n",
      "Setting channel info structure...\n",
      "Creating raw.info structure...\n",
      "Reading 0 ... 538111  =      0.000 ...  1050.998 secs...\n"
     ]
    },
    {
     "name": "stderr",
     "output_type": "stream",
     "text": [
      "<ipython-input-13-49e1fadd6703>:1: DeprecationWarning: The use of read_raw_edf for BDF files is deprecated. Please use read_raw_bdf instead.\n",
      "  raw1=mne.io.read_raw_edf(raw_dat_path+'sub_245_alpha_placeholders_02_04_20.bdf',montage=mne.channels.read_montage('biosemi64'),preload=True)\n",
      "<ipython-input-13-49e1fadd6703>:1: RuntimeWarning: The following EEG sensors did not have a position specified in the selected montage: ['EXG1', 'EXG2', 'EXG3', 'EXG4', 'EXG5', 'EXG6', 'EXG7', 'EXG8']. Their position has been left untouched.\n",
      "  raw1=mne.io.read_raw_edf(raw_dat_path+'sub_245_alpha_placeholders_02_04_20.bdf',montage=mne.channels.read_montage('biosemi64'),preload=True)\n"
     ]
    },
    {
     "name": "stdout",
     "output_type": "stream",
     "text": [
      "Extracting EDF parameters from /home/dcellier/RDSS/AlphaStudy_Data/eegData/eeg_raw/sub_245_alpha_placeholders_02_041_20.bdf...\n",
      "BDF file detected\n",
      "Setting channel info structure...\n",
      "Creating raw.info structure...\n",
      "Reading 0 ... 1614847  =      0.000 ...  3153.998 secs...\n"
     ]
    },
    {
     "name": "stderr",
     "output_type": "stream",
     "text": [
      "<ipython-input-13-49e1fadd6703>:2: DeprecationWarning: The use of read_raw_edf for BDF files is deprecated. Please use read_raw_bdf instead.\n",
      "  raw2=mne.io.read_raw_edf(raw_dat_path+'sub_245_alpha_placeholders_02_041_20.bdf',montage=mne.channels.read_montage('biosemi64'),preload=True)\n",
      "<ipython-input-13-49e1fadd6703>:2: RuntimeWarning: The following EEG sensors did not have a position specified in the selected montage: ['EXG1', 'EXG2', 'EXG3', 'EXG4', 'EXG5', 'EXG6', 'EXG7', 'EXG8']. Their position has been left untouched.\n",
      "  raw2=mne.io.read_raw_edf(raw_dat_path+'sub_245_alpha_placeholders_02_041_20.bdf',montage=mne.channels.read_montage('biosemi64'),preload=True)\n"
     ]
    }
   ],
   "source": [
    "raw1=mne.io.read_raw_edf(raw_dat_path+'sub_245_alpha_placeholders_02_04_20.bdf',montage=mne.channels.read_montage('biosemi64'),preload=True)\n",
    "raw2=mne.io.read_raw_edf(raw_dat_path+'sub_245_alpha_placeholders_02_041_20.bdf',montage=mne.channels.read_montage('biosemi64'),preload=True)"
   ]
  },
  {
   "cell_type": "code",
   "execution_count": 14,
   "metadata": {},
   "outputs": [],
   "source": [
    "combineRaws=mne.concatenate_raws([raw1,raw2])"
   ]
  },
  {
   "cell_type": "code",
   "execution_count": 15,
   "metadata": {},
   "outputs": [
    {
     "name": "stdout",
     "output_type": "stream",
     "text": [
      "Writing /mnt/cifs/rdss/rdss_kahwang/AlphaStudy_Data/eegData/eeg_raw/sub_245_alpha_placeholders_02_04_20.bdf\n"
     ]
    },
    {
     "name": "stderr",
     "output_type": "stream",
     "text": [
      "<ipython-input-15-720a568d10d0>:1: RuntimeWarning: This filename (/home/dcellier/RDSS/AlphaStudy_Data/eegData/eeg_raw/sub_245_alpha_placeholders_02_04_20.bdf) does not conform to MNE naming conventions. All raw files should end with raw.fif, raw_sss.fif, raw_tsss.fif, raw.fif.gz, raw_sss.fif.gz or raw_tsss.fif.gz\n",
      "  combineRaws.save(raw_dat_path+'sub_245_alpha_placeholders_02_04_20.bdf')\n"
     ]
    },
    {
     "name": "stdout",
     "output_type": "stream",
     "text": [
      "Closing /mnt/cifs/rdss/rdss_kahwang/AlphaStudy_Data/eegData/eeg_raw/sub_245_alpha_placeholders_02_04_20.bdf [done]\n"
     ]
    }
   ],
   "source": [
    "#combineRaws.save(raw_dat_path+'sub_245_alpha_placeholders_02_04_20.bdf')"
   ]
  },
  {
   "cell_type": "code",
   "execution_count": null,
   "metadata": {},
   "outputs": [],
   "source": []
  }
 ],
 "metadata": {
  "kernelspec": {
   "display_name": "Python 3",
   "language": "python",
   "name": "python3"
  },
  "language_info": {
   "codemirror_mode": {
    "name": "ipython",
    "version": 3
   },
   "file_extension": ".py",
   "mimetype": "text/x-python",
   "name": "python",
   "nbconvert_exporter": "python",
   "pygments_lexer": "ipython3",
   "version": "3.7.1"
  }
 },
 "nbformat": 4,
 "nbformat_minor": 2
}
