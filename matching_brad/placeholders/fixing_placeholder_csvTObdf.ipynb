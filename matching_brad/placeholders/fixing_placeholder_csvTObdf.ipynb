{
 "cells": [
  {
   "cell_type": "code",
   "execution_count": 1,
   "metadata": {},
   "outputs": [],
   "source": [
    "import mne\n",
    "from mne.datasets import sample\n",
    "from mne import io\n",
    "from mne.preprocessing import create_ecg_epochs, create_eog_epochs\n",
    "from mne.preprocessing import ICA\n",
    "import numpy as np\n",
    "import pandas as pd\n",
    "import matplotlib.pyplot as plt\n",
    "import os \n",
    "from os import path\n",
    "import fnmatch\n"
   ]
  },
  {
   "cell_type": "code",
   "execution_count": 2,
   "metadata": {},
   "outputs": [],
   "source": [
    "#test=mne.io.read_raw_bdf('/home/dcellier/RDSS/AlphaStudy_Data/eegData/eeg_eyetracking/extra_or_defunct/sub_212_eyetracking_testing.bdf',montage=mne.channels.read_montage('biosemi64'),preload=True)"
   ]
  },
  {
   "cell_type": "code",
   "execution_count": 3,
   "metadata": {},
   "outputs": [],
   "source": [
    "#test.plot()"
   ]
  },
  {
   "cell_type": "code",
   "execution_count": 4,
   "metadata": {},
   "outputs": [],
   "source": [
    "ROOT_eeg='/home/dcellier/RDSS/AlphaStudy_Data/eegData/eeg_raw/'\n",
    "ROOT_behav='/home/dcellier/RDSS/AlphaStudy_Data/eegData/eeg_behavior_data/'\n",
    "ROOT_eyetrack='/data/backed_up/shared/AlphaStudy_data/placeholders/eyetracking_compiled_trials/'"
   ]
  },
  {
   "cell_type": "code",
   "execution_count": 62,
   "metadata": {
    "scrolled": true
   },
   "outputs": [
    {
     "name": "stdout",
     "output_type": "stream",
     "text": [
      "Extracting EDF parameters from /home/dcellier/RDSS/AlphaStudy_Data/eegData/eeg_raw/sub_233_alpha_placeholders_01_23_20.bdf...\n",
      "BDF file detected\n",
      "Setting channel info structure...\n",
      "Creating raw.info structure...\n",
      "Reading 0 ... 2202111  =      0.000 ...  4300.998 secs...\n"
     ]
    },
    {
     "name": "stderr",
     "output_type": "stream",
     "text": [
      "<ipython-input-62-340d72ad9b91>:1: RuntimeWarning: The following EEG sensors did not have a position specified in the selected montage: ['EXG1', 'EXG2', 'EXG3', 'EXG4', 'EXG5', 'EXG6', 'EXG7', 'EXG8']. Their position has been left untouched.\n",
      "  testing_sub=mne.io.read_raw_bdf(ROOT_eeg+'sub_233_alpha_placeholders_01_23_20.bdf',montage=mne.channels.read_montage('biosemi64'),preload=True)\n"
     ]
    }
   ],
   "source": [
    "testing_sub=mne.io.read_raw_bdf(ROOT_eeg+'sub_233_alpha_placeholders_01_23_20.bdf',montage=mne.channels.read_montage('biosemi64'),preload=True)"
   ]
  },
  {
   "cell_type": "code",
   "execution_count": 63,
   "metadata": {
    "scrolled": true
   },
   "outputs": [
    {
     "data": {
      "text/plain": [
       "<Info | 17 non-empty fields\n",
       "    bads : list | 0 items\n",
       "    ch_names : list | Fp1, AF7, AF3, F1, F3, F5, F7, FT7, FC5, ...\n",
       "    chs : list | 73 items (EEG: 72, STIM: 1)\n",
       "    comps : list | 0 items\n",
       "    custom_ref_applied : bool | False\n",
       "    dev_head_t : Transform | 3 items\n",
       "    dig : list | 67 items (3 Cardinal, 64 EEG)\n",
       "    events : list | 0 items\n",
       "    highpass : float | 0.0 Hz\n",
       "    hpi_meas : list | 0 items\n",
       "    hpi_results : list | 0 items\n",
       "    lowpass : float | 104.0 Hz\n",
       "    meas_date : tuple | 2020-01-23 09:59:13 GMT\n",
       "    nchan : int | 73\n",
       "    proc_history : list | 0 items\n",
       "    projs : list | 0 items\n",
       "    sfreq : float | 512.0 Hz\n",
       "    acq_pars : NoneType\n",
       "    acq_stim : NoneType\n",
       "    ctf_head_t : NoneType\n",
       "    description : NoneType\n",
       "    dev_ctf_t : NoneType\n",
       "    experimenter : NoneType\n",
       "    file_id : NoneType\n",
       "    gantry_angle : NoneType\n",
       "    hpi_subsystem : NoneType\n",
       "    kit_system_id : NoneType\n",
       "    line_freq : NoneType\n",
       "    meas_id : NoneType\n",
       "    proj_id : NoneType\n",
       "    proj_name : NoneType\n",
       "    subject_info : NoneType\n",
       "    xplotter_layout : NoneType\n",
       ">"
      ]
     },
     "execution_count": 63,
     "metadata": {},
     "output_type": "execute_result"
    }
   ],
   "source": [
    "testing_sub.info"
   ]
  },
  {
   "cell_type": "code",
   "execution_count": 64,
   "metadata": {},
   "outputs": [
    {
     "name": "stdout",
     "output_type": "stream",
     "text": [
      "233_alpha_placeholders_matchingBrad_01_1_2020_Jan_23_0957.csv\n",
      "233_alpha_placeholders_matchingBrad_01_2_2020_Jan_23_1007.csv\n",
      "233_alpha_placeholders_matchingBrad_01_3_2020_Jan_23_1014.csv\n",
      "233_alpha_placeholders_matchingBrad_01_4_2020_Jan_23_1021.csv\n",
      "233_alpha_placeholders_matchingBrad_01_5_2020_Jan_23_1029.csv\n",
      "233_alpha_placeholders_matchingBrad_01_6_2020_Jan_23_1035.csv\n",
      "233_alpha_placeholders_matchingBrad_01_7_2020_Jan_23_1042.csv\n",
      "233_alpha_placeholders_matchingBrad_01_9_2020_Jan_23_1058.csv\n",
      "233_alpha_placeholders_matchingBrad_01_10_2020_Jan_23_1105.csv\n",
      "233_alpha_placeholders_matchingBrad_01_8_2020_Jan_23_1051.csv\n",
      "compiledAllBlocks_fromPreprocScript_s233_before_eyes.csv\n",
      "compiledAllBlocks_fromPreprocScript_s233_after_eyes.csv\n"
     ]
    },
    {
     "name": "stderr",
     "output_type": "stream",
     "text": [
      "/home/dcellier/condaenvs/p3env/lib/python3.7/site-packages/pandas/core/frame.py:6211: FutureWarning: Sorting because non-concatenation axis is not aligned. A future version\n",
      "of pandas will change to not sort by default.\n",
      "\n",
      "To accept the future behavior, pass 'sort=False'.\n",
      "\n",
      "To retain the current behavior and silence the warning, pass 'sort=True'.\n",
      "\n",
      "  sort=sort)\n"
     ]
    }
   ],
   "source": [
    "behav_files=pd.DataFrame()\n",
    "all_files=[]\n",
    "for f in os.listdir(ROOT_behav):\n",
    "    if '233_' in f:\n",
    "        print(f)\n",
    "        behav_file=pd.read_csv(ROOT_behav+f,engine='python')\n",
    "        all_files.append(behav_file)\n",
    "        behav_files=behav_files.append(behav_file,ignore_index=True)\n",
    "#behav_files.dropna(axis=0,inplace=True,how='any')\n",
    "#print(behav_files)"
   ]
  },
  {
   "cell_type": "code",
   "execution_count": 65,
   "metadata": {},
   "outputs": [
    {
     "data": {
      "text/plain": [
       "Index(['Eyetrack_trial', 'ITI', 'RT', 'SOA', 'Tar,Dis,Other',\n",
       "       'Timestamp_start_cue', 'Timestamp_start_mask', 'Timestamp_start_probe',\n",
       "       'Timestamp_stop_cue', 'Timestamp_stop_mask', 'Timestamp_stop_probe',\n",
       "       'TrialTrigs(m,c,p)', 'Unnamed: 0', 'Unnamed: 0.1', 'block', 'corrResp',\n",
       "       'dis_color', 'leftX_cue', 'leftX_mask', 'leftX_probe', 'leftY_cue',\n",
       "       'leftY_mask', 'leftY_probe', 'rightX_cue', 'rightX_mask',\n",
       "       'rightX_probe', 'rightY_cue', 'rightY_mask', 'rightY_probe', 'subResp',\n",
       "       'tar,dis stim_loc', 'tar_color', 'trialCorr?', 'trialNum',\n",
       "       'trial_trigs', 'trial_type', 'triggers'],\n",
       "      dtype='object')"
      ]
     },
     "execution_count": 65,
     "metadata": {},
     "output_type": "execute_result"
    }
   ],
   "source": [
    "behav_files.columns"
   ]
  },
  {
   "cell_type": "code",
   "execution_count": 66,
   "metadata": {},
   "outputs": [],
   "source": [
    "behav_files=behav_files.sort_values(['block','trialNum'])\n",
    "#behav_files"
   ]
  },
  {
   "cell_type": "code",
   "execution_count": 67,
   "metadata": {},
   "outputs": [
    {
     "data": {
      "text/plain": [
       "array([ 1,  2,  3,  4,  5,  6,  7,  8,  9, 10])"
      ]
     },
     "execution_count": 67,
     "metadata": {},
     "output_type": "execute_result"
    }
   ],
   "source": [
    "np.unique(list(behav_files['block']))"
   ]
  },
  {
   "cell_type": "code",
   "execution_count": 68,
   "metadata": {},
   "outputs": [],
   "source": [
    "behav_files.to_csv('/home/dcellier/RDSS/AlphaStudy_Data/eegData/eeg_behavior_data/compiledAllBlocks_s233.csv')"
   ]
  },
  {
   "cell_type": "code",
   "execution_count": 69,
   "metadata": {},
   "outputs": [
    {
     "name": "stdout",
     "output_type": "stream",
     "text": [
      "233_alpha_placeholders_matchingBrad_01_1_2020_Jan_23_0957.csv\n",
      "233_alpha_placeholders_matchingBrad_01_2_2020_Jan_23_1007.csv\n",
      "233_alpha_placeholders_matchingBrad_01_3_2020_Jan_23_1014.csv\n",
      "233_alpha_placeholders_matchingBrad_01_4_2020_Jan_23_1021.csv\n",
      "233_alpha_placeholders_matchingBrad_01_5_2020_Jan_23_1029.csv\n",
      "233_alpha_placeholders_matchingBrad_01_6_2020_Jan_23_1035.csv\n",
      "233_alpha_placeholders_matchingBrad_01_7_2020_Jan_23_1042.csv\n",
      "233_alpha_placeholders_matchingBrad_01_9_2020_Jan_23_1058.csv\n",
      "233_alpha_placeholders_matchingBrad_01_10_2020_Jan_23_1105.csv\n",
      "233_alpha_placeholders_matchingBrad_01_8_2020_Jan_23_1051.csv\n"
     ]
    }
   ],
   "source": [
    "eyetrack_compiled_path='/data/backed_up/shared/AlphaStudy_data/placeholders/eyetracking_compiled_trials/'\n",
    "sub_name='233'\n",
    "pattern=sub_name+'_alpha_placeholders_matchingBrad_*_*_*_*_*_*.csv'\n",
    "pattern2=sub_name+'_alpha_placeholders_matchingBrad_*_*_*_*_*.csv'\n",
    "pattern3=sub_name+'_alpha_placeholders_matchingBrad_*_*_*_*_*_TRUNCATED_TO_MATCH_BDF.csv'\n",
    "pattern4=sub_name+'_alpha_placeholders_matchingBrad_*_*_*_*_*_*_TRUNCATED_TO_MATCH_BDF.csv'\n",
    "behav_files=pd.DataFrame()\n",
    "for f in os.listdir(ROOT_behav):\n",
    "    if fnmatch.fnmatch(f,pattern) or fnmatch.fnmatch(f,pattern2) or fnmatch.fnmatch(f,pattern3) or fnmatch.fnmatch(f,pattern4):\n",
    "        print(f)\n",
    "        behav_file=pd.read_csv(ROOT_behav+f,engine='python')\n",
    "        behav_files=behav_files.append(behav_file,ignore_index=True)\n",
    "behav_files_sorted=behav_files.sort_values(['block','trialNum']).reset_index()\n",
    "eyes=pd.read_csv(eyetrack_compiled_path+'sub_'+sub_name+'_trialsCompiled.csv')\n",
    "behav_files=pd.concat([behav_files_sorted,eyes],ignore_index=False,axis=1)"
   ]
  },
  {
   "cell_type": "code",
   "execution_count": 70,
   "metadata": {},
   "outputs": [],
   "source": [
    "#behav_files_sorted"
   ]
  },
  {
   "cell_type": "code",
   "execution_count": 71,
   "metadata": {},
   "outputs": [],
   "source": [
    "#behav_files"
   ]
  },
  {
   "cell_type": "code",
   "execution_count": 72,
   "metadata": {},
   "outputs": [
    {
     "name": "stdout",
     "output_type": "stream",
     "text": [
      "3022 events found\n",
      "Event IDs: [  101   103   105   107   109   111   113   115   117   119   121   123\n",
      "   125   127   129   131   133   135   225 65536 65737]\n"
     ]
    }
   ],
   "source": [
    "events=mne.find_events(testing_sub, initial_event=True,min_duration=(2/512))# 133 = start block flag, 135 = stop block"
   ]
  },
  {
   "cell_type": "code",
   "execution_count": 73,
   "metadata": {},
   "outputs": [
    {
     "name": "stdout",
     "output_type": "stream",
     "text": [
      "600 matching events found\n",
      "No baseline correction applied\n",
      "Adding metadata with 37 columns\n",
      "0 projection items activated\n"
     ]
    }
   ],
   "source": [
    "## Generating Epochs obj so I can make sure the metadata matches up\n",
    "cue_event_id={'disShortCue_trig':101,'disLongCue_trig':103,'tarShortCue_trig':105,\n",
    "             'tarLongCue_trig':107,'neutShortCue_trig':109, 'neutLongCue_trig':111}\n",
    "sub224_cueEps=mne.Epochs(testing_sub, events=events, baseline=None, event_id=cue_event_id,\n",
    "                         tmin=-1.3,tmax=1,metadata=behav_files)"
   ]
  },
  {
   "cell_type": "code",
   "execution_count": 74,
   "metadata": {},
   "outputs": [
    {
     "data": {
      "text/plain": [
       "600"
      ]
     },
     "execution_count": 74,
     "metadata": {},
     "output_type": "execute_result"
    }
   ],
   "source": [
    "len(behav_files)"
   ]
  },
  {
   "cell_type": "code",
   "execution_count": 75,
   "metadata": {},
   "outputs": [
    {
     "data": {
      "text/plain": [
       "0"
      ]
     },
     "execution_count": 75,
     "metadata": {},
     "output_type": "execute_result"
    }
   ],
   "source": [
    "np.sum(sub224_cueEps['disLongCue_trig'].metadata['SOA']!='long')"
   ]
  },
  {
   "cell_type": "code",
   "execution_count": 60,
   "metadata": {},
   "outputs": [
    {
     "data": {
      "text/plain": [
       "3020"
      ]
     },
     "execution_count": 60,
     "metadata": {},
     "output_type": "execute_result"
    }
   ],
   "source": [
    "len(events)"
   ]
  },
  {
   "cell_type": "code",
   "execution_count": 61,
   "metadata": {},
   "outputs": [
    {
     "ename": "IndexError",
     "evalue": "index 3020 is out of bounds for axis 0 with size 3020",
     "output_type": "error",
     "traceback": [
      "\u001b[0;31m---------------------------------------------------------------------------\u001b[0m",
      "\u001b[0;31mIndexError\u001b[0m                                Traceback (most recent call last)",
      "\u001b[0;32m<ipython-input-61-a14703fc69ec>\u001b[0m in \u001b[0;36m<module>\u001b[0;34m\u001b[0m\n\u001b[1;32m      8\u001b[0m \u001b[0mtrig_counter\u001b[0m\u001b[0;34m=\u001b[0m\u001b[0;36m0\u001b[0m\u001b[0;34m\u001b[0m\u001b[0;34m\u001b[0m\u001b[0m\n\u001b[1;32m      9\u001b[0m \u001b[0;32mwhile\u001b[0m \u001b[0mblock_counter\u001b[0m\u001b[0;34m<\u001b[0m\u001b[0;36m10\u001b[0m\u001b[0;34m:\u001b[0m \u001b[0;31m# we usually have 10 blocks of EEG\u001b[0m\u001b[0;34m\u001b[0m\u001b[0;34m\u001b[0m\u001b[0m\n\u001b[0;32m---> 10\u001b[0;31m     \u001b[0mev\u001b[0m\u001b[0;34m=\u001b[0m\u001b[0mevents\u001b[0m\u001b[0;34m[\u001b[0m\u001b[0mtrig_counter\u001b[0m\u001b[0;34m]\u001b[0m\u001b[0;34m\u001b[0m\u001b[0;34m\u001b[0m\u001b[0m\n\u001b[0m\u001b[1;32m     11\u001b[0m     \u001b[0;31m#print(trig_counter)\u001b[0m\u001b[0;34m\u001b[0m\u001b[0;34m\u001b[0m\u001b[0;34m\u001b[0m\u001b[0m\n\u001b[1;32m     12\u001b[0m \u001b[0;34m\u001b[0m\u001b[0m\n",
      "\u001b[0;31mIndexError\u001b[0m: index 3020 is out of bounds for axis 0 with size 3020"
     ]
    }
   ],
   "source": [
    "## SEPERATING TRIGS BY BLOCKS\n",
    "    # not all start_block trigs came through \n",
    "    # but all of the end block triggers did,\n",
    "    # so we're basing off of those\n",
    "\n",
    "blocks={}\n",
    "block_counter=0\n",
    "trig_counter=0\n",
    "while block_counter<10: # we usually have 10 blocks of EEG\n",
    "    ev=events[trig_counter]\n",
    "    #print(trig_counter)\n",
    "\n",
    "    if ev[2]==135: # then we've found the end of the block, move on to the next\n",
    "        blocks[str(block_counter)].append(ev)\n",
    "        block_counter += 1\n",
    "    else:\n",
    "        if str(block_counter) not in blocks.keys():\n",
    "            blocks[str(block_counter)]=[]\n",
    "        blocks[str(block_counter)].append(ev)\n",
    "        \n",
    "    trig_counter += 1\n",
    "        "
   ]
  },
  {
   "cell_type": "code",
   "execution_count": null,
   "metadata": {},
   "outputs": [],
   "source": [
    "for k in blocks.keys():\n",
    "    probe_count=len([ev[2] for ev in blocks[k] if ev[2] in [113,115,117,119,121,123]])\n",
    "    if probe_count < 60:\n",
    "        print('Block {0} has {1} probe events'.format(k,str(probe_count)))"
   ]
  },
  {
   "cell_type": "code",
   "execution_count": null,
   "metadata": {},
   "outputs": [],
   "source": [
    "ITI_evs=[ev[2] for ev in events if ev[2]==127]\n",
    "mask_evs=[ev[2] for ev in events if ev[2]==125]\n",
    "probe_evs=[ev[2] for ev in events if ev[2] in [113,115,117,119,121,123]]\n",
    "cue_evs=[ev[2] for ev in events if ev[2] in [101,103,105,107,109,111]]\n",
    "resp_evs=[ev[2] for ev in events if ev[2] in [129,131]]\n",
    "Startblock_evs=[ev[2] for ev in events if ev[2] ==133]\n",
    "Stopblock_evs=[ev[2] for ev in events if ev[2] ==135]\n",
    "print(\"Len ITI trigs: \"+ str(len(ITI_evs)))\n",
    "print(\"Len Mask trigs: \"+ str(len(mask_evs)))\n",
    "print(\"Len Probe trigs: \"+str(len(probe_evs)))\n",
    "print(\"Len cue events: \"+str(len(cue_evs)))\n",
    "print(\"Len responses: \"+str(len(resp_evs)))\n",
    "print(\"Len start block trigs: \"+str(len(Startblock_evs)))\n",
    "print(\"Len stop block trigs: \"+str(len(Stopblock_evs)))"
   ]
  },
  {
   "cell_type": "code",
   "execution_count": null,
   "metadata": {
    "scrolled": true
   },
   "outputs": [],
   "source": [
    "probe_block0=[ev[2] for ev in blocks['0'] if ev[2] in [113,115,117,119,121,123]]\n",
    "probe_block0\n",
    "enumerated_trigs=[]\n",
    "for i,p in enumerate(probe_block0):\n",
    "    enumerated_trigs.append([i,p])"
   ]
  },
  {
   "cell_type": "code",
   "execution_count": null,
   "metadata": {
    "scrolled": true
   },
   "outputs": [],
   "source": [
    "behav_trigs_probe_block0=list(behav_files[behav_files['block']==1]['trial_trigs'])\n",
    "behav_trigs_probe_block0[0][5:10]\n",
    "enumerated_behav=[]\n",
    "for i,p in enumerate(behav_trigs_probe_block0):\n",
    "    #print(i,int(p[5:9]))\n",
    "    enumerated_behav.append([i,int(p[5:9])])\n"
   ]
  },
  {
   "cell_type": "code",
   "execution_count": null,
   "metadata": {
    "scrolled": true
   },
   "outputs": [],
   "source": [
    "for t,b in zip(enumerated_trigs,enumerated_behav):\n",
    "    print(t,b)"
   ]
  },
  {
   "cell_type": "code",
   "execution_count": null,
   "metadata": {
    "scrolled": true
   },
   "outputs": [],
   "source": [
    "#cue_evs[:60]\n",
    "#cue_evs[60:120]\n",
    "#cue_evs[120:180]\n",
    "#cue_evs[180:240]"
   ]
  },
  {
   "cell_type": "code",
   "execution_count": null,
   "metadata": {},
   "outputs": [],
   "source": [
    "#all_trigs[:10]"
   ]
  },
  {
   "cell_type": "code",
   "execution_count": null,
   "metadata": {},
   "outputs": [],
   "source": [
    "mask_trigs=[ev[2] for ev in events if ev[2]==125]\n",
    "len(mask_trigs)"
   ]
  },
  {
   "cell_type": "code",
   "execution_count": null,
   "metadata": {},
   "outputs": [],
   "source": [
    "all_trigs=[ev[2] for ev in events if ev[2] in [101,103,105,107,109,111,113,115,117,119,121,123]]"
   ]
  },
  {
   "cell_type": "code",
   "execution_count": null,
   "metadata": {},
   "outputs": [],
   "source": [
    "len(all_trigs)/2"
   ]
  },
  {
   "cell_type": "code",
   "execution_count": null,
   "metadata": {
    "scrolled": false
   },
   "outputs": [],
   "source": [
    "#all_trigs[-10:]"
   ]
  },
  {
   "cell_type": "code",
   "execution_count": null,
   "metadata": {},
   "outputs": [],
   "source": [
    "all_trigs[:10]"
   ]
  },
  {
   "cell_type": "code",
   "execution_count": null,
   "metadata": {},
   "outputs": [],
   "source": [
    "#events[:10]\n",
    "all_trigs[-10:]"
   ]
  },
  {
   "cell_type": "code",
   "execution_count": null,
   "metadata": {},
   "outputs": [],
   "source": [
    "behav_files"
   ]
  },
  {
   "cell_type": "code",
   "execution_count": null,
   "metadata": {},
   "outputs": [],
   "source": [
    "behav_files=pd.DataFrame()\n",
    "sub_name='228'\n",
    "pattern=sub_name+'_alpha_placeholders_matchingBrad_*_*_*_*_*_*.csv'\n",
    "pattern2=sub_name+'_alpha_placeholders_matchingBrad_*_*_*_*_*.csv'\n",
    "pattern3=sub_name+'_alpha_placeholders_matchingBrad_*_*_*_*_*_TRUNCATED_TO_MATCH_BDF.csv'\n",
    "pattern4=sub_name+'_alpha_placeholders_matchingBrad_*_*_*_*_*_*_TRUNCATED_TO_MATCH_BDF.csv'\n",
    "behav_files=pd.DataFrame()\n",
    "for f in os.listdir(ROOT_behav):\n",
    "    if fnmatch.fnmatch(f,pattern) or fnmatch.fnmatch(f,pattern2) or fnmatch.fnmatch(f,pattern3) or fnmatch.fnmatch(f,pattern4):\n",
    "        print(f)\n",
    "        behav_file=pd.read_csv(ROOT_behav+f,engine='python')\n",
    "        behav_files=behav_files.append(behav_file,ignore_index=True)\n"
   ]
  },
  {
   "cell_type": "code",
   "execution_count": null,
   "metadata": {
    "scrolled": true
   },
   "outputs": [],
   "source": [
    "behav_files=behav_files.sort_values(['block','trialNum']).reset_index()"
   ]
  },
  {
   "cell_type": "code",
   "execution_count": null,
   "metadata": {},
   "outputs": [],
   "source": [
    "behav_files.head()"
   ]
  },
  {
   "cell_type": "code",
   "execution_count": null,
   "metadata": {},
   "outputs": [],
   "source": [
    "#eyes=pd.read_csv(ROOT_eyetrack+'sub_197_trialsCompiled_TRUNCATED_TO_MATCH.csv')\n",
    "#adjusted_behav=pd.read_csv(ROOT_behav+'197_alpha_placeholders_matchingBrad_01_2019_Nov_12_1319_TRUNCATED_TO_MATCH_BDF.csv')"
   ]
  },
  {
   "cell_type": "code",
   "execution_count": null,
   "metadata": {},
   "outputs": [],
   "source": [
    "eyes=pd.read_csv(ROOT_eyetrack+'sub_228_trialsCompiled_TRUNCATED_TO_MATCH.csv')"
   ]
  },
  {
   "cell_type": "code",
   "execution_count": null,
   "metadata": {},
   "outputs": [],
   "source": [
    "len(eyes)"
   ]
  },
  {
   "cell_type": "code",
   "execution_count": null,
   "metadata": {
    "scrolled": true
   },
   "outputs": [],
   "source": [
    "\n",
    "eyes.head()"
   ]
  },
  {
   "cell_type": "code",
   "execution_count": null,
   "metadata": {},
   "outputs": [],
   "source": [
    "appended=pd.concat([behav_files,eyes],ignore_index=False,axis=1)\n",
    "#appended.to_csv('/data/backed_up/shared/AlphaStudy_data/placeholders/eyetracking_compiled_trials/sub_228_trialsCompiled_FOR_PROBE.csv')"
   ]
  },
  {
   "cell_type": "code",
   "execution_count": null,
   "metadata": {},
   "outputs": [],
   "source": [
    "#behav_files.append(eyes,ignore_index=True,axis=1)\n",
    "appended"
   ]
  },
  {
   "cell_type": "code",
   "execution_count": null,
   "metadata": {},
   "outputs": [],
   "source": [
    "pd.read_csv('/data/backed_up/shared/AlphaStudy_data/placeholders/eyetracking_compiled_trials/sub_212_trialsCompiled_FOR_CUES.csv')"
   ]
  },
  {
   "cell_type": "code",
   "execution_count": null,
   "metadata": {},
   "outputs": [],
   "source": []
  }
 ],
 "metadata": {
  "kernelspec": {
   "display_name": "Python 3",
   "language": "python",
   "name": "python3"
  },
  "language_info": {
   "codemirror_mode": {
    "name": "ipython",
    "version": 3
   },
   "file_extension": ".py",
   "mimetype": "text/x-python",
   "name": "python",
   "nbconvert_exporter": "python",
   "pygments_lexer": "ipython3",
   "version": "3.7.1"
  }
 },
 "nbformat": 4,
 "nbformat_minor": 2
}
