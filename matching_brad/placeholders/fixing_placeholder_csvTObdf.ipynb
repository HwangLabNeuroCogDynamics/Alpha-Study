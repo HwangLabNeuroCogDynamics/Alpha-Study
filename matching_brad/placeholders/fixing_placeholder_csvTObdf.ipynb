{
 "cells": [
  {
   "cell_type": "code",
   "execution_count": 1,
   "metadata": {},
   "outputs": [],
   "source": [
    "import mne\n",
    "from mne.datasets import sample\n",
    "from mne import io\n",
    "from mne.preprocessing import create_ecg_epochs, create_eog_epochs\n",
    "from mne.preprocessing import ICA\n",
    "import numpy as np\n",
    "import pandas as pd\n",
    "import matplotlib.pyplot as plt\n",
    "import os \n",
    "from os import path\n",
    "import fnmatch\n"
   ]
  },
  {
   "cell_type": "code",
   "execution_count": 2,
   "metadata": {},
   "outputs": [],
   "source": [
    "#test=mne.io.read_raw_bdf('/home/dcellier/RDSS/AlphaStudy_Data/eegData/eeg_eyetracking/extra_or_defunct/sub_212_eyetracking_testing.bdf',montage=mne.channels.read_montage('biosemi64'),preload=True)"
   ]
  },
  {
   "cell_type": "code",
   "execution_count": 3,
   "metadata": {},
   "outputs": [],
   "source": [
    "#test.plot()"
   ]
  },
  {
   "cell_type": "code",
   "execution_count": 4,
   "metadata": {},
   "outputs": [],
   "source": [
    "ROOT_eeg='/home/dcellier/RDSS/AlphaStudy_Data/eegData/eeg_raw/'\n",
    "ROOT_behav='/home/dcellier/RDSS/AlphaStudy_Data/eegData/eeg_behavior_data/'\n",
    "ROOT_eyetrack='/data/backed_up/shared/AlphaStudy_data/placeholders/eyetracking_compiled_trials/'"
   ]
  },
  {
   "cell_type": "code",
   "execution_count": 7,
   "metadata": {
    "scrolled": true
   },
   "outputs": [
    {
     "name": "stdout",
     "output_type": "stream",
     "text": [
      "Opening raw data file /home/dcellier/RDSS/AlphaStudy_Data/eegData/eeg_raw/sub_245_alpha_placeholders_02_04_20.bdf...\n"
     ]
    },
    {
     "name": "stderr",
     "output_type": "stream",
     "text": [
      "<ipython-input-7-043e43e28a38>:2: RuntimeWarning: This filename (/home/dcellier/RDSS/AlphaStudy_Data/eegData/eeg_raw/sub_245_alpha_placeholders_02_04_20.bdf) does not conform to MNE naming conventions. All raw files should end with raw.fif, raw_sss.fif, raw_tsss.fif, raw.fif.gz, raw_sss.fif.gz or raw_tsss.fif.gz\n",
      "  testing_sub=mne.io.read_raw_fif(ROOT_eeg+'sub_245_alpha_placeholders_02_04_20.bdf',preload=True)\n"
     ]
    },
    {
     "name": "stdout",
     "output_type": "stream",
     "text": [
      "    Range : 0 ... 2152959 =      0.000 ...  4204.998 secs\n",
      "Ready.\n",
      "Reading 0 ... 2152959  =      0.000 ...  4204.998 secs...\n"
     ]
    }
   ],
   "source": [
    "#testing_sub=mne.io.read_raw_bdf(ROOT_eeg+'sub_245_alpha_placeholders_02_04_20.bdf',montage=mne.channels.read_montage('biosemi64'),preload=True)\n",
    "testing_sub=mne.io.read_raw_fif(ROOT_eeg+'sub_245_alpha_placeholders_02_04_20.bdf',preload=True)"
   ]
  },
  {
   "cell_type": "code",
   "execution_count": 8,
   "metadata": {
    "scrolled": true
   },
   "outputs": [
    {
     "data": {
      "text/plain": [
       "<Info | 19 non-empty fields\n",
       "    bads : list | 0 items\n",
       "    ch_names : list | Fp1, AF7, AF3, F1, F3, F5, F7, FT7, FC5, ...\n",
       "    chs : list | 73 items (EEG: 72, STIM: 1)\n",
       "    comps : list | 0 items\n",
       "    custom_ref_applied : bool | False\n",
       "    dev_head_t : Transform | 3 items\n",
       "    dig : list | 67 items (3 Cardinal, 64 EEG)\n",
       "    events : list | 0 items\n",
       "    file_id : dict | 4 items\n",
       "    highpass : float | 0.0 Hz\n",
       "    hpi_meas : list | 0 items\n",
       "    hpi_results : list | 0 items\n",
       "    lowpass : float | 104.0 Hz\n",
       "    meas_date : tuple | 2020-02-04 17:19:04 GMT\n",
       "    meas_id : dict | 4 items\n",
       "    nchan : int | 73\n",
       "    proc_history : list | 0 items\n",
       "    projs : list | 0 items\n",
       "    sfreq : float | 512.0 Hz\n",
       "    acq_pars : NoneType\n",
       "    acq_stim : NoneType\n",
       "    ctf_head_t : NoneType\n",
       "    description : NoneType\n",
       "    dev_ctf_t : NoneType\n",
       "    experimenter : NoneType\n",
       "    gantry_angle : NoneType\n",
       "    hpi_subsystem : NoneType\n",
       "    kit_system_id : NoneType\n",
       "    line_freq : NoneType\n",
       "    proj_id : NoneType\n",
       "    proj_name : NoneType\n",
       "    subject_info : NoneType\n",
       "    xplotter_layout : NoneType\n",
       ">"
      ]
     },
     "execution_count": 8,
     "metadata": {},
     "output_type": "execute_result"
    }
   ],
   "source": [
    "testing_sub.info"
   ]
  },
  {
   "cell_type": "code",
   "execution_count": 9,
   "metadata": {},
   "outputs": [
    {
     "name": "stdout",
     "output_type": "stream",
     "text": [
      "255_alpha_placeholders_matchingBrad_01_1_2020_Feb_24_1406.csv\n",
      "255_alpha_placeholders_matchingBrad_01_2_2020_Feb_24_1418.csv\n",
      "255_alpha_placeholders_matchingBrad_01_3_2020_Feb_24_1425.csv\n",
      "255_alpha_placeholders_matchingBrad_01_6_2020_Feb_24_1445.csv\n",
      "255_alpha_placeholders_matchingBrad_01_7_2020_Feb_24_1451.csv\n",
      "255_alpha_placeholders_matchingBrad_01_8_2020_Feb_24_1457.csv\n",
      "255_alpha_placeholders_matchingBrad_01_9_2020_Feb_24_1503.csv\n",
      "255_alpha_placeholders_matchingBrad_01_10_2020_Feb_24_1509.csv\n"
     ]
    }
   ],
   "source": [
    "behav_files=pd.DataFrame()\n",
    "all_files=[]\n",
    "for f in os.listdir(ROOT_behav):\n",
    "    if '255_' in f:\n",
    "        print(f)\n",
    "        behav_file=pd.read_csv(ROOT_behav+f,engine='python')\n",
    "        all_files.append(behav_file)\n",
    "        behav_files=behav_files.append(behav_file,ignore_index=True)\n",
    "#behav_files.dropna(axis=0,inplace=True,how='any')\n",
    "behav_files=behav_files.sort_values(['block','trialNum']).reset_index() \n",
    "#print(behav_files)\n",
    "#behav_files.to_csv('/home/dcellier/RDSS/AlphaStudy_Data/eegData/eeg_behavior_data/sub254_TRUNCATED_TO_MATCH_probeOnly.csv')"
   ]
  },
  {
   "cell_type": "code",
   "execution_count": 31,
   "metadata": {},
   "outputs": [
    {
     "data": {
      "text/plain": [
       "Index(['tar_color', 'dis_color', 'SOA', 'block', 'trialNum', 'trial_type',\n",
       "       'corrResp', 'subResp', 'trialCorr?', 'RT', 'tar,dis stim_loc', 'ITI',\n",
       "       'Tar,Dis,Other', 'trial_trigs', 'triggers'],\n",
       "      dtype='object')"
      ]
     },
     "execution_count": 31,
     "metadata": {},
     "output_type": "execute_result"
    }
   ],
   "source": [
    "behav_files.columns"
   ]
  },
  {
   "cell_type": "code",
   "execution_count": 32,
   "metadata": {},
   "outputs": [],
   "source": [
    "behav_files=behav_files.sort_values(['block','trialNum'])\n",
    "#behav_files"
   ]
  },
  {
   "cell_type": "code",
   "execution_count": 33,
   "metadata": {},
   "outputs": [
    {
     "data": {
      "text/plain": [
       "array([ 1,  2,  3,  4,  5,  6,  7,  8,  9, 10])"
      ]
     },
     "execution_count": 33,
     "metadata": {},
     "output_type": "execute_result"
    }
   ],
   "source": [
    "np.unique(list(behav_files['block']))"
   ]
  },
  {
   "cell_type": "code",
   "execution_count": 34,
   "metadata": {},
   "outputs": [],
   "source": [
    "#behav_files.to_csv('/home/dcellier/RDSS/AlphaStudy_Data/eegData/eeg_behavior_data/compiledAllBlocks_s233.csv')"
   ]
  },
  {
   "cell_type": "code",
   "execution_count": 35,
   "metadata": {},
   "outputs": [
    {
     "name": "stdout",
     "output_type": "stream",
     "text": [
      "227_alpha_placeholders_matchingBrad_01_1_2020_Mar_05_1009.csv\n",
      "227_alpha_placeholders_matchingBrad_01_2_2020_Mar_05_1105.csv\n",
      "227_alpha_placeholders_matchingBrad_01_3_2020_Mar_05_1112.csv\n",
      "227_alpha_placeholders_matchingBrad_01_4_2020_Mar_05_1120.csv\n"
     ]
    }
   ],
   "source": [
    "eyetrack_compiled_path='/data/backed_up/shared/AlphaStudy_data/placeholders/eyetracking_compiled_trials/'\n",
    "sub_name='227'\n",
    "pattern=sub_name+'_alpha_placeholders_matchingBrad_*_*_*_*_*_*.csv'\n",
    "pattern2=sub_name+'_alpha_placeholders_matchingBrad_*_*_*_*_*.csv'\n",
    "pattern3=sub_name+'_alpha_placeholders_matchingBrad_*_*_*_*_*_TRUNCATED_TO_MATCH_BDF.csv'\n",
    "pattern4=sub_name+'_alpha_placeholders_matchingBrad_*_*_*_*_*_*_TRUNCATED_TO_MATCH_BDF.csv'\n",
    "behav_files=pd.DataFrame()\n",
    "for f in os.listdir(ROOT_behav):\n",
    "    if fnmatch.fnmatch(f,pattern) or fnmatch.fnmatch(f,pattern2) or fnmatch.fnmatch(f,pattern3) or fnmatch.fnmatch(f,pattern4):\n",
    "        print(f)\n",
    "        behav_file=pd.read_csv(ROOT_behav+f,engine='python')\n",
    "        behav_files=behav_files.append(behav_file,ignore_index=True)\n",
    "behav_files_sorted=behav_files.sort_values(['block','trialNum']).reset_index()\n",
    "#eyes=pd.read_csv(eyetrack_compiled_path+'sub_'+sub_name+'_trialsCompiled.csv')\n",
    "behav_files=pd.concat([behav_files_sorted,eyes],ignore_index=False,axis=1)"
   ]
  },
  {
   "cell_type": "code",
   "execution_count": 9,
   "metadata": {},
   "outputs": [
    {
     "name": "stdout",
     "output_type": "stream",
     "text": [
      "2787 events found\n",
      "Event IDs: [  101   103   105   107   109   111   113   115   117   119   121   123\n",
      "   125   127   129   131   133   135 65536 65737]\n"
     ]
    }
   ],
   "source": [
    "events=mne.find_events(testing_sub, initial_event=True,min_duration=(2/512))# 133 = start block flag, 135 = stop block"
   ]
  },
  {
   "cell_type": "code",
   "execution_count": 10,
   "metadata": {
    "scrolled": true
   },
   "outputs": [
    {
     "ename": "NameError",
     "evalue": "name 'behav_files' is not defined",
     "output_type": "error",
     "traceback": [
      "\u001b[0;31m---------------------------------------------------------------------------\u001b[0m",
      "\u001b[0;31mNameError\u001b[0m                                 Traceback (most recent call last)",
      "\u001b[0;32m<ipython-input-10-3771af76be02>\u001b[0m in \u001b[0;36m<module>\u001b[0;34m\u001b[0m\n\u001b[1;32m      3\u001b[0m              'tarLongCue_trig':107,'neutShortCue_trig':109, 'neutLongCue_trig':111}\n\u001b[1;32m      4\u001b[0m testingSub_cueEps=mne.Epochs(testing_sub, events=events, baseline=None, event_id=cue_event_id,\n\u001b[0;32m----> 5\u001b[0;31m                          tmin=-1.3,tmax=1,metadata=behav_files)\n\u001b[0m",
      "\u001b[0;31mNameError\u001b[0m: name 'behav_files' is not defined"
     ]
    }
   ],
   "source": [
    "## Generating Epochs obj so I can make sure the metadata matches up\n",
    "cue_event_id={'disShortCue_trig':101,'disLongCue_trig':103,'tarShortCue_trig':105,\n",
    "             'tarLongCue_trig':107,'neutShortCue_trig':109, 'neutLongCue_trig':111}\n",
    "testingSub_cueEps=mne.Epochs(testing_sub, events=events, baseline=None, event_id=cue_event_id,\n",
    "                         tmin=-1.3,tmax=1,metadata=behav_files)"
   ]
  },
  {
   "cell_type": "code",
   "execution_count": 11,
   "metadata": {
    "scrolled": true
   },
   "outputs": [],
   "source": [
    "probe_event_id={'disShortProbe_trig':113,'disLongProbe_trig':115,'tarShortProbe_trig':117,\n",
    "                    'tarLongProbe_trig':119,'neutShortProbe_trig':121,'neutLongProbe_trig':123}\n",
    "probe_tmin, probe_tmax = 0,5.4\n",
    "#testingSub_probeEps=mne.Epochs(testing_sub, events=events, baseline=(2,5.4), event_id=probe_event_id, \n",
    " #                                 tmin=probe_tmin, tmax=probe_tmax,metadata=behav_files)"
   ]
  },
  {
   "cell_type": "code",
   "execution_count": 41,
   "metadata": {},
   "outputs": [
    {
     "data": {
      "text/plain": [
       "600"
      ]
     },
     "execution_count": 41,
     "metadata": {},
     "output_type": "execute_result"
    }
   ],
   "source": [
    "len(behav_files)"
   ]
  },
  {
   "cell_type": "code",
   "execution_count": 42,
   "metadata": {},
   "outputs": [
    {
     "ename": "NameError",
     "evalue": "name 'sub224_cueEps' is not defined",
     "output_type": "error",
     "traceback": [
      "\u001b[0;31m---------------------------------------------------------------------------\u001b[0m",
      "\u001b[0;31mNameError\u001b[0m                                 Traceback (most recent call last)",
      "\u001b[0;32m<ipython-input-42-2debe84a118d>\u001b[0m in \u001b[0;36m<module>\u001b[0;34m\u001b[0m\n\u001b[0;32m----> 1\u001b[0;31m \u001b[0mnp\u001b[0m\u001b[0;34m.\u001b[0m\u001b[0msum\u001b[0m\u001b[0;34m(\u001b[0m\u001b[0msub224_cueEps\u001b[0m\u001b[0;34m[\u001b[0m\u001b[0;34m'disLongCue_trig'\u001b[0m\u001b[0;34m]\u001b[0m\u001b[0;34m.\u001b[0m\u001b[0mmetadata\u001b[0m\u001b[0;34m[\u001b[0m\u001b[0;34m'SOA'\u001b[0m\u001b[0;34m]\u001b[0m\u001b[0;34m!=\u001b[0m\u001b[0;34m'long'\u001b[0m\u001b[0;34m)\u001b[0m\u001b[0;34m\u001b[0m\u001b[0;34m\u001b[0m\u001b[0m\n\u001b[0m",
      "\u001b[0;31mNameError\u001b[0m: name 'sub224_cueEps' is not defined"
     ]
    }
   ],
   "source": [
    "np.sum(sub224_cueEps['disLongCue_trig'].metadata['SOA']!='long')"
   ]
  },
  {
   "cell_type": "code",
   "execution_count": 43,
   "metadata": {},
   "outputs": [
    {
     "data": {
      "text/plain": [
       "3020"
      ]
     },
     "execution_count": 43,
     "metadata": {},
     "output_type": "execute_result"
    }
   ],
   "source": [
    "len(events)"
   ]
  },
  {
   "cell_type": "code",
   "execution_count": 13,
   "metadata": {},
   "outputs": [],
   "source": [
    "## SEPERATING TRIGS BY BLOCKS\n",
    "    # not all start_block trigs came through \n",
    "    # but all of the end block triggers did,\n",
    "    # so we're basing off of those\n",
    "\n",
    "blocks={}\n",
    "block_counter=0\n",
    "trig_counter=0\n",
    "while block_counter<10: # we usually have 10 blocks of EEG\n",
    "    ev=events[trig_counter]\n",
    "    #print(trig_counter)\n",
    "\n",
    "    if ev[2]==135: # then we've found the end of the block, move on to the next\n",
    "        blocks[str(block_counter)].append(ev)\n",
    "        block_counter += 1\n",
    "    else:\n",
    "        if str(block_counter) not in blocks.keys():\n",
    "            blocks[str(block_counter)]=[]\n",
    "        blocks[str(block_counter)].append(ev)\n",
    "        \n",
    "    trig_counter += 1\n",
    "        "
   ]
  },
  {
   "cell_type": "code",
   "execution_count": 14,
   "metadata": {},
   "outputs": [
    {
     "name": "stdout",
     "output_type": "stream",
     "text": [
      "Block 2 has 13 probe events\n"
     ]
    }
   ],
   "source": [
    "for k in blocks.keys():\n",
    "    probe_count=len([ev[2] for ev in blocks[k] if ev[2] in [113,115,117,119,121,123]])\n",
    "    if probe_count < 60:\n",
    "        print('Block {0} has {1} probe events'.format(k,str(probe_count)))"
   ]
  },
  {
   "cell_type": "code",
   "execution_count": 12,
   "metadata": {},
   "outputs": [
    {
     "name": "stdout",
     "output_type": "stream",
     "text": [
      "Len ITI trigs: 553\n",
      "Len Mask trigs: 553\n",
      "Len Probe trigs: 553\n",
      "Len cue events: 553\n",
      "Len responses: 553\n",
      "Len start block trigs: 9\n",
      "Len stop block trigs: 10\n"
     ]
    }
   ],
   "source": [
    "ITI_evs=[ev[2] for ev in events if ev[2]==127]\n",
    "mask_evs=[ev[2] for ev in events if ev[2]==125]\n",
    "probe_evs=[ev[2] for ev in events if ev[2] in [113,115,117,119,121,123]]\n",
    "cue_evs=[ev[2] for ev in events if ev[2] in [101,103,105,107,109,111]]\n",
    "resp_evs=[ev[2] for ev in events if ev[2] in [129,131]]\n",
    "Startblock_evs=[ev[2] for ev in events if ev[2] ==133]\n",
    "Stopblock_evs=[ev[2] for ev in events if ev[2] ==135]\n",
    "print(\"Len ITI trigs: \"+ str(len(ITI_evs)))\n",
    "print(\"Len Mask trigs: \"+ str(len(mask_evs)))\n",
    "print(\"Len Probe trigs: \"+str(len(probe_evs)))\n",
    "print(\"Len cue events: \"+str(len(cue_evs)))\n",
    "print(\"Len responses: \"+str(len(resp_evs)))\n",
    "print(\"Len start block trigs: \"+str(len(Startblock_evs)))\n",
    "print(\"Len stop block trigs: \"+str(len(Stopblock_evs)))"
   ]
  },
  {
   "cell_type": "code",
   "execution_count": 15,
   "metadata": {
    "scrolled": true
   },
   "outputs": [],
   "source": [
    "probe_block=[ev[2] for ev in blocks['2'] if ev[2] in [113,115,117,119,121,123]]\n",
    "#probe_block0\n",
    "enumerated_trigs=[]\n",
    "for i,p in enumerate(probe_block):\n",
    "    enumerated_trigs.append([i,p])"
   ]
  },
  {
   "cell_type": "code",
   "execution_count": 16,
   "metadata": {
    "scrolled": true
   },
   "outputs": [
    {
     "data": {
      "text/plain": [
       "[[0, 115],\n",
       " [1, 123],\n",
       " [2, 117],\n",
       " [3, 123],\n",
       " [4, 123],\n",
       " [5, 121],\n",
       " [6, 115],\n",
       " [7, 117],\n",
       " [8, 119],\n",
       " [9, 123],\n",
       " [10, 113],\n",
       " [11, 115],\n",
       " [12, 113]]"
      ]
     },
     "execution_count": 16,
     "metadata": {},
     "output_type": "execute_result"
    }
   ],
   "source": [
    "enumerated_trigs"
   ]
  },
  {
   "cell_type": "code",
   "execution_count": 81,
   "metadata": {},
   "outputs": [],
   "source": [
    "cue_block=[ev[2] for ev in blocks['6'] if ev[2] in [101,103,105,107,109,111]]\n",
    "#probe_block0\n",
    "enumerated_trigs=[]\n",
    "for i,p in enumerate(cue_block):\n",
    "    enumerated_trigs.append([i,p])"
   ]
  },
  {
   "cell_type": "code",
   "execution_count": 82,
   "metadata": {},
   "outputs": [
    {
     "data": {
      "text/plain": [
       "[[0, 111],\n",
       " [1, 109],\n",
       " [2, 111],\n",
       " [3, 109],\n",
       " [4, 109],\n",
       " [5, 101],\n",
       " [6, 107],\n",
       " [7, 109],\n",
       " [8, 107],\n",
       " [9, 103],\n",
       " [10, 105],\n",
       " [11, 105],\n",
       " [12, 103],\n",
       " [13, 105],\n",
       " [14, 105],\n",
       " [15, 109],\n",
       " [16, 101],\n",
       " [17, 101],\n",
       " [18, 107],\n",
       " [19, 109],\n",
       " [20, 111],\n",
       " [21, 111],\n",
       " [22, 101],\n",
       " [23, 103],\n",
       " [24, 101],\n",
       " [25, 103],\n",
       " [26, 111],\n",
       " [27, 101],\n",
       " [28, 111],\n",
       " [29, 101],\n",
       " [30, 107],\n",
       " [31, 107],\n",
       " [32, 111],\n",
       " [33, 101],\n",
       " [34, 101],\n",
       " [35, 103],\n",
       " [36, 103],\n",
       " [37, 107],\n",
       " [38, 109],\n",
       " [39, 103],\n",
       " [40, 105],\n",
       " [41, 103],\n",
       " [42, 107],\n",
       " [43, 105],\n",
       " [44, 103],\n",
       " [45, 105],\n",
       " [46, 107],\n",
       " [47, 101],\n",
       " [48, 107],\n",
       " [49, 105],\n",
       " [50, 107],\n",
       " [51, 109],\n",
       " [52, 109],\n",
       " [53, 111],\n",
       " [54, 103],\n",
       " [55, 105],\n",
       " [56, 105],\n",
       " [57, 111],\n",
       " [58, 111],\n",
       " [59, 109]]"
      ]
     },
     "execution_count": 82,
     "metadata": {},
     "output_type": "execute_result"
    }
   ],
   "source": [
    "enumerated_trigs"
   ]
  },
  {
   "cell_type": "code",
   "execution_count": 56,
   "metadata": {
    "scrolled": true
   },
   "outputs": [],
   "source": [
    "behav_trigs_probe_block0=list(behav_files[behav_files['block']==1]['trial_trigs'])\n",
    "behav_trigs_probe_block0[0][5:10]\n",
    "enumerated_behav=[]\n",
    "for i,p in enumerate(behav_trigs_probe_block0):\n",
    "    #print(i,int(p[5:9]))\n",
    "    enumerated_behav.append([i,int(p[5:9])])\n"
   ]
  },
  {
   "cell_type": "code",
   "execution_count": null,
   "metadata": {
    "scrolled": true
   },
   "outputs": [],
   "source": [
    "for t,b in zip(enumerated_trigs,enumerated_behav):\n",
    "    print(t,b)"
   ]
  },
  {
   "cell_type": "code",
   "execution_count": null,
   "metadata": {
    "scrolled": true
   },
   "outputs": [],
   "source": [
    "#cue_evs[:60]\n",
    "#cue_evs[60:120]\n",
    "#cue_evs[120:180]\n",
    "#cue_evs[180:240]"
   ]
  },
  {
   "cell_type": "code",
   "execution_count": null,
   "metadata": {},
   "outputs": [],
   "source": [
    "#all_trigs[:10]"
   ]
  },
  {
   "cell_type": "code",
   "execution_count": null,
   "metadata": {},
   "outputs": [],
   "source": [
    "mask_trigs=[ev[2] for ev in events if ev[2]==125]\n",
    "len(mask_trigs)"
   ]
  },
  {
   "cell_type": "code",
   "execution_count": null,
   "metadata": {},
   "outputs": [],
   "source": [
    "all_trigs=[ev[2] for ev in events if ev[2] in [101,103,105,107,109,111,113,115,117,119,121,123]]"
   ]
  },
  {
   "cell_type": "code",
   "execution_count": null,
   "metadata": {},
   "outputs": [],
   "source": [
    "len(all_trigs)/2"
   ]
  },
  {
   "cell_type": "code",
   "execution_count": null,
   "metadata": {
    "scrolled": false
   },
   "outputs": [],
   "source": [
    "#all_trigs[-10:]"
   ]
  },
  {
   "cell_type": "code",
   "execution_count": null,
   "metadata": {},
   "outputs": [],
   "source": [
    "all_trigs[:10]"
   ]
  },
  {
   "cell_type": "code",
   "execution_count": null,
   "metadata": {},
   "outputs": [],
   "source": [
    "#events[:10]\n",
    "all_trigs[-10:]"
   ]
  },
  {
   "cell_type": "code",
   "execution_count": null,
   "metadata": {},
   "outputs": [],
   "source": [
    "behav_files"
   ]
  },
  {
   "cell_type": "code",
   "execution_count": null,
   "metadata": {},
   "outputs": [],
   "source": [
    "behav_files=pd.DataFrame()\n",
    "sub_name='228'\n",
    "pattern=sub_name+'_alpha_placeholders_matchingBrad_*_*_*_*_*_*.csv'\n",
    "pattern2=sub_name+'_alpha_placeholders_matchingBrad_*_*_*_*_*.csv'\n",
    "pattern3=sub_name+'_alpha_placeholders_matchingBrad_*_*_*_*_*_TRUNCATED_TO_MATCH_BDF.csv'\n",
    "pattern4=sub_name+'_alpha_placeholders_matchingBrad_*_*_*_*_*_*_TRUNCATED_TO_MATCH_BDF.csv'\n",
    "behav_files=pd.DataFrame()\n",
    "for f in os.listdir(ROOT_behav):\n",
    "    if fnmatch.fnmatch(f,pattern) or fnmatch.fnmatch(f,pattern2) or fnmatch.fnmatch(f,pattern3) or fnmatch.fnmatch(f,pattern4):\n",
    "        print(f)\n",
    "        behav_file=pd.read_csv(ROOT_behav+f,engine='python')\n",
    "        behav_files=behav_files.append(behav_file,ignore_index=True)\n"
   ]
  },
  {
   "cell_type": "code",
   "execution_count": null,
   "metadata": {
    "scrolled": true
   },
   "outputs": [],
   "source": [
    "behav_files=behav_files.sort_values(['block','trialNum']).reset_index()"
   ]
  },
  {
   "cell_type": "code",
   "execution_count": null,
   "metadata": {},
   "outputs": [],
   "source": [
    "behav_files.head()"
   ]
  },
  {
   "cell_type": "code",
   "execution_count": null,
   "metadata": {},
   "outputs": [],
   "source": [
    "#eyes=pd.read_csv(ROOT_eyetrack+'sub_197_trialsCompiled_TRUNCATED_TO_MATCH.csv')\n",
    "#adjusted_behav=pd.read_csv(ROOT_behav+'197_alpha_placeholders_matchingBrad_01_2019_Nov_12_1319_TRUNCATED_TO_MATCH_BDF.csv')"
   ]
  },
  {
   "cell_type": "code",
   "execution_count": null,
   "metadata": {},
   "outputs": [],
   "source": [
    "eyes=pd.read_csv(ROOT_eyetrack+'sub_228_trialsCompiled_TRUNCATED_TO_MATCH.csv')"
   ]
  },
  {
   "cell_type": "code",
   "execution_count": null,
   "metadata": {},
   "outputs": [],
   "source": [
    "len(eyes)"
   ]
  },
  {
   "cell_type": "code",
   "execution_count": null,
   "metadata": {
    "scrolled": true
   },
   "outputs": [],
   "source": [
    "\n",
    "eyes.head()"
   ]
  },
  {
   "cell_type": "code",
   "execution_count": null,
   "metadata": {},
   "outputs": [],
   "source": [
    "appended=pd.concat([behav_files,eyes],ignore_index=False,axis=1)\n",
    "#appended.to_csv('/data/backed_up/shared/AlphaStudy_data/placeholders/eyetracking_compiled_trials/sub_228_trialsCompiled_FOR_PROBE.csv')"
   ]
  },
  {
   "cell_type": "code",
   "execution_count": null,
   "metadata": {},
   "outputs": [],
   "source": [
    "#behav_files.append(eyes,ignore_index=True,axis=1)\n",
    "appended"
   ]
  },
  {
   "cell_type": "code",
   "execution_count": null,
   "metadata": {},
   "outputs": [],
   "source": [
    "pd.read_csv('/data/backed_up/shared/AlphaStudy_data/placeholders/eyetracking_compiled_trials/sub_212_trialsCompiled_FOR_CUES.csv')"
   ]
  },
  {
   "cell_type": "code",
   "execution_count": null,
   "metadata": {},
   "outputs": [],
   "source": []
  }
 ],
 "metadata": {
  "kernelspec": {
   "display_name": "Python 3",
   "language": "python",
   "name": "python3"
  },
  "language_info": {
   "codemirror_mode": {
    "name": "ipython",
    "version": 3
   },
   "file_extension": ".py",
   "mimetype": "text/x-python",
   "name": "python",
   "nbconvert_exporter": "python",
   "pygments_lexer": "ipython3",
   "version": "3.7.1"
  }
 },
 "nbformat": 4,
 "nbformat_minor": 2
}
