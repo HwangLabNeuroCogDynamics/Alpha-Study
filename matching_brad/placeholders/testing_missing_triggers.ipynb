{
 "cells": [
  {
   "cell_type": "code",
   "execution_count": 1,
   "metadata": {},
   "outputs": [],
   "source": [
    "import mne\n",
    "from mne.datasets import sample\n",
    "from mne import io\n",
    "from mne.preprocessing import create_ecg_epochs, create_eog_epochs\n",
    "from mne.preprocessing import ICA\n",
    "import numpy as np\n",
    "import pandas as pd\n",
    "import matplotlib.pyplot as plt\n",
    "import os \n",
    "from os import path"
   ]
  },
  {
   "cell_type": "code",
   "execution_count": 2,
   "metadata": {},
   "outputs": [],
   "source": [
    "ROOT_eeg='/home/dcellier/RDSS/AlphaStudy_Data/eegData/eeg_raw/'\n",
    "ROOT_behav='/home/dcellier/RDSS/AlphaStudy_Data/eegData/eeg_behavior_data/'\n",
    "ROOT_eyetrack='/data/backed_up/shared/AlphaStudy_data/placeholders/eyetracking_compiled_trials/'"
   ]
  },
  {
   "cell_type": "code",
   "execution_count": 3,
   "metadata": {},
   "outputs": [
    {
     "name": "stdout",
     "output_type": "stream",
     "text": [
      "Extracting EDF parameters from /home/dcellier/RDSS/AlphaStudy_Data/eegData/eeg_raw/sub_222_alpha_placeholders_12_13_19.bdf...\n",
      "BDF file detected\n",
      "Setting channel info structure...\n",
      "Creating raw.info structure...\n",
      "Reading 0 ... 2014207  =      0.000 ...  3933.998 secs...\n"
     ]
    },
    {
     "name": "stderr",
     "output_type": "stream",
     "text": [
      "<ipython-input-3-e56a33b70591>:1: RuntimeWarning: The following EEG sensors did not have a position specified in the selected montage: ['EXG1', 'EXG2', 'EXG3', 'EXG4', 'EXG5', 'EXG6', 'EXG7', 'EXG8']. Their position has been left untouched.\n",
      "  testing_sub=mne.io.read_raw_bdf(ROOT_eeg+'sub_222_alpha_placeholders_12_13_19.bdf',montage=mne.channels.read_montage('biosemi64'),preload=True)\n"
     ]
    }
   ],
   "source": [
    "testing_sub=mne.io.read_raw_bdf(ROOT_eeg+'sub_222_alpha_placeholders_12_13_19.bdf',montage=mne.channels.read_montage('biosemi64'),preload=True)"
   ]
  },
  {
   "cell_type": "code",
   "execution_count": 4,
   "metadata": {},
   "outputs": [],
   "source": [
    "behav_data=pd.read_csv(ROOT_behav+'test_alpha_placeholders_matchingBrad_01_2_2019_Dec_03_1526.csv')"
   ]
  },
  {
   "cell_type": "code",
   "execution_count": 5,
   "metadata": {},
   "outputs": [
    {
     "name": "stdout",
     "output_type": "stream",
     "text": [
      "Trigger channel has a non-zero initial value of 65536 (consider using initial_event=True to detect this event)\n",
      "3021 events found\n",
      "Event IDs: [  101   103   105   107   109   111   113   115   117   119   121   123\n",
      "   125   127   129   131   133   135   201   205 65737]\n"
     ]
    }
   ],
   "source": [
    "events=mne.find_events(testing_sub)"
   ]
  },
  {
   "cell_type": "code",
   "execution_count": 6,
   "metadata": {},
   "outputs": [],
   "source": [
    "ITI_evs=[ev[2] for ev in events if ev[2]==127]\n",
    "mask_evs=[ev[2] for ev in events if ev[2]==125]\n",
    "probe_evs=[ev[2] for ev in events if ev[2] in [113,115,117,119,121,123]]\n",
    "cue_evs=[ev[2] for ev in events if ev[2] in [101,103,105,107,109,111]]\n",
    "resp_evs=[ev[2] for ev in events if ev[2] in [129,131]]"
   ]
  },
  {
   "cell_type": "code",
   "execution_count": 7,
   "metadata": {},
   "outputs": [
    {
     "name": "stdout",
     "output_type": "stream",
     "text": [
      "Len ITI trigs: 600\n",
      "Len Mask trigs: 600\n",
      "Len Probe trigs: 600\n",
      "Len cue events: 600\n",
      "Len responses: 600\n"
     ]
    }
   ],
   "source": [
    "print(\"Len ITI trigs: \"+ str(len(ITI_evs)))\n",
    "print(\"Len Mask trigs: \"+ str(len(mask_evs)))\n",
    "print(\"Len Probe trigs: \"+str(len(probe_evs)))\n",
    "print(\"Len cue events: \"+str(len(cue_evs)))\n",
    "print(\"Len responses: \"+str(len(resp_evs)))"
   ]
  },
  {
   "cell_type": "code",
   "execution_count": 8,
   "metadata": {},
   "outputs": [
    {
     "data": {
      "text/plain": [
       "342"
      ]
     },
     "execution_count": 8,
     "metadata": {},
     "output_type": "execute_result"
    }
   ],
   "source": [
    "len(behav_data)"
   ]
  },
  {
   "cell_type": "code",
   "execution_count": null,
   "metadata": {},
   "outputs": [],
   "source": []
  },
  {
   "cell_type": "code",
   "execution_count": null,
   "metadata": {},
   "outputs": [],
   "source": []
  }
 ],
 "metadata": {
  "kernelspec": {
   "display_name": "Python 3",
   "language": "python",
   "name": "python3"
  },
  "language_info": {
   "codemirror_mode": {
    "name": "ipython",
    "version": 3
   },
   "file_extension": ".py",
   "mimetype": "text/x-python",
   "name": "python",
   "nbconvert_exporter": "python",
   "pygments_lexer": "ipython3",
   "version": "3.7.1"
  }
 },
 "nbformat": 4,
 "nbformat_minor": 2
}
