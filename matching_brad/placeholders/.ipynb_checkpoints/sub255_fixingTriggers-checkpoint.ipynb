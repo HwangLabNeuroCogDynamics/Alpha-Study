{
 "cells": [
  {
   "cell_type": "code",
   "execution_count": 1,
   "metadata": {},
   "outputs": [],
   "source": [
    "import pandas as pd\n",
    "import mne\n",
    "import os\n",
    "import numpy as np\n"
   ]
  },
  {
   "cell_type": "code",
   "execution_count": 2,
   "metadata": {},
   "outputs": [],
   "source": [
    "fname='/home/dcellier/RDSS/AlphaStudy_Data/eegData/eeg_raw/sub_255_alpha_placeholders_02_24_20_editedToMatchBehavioral.bdf'"
   ]
  },
  {
   "cell_type": "code",
   "execution_count": null,
   "metadata": {},
   "outputs": [
    {
     "name": "stdout",
     "output_type": "stream",
     "text": [
      "Extracting EDF parameters from /home/dcellier/RDSS/AlphaStudy_Data/eegData/eeg_raw/sub_255_alpha_placeholders_02_24_20_editedToMatchBehavioral.bdf...\n",
      "BDF file detected\n",
      "Setting channel info structure...\n",
      "Creating raw.info structure...\n",
      "Reading 0 ... 2226687  =      0.000 ...  4348.998 secs...\n"
     ]
    },
    {
     "name": "stderr",
     "output_type": "stream",
     "text": [
      "<ipython-input-4-b98e1094f0d6>:1: DeprecationWarning: The use of read_raw_edf for BDF files is deprecated. Please use read_raw_bdf instead.\n",
      "  sub_dat=mne.io.read_raw_edf(fname,montage=mne.channels.read_montage('biosemi64'),preload=True)\n",
      "<ipython-input-4-b98e1094f0d6>:1: RuntimeWarning: The following EEG sensors did not have a position specified in the selected montage: ['EXG1', 'EXG2', 'EXG3', 'EXG4', 'EXG5', 'EXG6', 'EXG7', 'EXG8']. Their position has been left untouched.\n",
      "  sub_dat=mne.io.read_raw_edf(fname,montage=mne.channels.read_montage('biosemi64'),preload=True)\n"
     ]
    }
   ],
   "source": [
    "sub_dat=mne.io.read_raw_edf(fname,montage=mne.channels.read_montage('biosemi64'),preload=True)"
   ]
  },
  {
   "cell_type": "code",
   "execution_count": null,
   "metadata": {},
   "outputs": [],
   "source": []
  }
 ],
 "metadata": {
  "kernelspec": {
   "display_name": "Python 3",
   "language": "python",
   "name": "python3"
  },
  "language_info": {
   "codemirror_mode": {
    "name": "ipython",
    "version": 3
   },
   "file_extension": ".py",
   "mimetype": "text/x-python",
   "name": "python",
   "nbconvert_exporter": "python",
   "pygments_lexer": "ipython3",
   "version": "3.7.1"
  }
 },
 "nbformat": 4,
 "nbformat_minor": 2
}
