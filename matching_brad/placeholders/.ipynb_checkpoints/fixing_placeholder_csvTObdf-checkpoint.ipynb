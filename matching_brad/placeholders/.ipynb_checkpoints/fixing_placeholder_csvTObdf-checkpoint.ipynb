{
 "cells": [
  {
   "cell_type": "code",
   "execution_count": 22,
   "metadata": {},
   "outputs": [],
   "source": [
    "import mne\n",
    "from mne.datasets import sample\n",
    "from mne import io\n",
    "from mne.preprocessing import create_ecg_epochs, create_eog_epochs\n",
    "from mne.preprocessing import ICA\n",
    "import numpy as np\n",
    "import pandas as pd\n",
    "import matplotlib.pyplot as plt\n",
    "import os \n",
    "from os import path\n",
    "import fnmatch\n"
   ]
  },
  {
   "cell_type": "code",
   "execution_count": 23,
   "metadata": {},
   "outputs": [],
   "source": [
    "#test=mne.io.read_raw_bdf('/home/dcellier/RDSS/AlphaStudy_Data/eegData/eeg_eyetracking/extra_or_defunct/sub_212_eyetracking_testing.bdf',montage=mne.channels.read_montage('biosemi64'),preload=True)"
   ]
  },
  {
   "cell_type": "code",
   "execution_count": 24,
   "metadata": {},
   "outputs": [],
   "source": [
    "#test.plot()"
   ]
  },
  {
   "cell_type": "code",
   "execution_count": 25,
   "metadata": {},
   "outputs": [],
   "source": [
    "ROOT_eeg='/home/dcellier/RDSS/AlphaStudy_Data/eegData/eeg_raw/'\n",
    "ROOT_behav='/home/dcellier/RDSS/AlphaStudy_Data/eegData/eeg_behavior_data/'\n",
    "ROOT_eyetrack='/data/backed_up/shared/AlphaStudy_data/placeholders/eyetracking_compiled_trials/'"
   ]
  },
  {
   "cell_type": "code",
   "execution_count": 26,
   "metadata": {
    "scrolled": true
   },
   "outputs": [
    {
     "name": "stdout",
     "output_type": "stream",
     "text": [
      "Extracting EDF parameters from /home/dcellier/RDSS/AlphaStudy_Data/eegData/eeg_raw/sub_254_alpha_placeholders_02_21_20.bdf...\n",
      "BDF file detected\n",
      "Setting channel info structure...\n",
      "Creating raw.info structure...\n",
      "Reading 0 ... 2298879  =      0.000 ...  4489.998 secs...\n"
     ]
    },
    {
     "name": "stderr",
     "output_type": "stream",
     "text": [
      "<ipython-input-26-178301ad570c>:1: RuntimeWarning: The following EEG sensors did not have a position specified in the selected montage: ['EXG1', 'EXG2', 'EXG3', 'EXG4', 'EXG5', 'EXG6', 'EXG7', 'EXG8']. Their position has been left untouched.\n",
      "  testing_sub=mne.io.read_raw_bdf(ROOT_eeg+'sub_254_alpha_placeholders_02_21_20.bdf',montage=mne.channels.read_montage('biosemi64'),preload=True)\n"
     ]
    }
   ],
   "source": [
    "testing_sub=mne.io.read_raw_bdf(ROOT_eeg+'sub_254_alpha_placeholders_02_21_20.bdf',montage=mne.channels.read_montage('biosemi64'),preload=True)"
   ]
  },
  {
   "cell_type": "code",
   "execution_count": 27,
   "metadata": {
    "scrolled": true
   },
   "outputs": [
    {
     "data": {
      "text/plain": [
       "<Info | 17 non-empty fields\n",
       "    bads : list | 0 items\n",
       "    ch_names : list | Fp1, AF7, AF3, F1, F3, F5, F7, FT7, FC5, ...\n",
       "    chs : list | 73 items (EEG: 72, STIM: 1)\n",
       "    comps : list | 0 items\n",
       "    custom_ref_applied : bool | False\n",
       "    dev_head_t : Transform | 3 items\n",
       "    dig : list | 67 items (3 Cardinal, 64 EEG)\n",
       "    events : list | 0 items\n",
       "    highpass : float | 0.0 Hz\n",
       "    hpi_meas : list | 0 items\n",
       "    hpi_results : list | 0 items\n",
       "    lowpass : float | 104.0 Hz\n",
       "    meas_date : tuple | 2020-02-21 14:38:00 GMT\n",
       "    nchan : int | 73\n",
       "    proc_history : list | 0 items\n",
       "    projs : list | 0 items\n",
       "    sfreq : float | 512.0 Hz\n",
       "    acq_pars : NoneType\n",
       "    acq_stim : NoneType\n",
       "    ctf_head_t : NoneType\n",
       "    description : NoneType\n",
       "    dev_ctf_t : NoneType\n",
       "    experimenter : NoneType\n",
       "    file_id : NoneType\n",
       "    gantry_angle : NoneType\n",
       "    hpi_subsystem : NoneType\n",
       "    kit_system_id : NoneType\n",
       "    line_freq : NoneType\n",
       "    meas_id : NoneType\n",
       "    proj_id : NoneType\n",
       "    proj_name : NoneType\n",
       "    subject_info : NoneType\n",
       "    xplotter_layout : NoneType\n",
       ">"
      ]
     },
     "execution_count": 27,
     "metadata": {},
     "output_type": "execute_result"
    }
   ],
   "source": [
    "testing_sub.info"
   ]
  },
  {
   "cell_type": "code",
   "execution_count": 30,
   "metadata": {},
   "outputs": [
    {
     "name": "stdout",
     "output_type": "stream",
     "text": [
      "254_alpha_placeholders_matchingBrad_01_1_2020_Feb_21_1436.csv\n",
      "254_alpha_placeholders_matchingBrad_01_2_2020_Feb_21_1448.csv\n",
      "254_alpha_placeholders_matchingBrad_01_3_2020_Feb_21_1455.csv\n",
      "254_alpha_placeholders_matchingBrad_01_4_2020_Feb_21_1503.csv\n",
      "254_alpha_placeholders_matchingBrad_01_5_2020_Feb_21_1509.csv\n",
      "254_alpha_placeholders_matchingBrad_01_6_2020_Feb_21_1517.csv\n",
      "254_alpha_placeholders_matchingBrad_01_7_2020_Feb_21_1524.csv\n",
      "254_alpha_placeholders_matchingBrad_01_8_2020_Feb_21_1531.csv\n",
      "254_alpha_placeholders_matchingBrad_01_9_2020_Feb_21_1540.csv\n",
      "254_alpha_placeholders_matchingBrad_01_10_2020_Feb_21_1547.csv\n"
     ]
    }
   ],
   "source": [
    "behav_files=pd.DataFrame()\n",
    "all_files=[]\n",
    "for f in os.listdir(ROOT_behav):\n",
    "    if '254_' in f:\n",
    "        print(f)\n",
    "        behav_file=pd.read_csv(ROOT_behav+f,engine='python')\n",
    "        all_files.append(behav_file)\n",
    "        behav_files=behav_files.append(behav_file,ignore_index=True)\n",
    "#behav_files.dropna(axis=0,inplace=True,how='any')\n",
    "#print(behav_files)"
   ]
  },
  {
   "cell_type": "code",
   "execution_count": 31,
   "metadata": {},
   "outputs": [
    {
     "data": {
      "text/plain": [
       "Index(['tar_color', 'dis_color', 'SOA', 'block', 'trialNum', 'trial_type',\n",
       "       'corrResp', 'subResp', 'trialCorr?', 'RT', 'tar,dis stim_loc', 'ITI',\n",
       "       'Tar,Dis,Other', 'trial_trigs', 'triggers'],\n",
       "      dtype='object')"
      ]
     },
     "execution_count": 31,
     "metadata": {},
     "output_type": "execute_result"
    }
   ],
   "source": [
    "behav_files.columns"
   ]
  },
  {
   "cell_type": "code",
   "execution_count": 32,
   "metadata": {},
   "outputs": [],
   "source": [
    "behav_files=behav_files.sort_values(['block','trialNum'])\n",
    "#behav_files"
   ]
  },
  {
   "cell_type": "code",
   "execution_count": 33,
   "metadata": {},
   "outputs": [
    {
     "data": {
      "text/plain": [
       "array([ 1,  2,  3,  4,  5,  6,  7,  8,  9, 10])"
      ]
     },
     "execution_count": 33,
     "metadata": {},
     "output_type": "execute_result"
    }
   ],
   "source": [
    "np.unique(list(behav_files['block']))"
   ]
  },
  {
   "cell_type": "code",
   "execution_count": 34,
   "metadata": {},
   "outputs": [],
   "source": [
    "#behav_files.to_csv('/home/dcellier/RDSS/AlphaStudy_Data/eegData/eeg_behavior_data/compiledAllBlocks_s233.csv')"
   ]
  },
  {
   "cell_type": "code",
   "execution_count": 35,
   "metadata": {},
   "outputs": [
    {
     "name": "stdout",
     "output_type": "stream",
     "text": [
      "227_alpha_placeholders_matchingBrad_01_1_2020_Mar_05_1009.csv\n",
      "227_alpha_placeholders_matchingBrad_01_2_2020_Mar_05_1105.csv\n",
      "227_alpha_placeholders_matchingBrad_01_3_2020_Mar_05_1112.csv\n",
      "227_alpha_placeholders_matchingBrad_01_4_2020_Mar_05_1120.csv\n"
     ]
    }
   ],
   "source": [
    "eyetrack_compiled_path='/data/backed_up/shared/AlphaStudy_data/placeholders/eyetracking_compiled_trials/'\n",
    "sub_name='227'\n",
    "pattern=sub_name+'_alpha_placeholders_matchingBrad_*_*_*_*_*_*.csv'\n",
    "pattern2=sub_name+'_alpha_placeholders_matchingBrad_*_*_*_*_*.csv'\n",
    "pattern3=sub_name+'_alpha_placeholders_matchingBrad_*_*_*_*_*_TRUNCATED_TO_MATCH_BDF.csv'\n",
    "pattern4=sub_name+'_alpha_placeholders_matchingBrad_*_*_*_*_*_*_TRUNCATED_TO_MATCH_BDF.csv'\n",
    "behav_files=pd.DataFrame()\n",
    "for f in os.listdir(ROOT_behav):\n",
    "    if fnmatch.fnmatch(f,pattern) or fnmatch.fnmatch(f,pattern2) or fnmatch.fnmatch(f,pattern3) or fnmatch.fnmatch(f,pattern4):\n",
    "        print(f)\n",
    "        behav_file=pd.read_csv(ROOT_behav+f,engine='python')\n",
    "        behav_files=behav_files.append(behav_file,ignore_index=True)\n",
    "behav_files_sorted=behav_files.sort_values(['block','trialNum']).reset_index()\n",
    "#eyes=pd.read_csv(eyetrack_compiled_path+'sub_'+sub_name+'_trialsCompiled.csv')\n",
    "behav_files=pd.concat([behav_files_sorted,eyes],ignore_index=False,axis=1)"
   ]
  },
  {
   "cell_type": "code",
   "execution_count": 36,
   "metadata": {},
   "outputs": [],
   "source": [
    "#behav_files_sorted"
   ]
  },
  {
   "cell_type": "code",
   "execution_count": 37,
   "metadata": {},
   "outputs": [],
   "source": [
    "#behav_files"
   ]
  },
  {
   "cell_type": "code",
   "execution_count": 38,
   "metadata": {},
   "outputs": [
    {
     "name": "stdout",
     "output_type": "stream",
     "text": [
      "3020 events found\n",
      "Event IDs: [  101   103   105   107   109   111   113   115   117   119   121   123\n",
      "   125   127   129   131   133   135   225 65536 65737]\n"
     ]
    }
   ],
   "source": [
    "events=mne.find_events(testing_sub, initial_event=True,min_duration=(2/512))# 133 = start block flag, 135 = stop block"
   ]
  },
  {
   "cell_type": "code",
   "execution_count": 39,
   "metadata": {
    "scrolled": true
   },
   "outputs": [
    {
     "name": "stdout",
     "output_type": "stream",
     "text": [
      "600 matching events found\n",
      "No baseline correction applied\n",
      "Adding metadata with 37 columns\n",
      "0 projection items activated\n"
     ]
    }
   ],
   "source": [
    "## Generating Epochs obj so I can make sure the metadata matches up\n",
    "cue_event_id={'disShortCue_trig':101,'disLongCue_trig':103,'tarShortCue_trig':105,\n",
    "             'tarLongCue_trig':107,'neutShortCue_trig':109, 'neutLongCue_trig':111}\n",
    "testingSub_cueEps=mne.Epochs(testing_sub, events=events, baseline=None, event_id=cue_event_id,\n",
    "                         tmin=-1.3,tmax=1,metadata=behav_files)"
   ]
  },
  {
   "cell_type": "code",
   "execution_count": 40,
   "metadata": {},
   "outputs": [
    {
     "name": "stdout",
     "output_type": "stream",
     "text": [
      "598 matching events found\n",
      "Applying baseline correction (mode: mean)\n"
     ]
    },
    {
     "ename": "ValueError",
     "evalue": "metadata must have the same number of rows (600) as events (598)",
     "output_type": "error",
     "traceback": [
      "\u001b[0;31m---------------------------------------------------------------------------\u001b[0m",
      "\u001b[0;31mValueError\u001b[0m                                Traceback (most recent call last)",
      "\u001b[0;32m<ipython-input-40-874f453a7b07>\u001b[0m in \u001b[0;36m<module>\u001b[0;34m\u001b[0m\n\u001b[1;32m      3\u001b[0m \u001b[0mprobe_tmin\u001b[0m\u001b[0;34m,\u001b[0m \u001b[0mprobe_tmax\u001b[0m \u001b[0;34m=\u001b[0m \u001b[0;36m0\u001b[0m\u001b[0;34m,\u001b[0m\u001b[0;36m5.4\u001b[0m\u001b[0;34m\u001b[0m\u001b[0;34m\u001b[0m\u001b[0m\n\u001b[1;32m      4\u001b[0m testingSub_probeEps=mne.Epochs(testing_sub, events=events, baseline=(2,5.4), event_id=probe_event_id, \n\u001b[0;32m----> 5\u001b[0;31m                                   tmin=probe_tmin, tmax=probe_tmax,metadata=behav_files)\n\u001b[0m",
      "\u001b[0;32m</home/dcellier/condaenvs/p3env/lib/python3.7/site-packages/mne/externals/decorator.py:decorator-gen-204>\u001b[0m in \u001b[0;36m__init__\u001b[0;34m(self, raw, events, event_id, tmin, tmax, baseline, picks, preload, reject, flat, proj, decim, reject_tmin, reject_tmax, detrend, on_missing, reject_by_annotation, metadata, verbose)\u001b[0m\n",
      "\u001b[0;32m~/condaenvs/p3env/lib/python3.7/site-packages/mne/utils/_logging.py\u001b[0m in \u001b[0;36mwrapper\u001b[0;34m(*args, **kwargs)\u001b[0m\n\u001b[1;32m     87\u001b[0m             \u001b[0;32mwith\u001b[0m \u001b[0muse_log_level\u001b[0m\u001b[0;34m(\u001b[0m\u001b[0mverbose_level\u001b[0m\u001b[0;34m)\u001b[0m\u001b[0;34m:\u001b[0m\u001b[0;34m\u001b[0m\u001b[0;34m\u001b[0m\u001b[0m\n\u001b[1;32m     88\u001b[0m                 \u001b[0;32mreturn\u001b[0m \u001b[0mfunction\u001b[0m\u001b[0;34m(\u001b[0m\u001b[0;34m*\u001b[0m\u001b[0margs\u001b[0m\u001b[0;34m,\u001b[0m \u001b[0;34m**\u001b[0m\u001b[0mkwargs\u001b[0m\u001b[0;34m)\u001b[0m\u001b[0;34m\u001b[0m\u001b[0;34m\u001b[0m\u001b[0m\n\u001b[0;32m---> 89\u001b[0;31m         \u001b[0;32mreturn\u001b[0m \u001b[0mfunction\u001b[0m\u001b[0;34m(\u001b[0m\u001b[0;34m*\u001b[0m\u001b[0margs\u001b[0m\u001b[0;34m,\u001b[0m \u001b[0;34m**\u001b[0m\u001b[0mkwargs\u001b[0m\u001b[0;34m)\u001b[0m\u001b[0;34m\u001b[0m\u001b[0;34m\u001b[0m\u001b[0m\n\u001b[0m\u001b[1;32m     90\u001b[0m     return FunctionMaker.create(\n\u001b[1;32m     91\u001b[0m         \u001b[0mfunction\u001b[0m\u001b[0;34m,\u001b[0m \u001b[0;34m'return decfunc(%(signature)s)'\u001b[0m\u001b[0;34m,\u001b[0m\u001b[0;34m\u001b[0m\u001b[0;34m\u001b[0m\u001b[0m\n",
      "\u001b[0;32m~/condaenvs/p3env/lib/python3.7/site-packages/mne/epochs.py\u001b[0m in \u001b[0;36m__init__\u001b[0;34m(self, raw, events, event_id, tmin, tmax, baseline, picks, preload, reject, flat, proj, decim, reject_tmin, reject_tmax, detrend, on_missing, reject_by_annotation, metadata, verbose)\u001b[0m\n\u001b[1;32m   1810\u001b[0m             \u001b[0mreject_tmax\u001b[0m\u001b[0;34m=\u001b[0m\u001b[0mreject_tmax\u001b[0m\u001b[0;34m,\u001b[0m \u001b[0mdetrend\u001b[0m\u001b[0;34m=\u001b[0m\u001b[0mdetrend\u001b[0m\u001b[0;34m,\u001b[0m\u001b[0;34m\u001b[0m\u001b[0;34m\u001b[0m\u001b[0m\n\u001b[1;32m   1811\u001b[0m             \u001b[0mproj\u001b[0m\u001b[0;34m=\u001b[0m\u001b[0mproj\u001b[0m\u001b[0;34m,\u001b[0m \u001b[0mon_missing\u001b[0m\u001b[0;34m=\u001b[0m\u001b[0mon_missing\u001b[0m\u001b[0;34m,\u001b[0m \u001b[0mpreload_at_end\u001b[0m\u001b[0;34m=\u001b[0m\u001b[0mpreload\u001b[0m\u001b[0;34m,\u001b[0m\u001b[0;34m\u001b[0m\u001b[0;34m\u001b[0m\u001b[0m\n\u001b[0;32m-> 1812\u001b[0;31m             verbose=verbose)\n\u001b[0m\u001b[1;32m   1813\u001b[0m \u001b[0;34m\u001b[0m\u001b[0m\n\u001b[1;32m   1814\u001b[0m     \u001b[0;34m@\u001b[0m\u001b[0mverbose\u001b[0m\u001b[0;34m\u001b[0m\u001b[0;34m\u001b[0m\u001b[0m\n",
      "\u001b[0;32m</home/dcellier/condaenvs/p3env/lib/python3.7/site-packages/mne/externals/decorator.py:decorator-gen-195>\u001b[0m in \u001b[0;36m__init__\u001b[0;34m(self, info, data, events, event_id, tmin, tmax, baseline, raw, picks, reject, flat, decim, reject_tmin, reject_tmax, detrend, proj, on_missing, preload_at_end, selection, drop_log, filename, metadata, verbose)\u001b[0m\n",
      "\u001b[0;32m~/condaenvs/p3env/lib/python3.7/site-packages/mne/utils/_logging.py\u001b[0m in \u001b[0;36mwrapper\u001b[0;34m(*args, **kwargs)\u001b[0m\n\u001b[1;32m     87\u001b[0m             \u001b[0;32mwith\u001b[0m \u001b[0muse_log_level\u001b[0m\u001b[0;34m(\u001b[0m\u001b[0mverbose_level\u001b[0m\u001b[0;34m)\u001b[0m\u001b[0;34m:\u001b[0m\u001b[0;34m\u001b[0m\u001b[0;34m\u001b[0m\u001b[0m\n\u001b[1;32m     88\u001b[0m                 \u001b[0;32mreturn\u001b[0m \u001b[0mfunction\u001b[0m\u001b[0;34m(\u001b[0m\u001b[0;34m*\u001b[0m\u001b[0margs\u001b[0m\u001b[0;34m,\u001b[0m \u001b[0;34m**\u001b[0m\u001b[0mkwargs\u001b[0m\u001b[0;34m)\u001b[0m\u001b[0;34m\u001b[0m\u001b[0;34m\u001b[0m\u001b[0m\n\u001b[0;32m---> 89\u001b[0;31m         \u001b[0;32mreturn\u001b[0m \u001b[0mfunction\u001b[0m\u001b[0;34m(\u001b[0m\u001b[0;34m*\u001b[0m\u001b[0margs\u001b[0m\u001b[0;34m,\u001b[0m \u001b[0;34m**\u001b[0m\u001b[0mkwargs\u001b[0m\u001b[0;34m)\u001b[0m\u001b[0;34m\u001b[0m\u001b[0;34m\u001b[0m\u001b[0m\n\u001b[0m\u001b[1;32m     90\u001b[0m     return FunctionMaker.create(\n\u001b[1;32m     91\u001b[0m         \u001b[0mfunction\u001b[0m\u001b[0;34m,\u001b[0m \u001b[0;34m'return decfunc(%(signature)s)'\u001b[0m\u001b[0;34m,\u001b[0m\u001b[0;34m\u001b[0m\u001b[0;34m\u001b[0m\u001b[0m\n",
      "\u001b[0;32m~/condaenvs/p3env/lib/python3.7/site-packages/mne/epochs.py\u001b[0m in \u001b[0;36m__init__\u001b[0;34m(***failed resolving arguments***)\u001b[0m\n\u001b[1;32m    354\u001b[0m         \u001b[0mself\u001b[0m\u001b[0;34m.\u001b[0m\u001b[0minfo\u001b[0m \u001b[0;34m=\u001b[0m \u001b[0mpick_info\u001b[0m\u001b[0;34m(\u001b[0m\u001b[0minfo\u001b[0m\u001b[0;34m,\u001b[0m \u001b[0mself\u001b[0m\u001b[0;34m.\u001b[0m\u001b[0mpicks\u001b[0m\u001b[0;34m)\u001b[0m\u001b[0;34m\u001b[0m\u001b[0;34m\u001b[0m\u001b[0m\n\u001b[1;32m    355\u001b[0m         \u001b[0;32mdel\u001b[0m \u001b[0minfo\u001b[0m\u001b[0;34m\u001b[0m\u001b[0;34m\u001b[0m\u001b[0m\n\u001b[0;32m--> 356\u001b[0;31m         \u001b[0mself\u001b[0m\u001b[0;34m.\u001b[0m\u001b[0mmetadata\u001b[0m \u001b[0;34m=\u001b[0m \u001b[0mmetadata\u001b[0m\u001b[0;34m\u001b[0m\u001b[0;34m\u001b[0m\u001b[0m\n\u001b[0m\u001b[1;32m    357\u001b[0m         \u001b[0mself\u001b[0m\u001b[0;34m.\u001b[0m\u001b[0m_current\u001b[0m \u001b[0;34m=\u001b[0m \u001b[0;36m0\u001b[0m\u001b[0;34m\u001b[0m\u001b[0;34m\u001b[0m\u001b[0m\n\u001b[1;32m    358\u001b[0m \u001b[0;34m\u001b[0m\u001b[0m\n",
      "\u001b[0;32m</home/dcellier/condaenvs/p3env/lib/python3.7/site-packages/mne/externals/decorator.py:decorator-gen-4>\u001b[0m in \u001b[0;36mmetadata\u001b[0;34m(self, metadata, verbose)\u001b[0m\n",
      "\u001b[0;32m~/condaenvs/p3env/lib/python3.7/site-packages/mne/utils/_logging.py\u001b[0m in \u001b[0;36mwrapper\u001b[0;34m(*args, **kwargs)\u001b[0m\n\u001b[1;32m     87\u001b[0m             \u001b[0;32mwith\u001b[0m \u001b[0muse_log_level\u001b[0m\u001b[0;34m(\u001b[0m\u001b[0mverbose_level\u001b[0m\u001b[0;34m)\u001b[0m\u001b[0;34m:\u001b[0m\u001b[0;34m\u001b[0m\u001b[0;34m\u001b[0m\u001b[0m\n\u001b[1;32m     88\u001b[0m                 \u001b[0;32mreturn\u001b[0m \u001b[0mfunction\u001b[0m\u001b[0;34m(\u001b[0m\u001b[0;34m*\u001b[0m\u001b[0margs\u001b[0m\u001b[0;34m,\u001b[0m \u001b[0;34m**\u001b[0m\u001b[0mkwargs\u001b[0m\u001b[0;34m)\u001b[0m\u001b[0;34m\u001b[0m\u001b[0;34m\u001b[0m\u001b[0m\n\u001b[0;32m---> 89\u001b[0;31m         \u001b[0;32mreturn\u001b[0m \u001b[0mfunction\u001b[0m\u001b[0;34m(\u001b[0m\u001b[0;34m*\u001b[0m\u001b[0margs\u001b[0m\u001b[0;34m,\u001b[0m \u001b[0;34m**\u001b[0m\u001b[0mkwargs\u001b[0m\u001b[0;34m)\u001b[0m\u001b[0;34m\u001b[0m\u001b[0;34m\u001b[0m\u001b[0m\n\u001b[0m\u001b[1;32m     90\u001b[0m     return FunctionMaker.create(\n\u001b[1;32m     91\u001b[0m         \u001b[0mfunction\u001b[0m\u001b[0;34m,\u001b[0m \u001b[0;34m'return decfunc(%(signature)s)'\u001b[0m\u001b[0;34m,\u001b[0m\u001b[0;34m\u001b[0m\u001b[0;34m\u001b[0m\u001b[0m\n",
      "\u001b[0;32m~/condaenvs/p3env/lib/python3.7/site-packages/mne/utils/mixin.py\u001b[0m in \u001b[0;36mmetadata\u001b[0;34m(self, metadata, verbose)\u001b[0m\n\u001b[1;32m    372\u001b[0m     \u001b[0;34m@\u001b[0m\u001b[0mverbose\u001b[0m\u001b[0;34m\u001b[0m\u001b[0;34m\u001b[0m\u001b[0m\n\u001b[1;32m    373\u001b[0m     \u001b[0;32mdef\u001b[0m \u001b[0mmetadata\u001b[0m\u001b[0;34m(\u001b[0m\u001b[0mself\u001b[0m\u001b[0;34m,\u001b[0m \u001b[0mmetadata\u001b[0m\u001b[0;34m,\u001b[0m \u001b[0mverbose\u001b[0m\u001b[0;34m=\u001b[0m\u001b[0;32mNone\u001b[0m\u001b[0;34m)\u001b[0m\u001b[0;34m:\u001b[0m\u001b[0;34m\u001b[0m\u001b[0;34m\u001b[0m\u001b[0m\n\u001b[0;32m--> 374\u001b[0;31m         \u001b[0mmetadata\u001b[0m \u001b[0;34m=\u001b[0m \u001b[0mself\u001b[0m\u001b[0;34m.\u001b[0m\u001b[0m_check_metadata\u001b[0m\u001b[0;34m(\u001b[0m\u001b[0mmetadata\u001b[0m\u001b[0;34m,\u001b[0m \u001b[0mreset_index\u001b[0m\u001b[0;34m=\u001b[0m\u001b[0;32mTrue\u001b[0m\u001b[0;34m)\u001b[0m\u001b[0;34m\u001b[0m\u001b[0;34m\u001b[0m\u001b[0m\n\u001b[0m\u001b[1;32m    375\u001b[0m         \u001b[0;32mif\u001b[0m \u001b[0mmetadata\u001b[0m \u001b[0;32mis\u001b[0m \u001b[0;32mnot\u001b[0m \u001b[0;32mNone\u001b[0m\u001b[0;34m:\u001b[0m\u001b[0;34m\u001b[0m\u001b[0;34m\u001b[0m\u001b[0m\n\u001b[1;32m    376\u001b[0m             \u001b[0;32mif\u001b[0m \u001b[0m_check_pandas_installed\u001b[0m\u001b[0;34m(\u001b[0m\u001b[0mstrict\u001b[0m\u001b[0;34m=\u001b[0m\u001b[0;32mFalse\u001b[0m\u001b[0;34m)\u001b[0m\u001b[0;34m:\u001b[0m\u001b[0;34m\u001b[0m\u001b[0;34m\u001b[0m\u001b[0m\n",
      "\u001b[0;32m~/condaenvs/p3env/lib/python3.7/site-packages/mne/utils/mixin.py\u001b[0m in \u001b[0;36m_check_metadata\u001b[0;34m(self, metadata, reset_index)\u001b[0m\n\u001b[1;32m    349\u001b[0m                     raise ValueError('metadata must have the same number of '\n\u001b[1;32m    350\u001b[0m                                      \u001b[0;34m'rows (%d) as events (%d)'\u001b[0m\u001b[0;34m\u001b[0m\u001b[0;34m\u001b[0m\u001b[0m\n\u001b[0;32m--> 351\u001b[0;31m                                      % (len(metadata), len(self.events)))\n\u001b[0m\u001b[1;32m    352\u001b[0m                 \u001b[0;32mif\u001b[0m \u001b[0mreset_index\u001b[0m\u001b[0;34m:\u001b[0m\u001b[0;34m\u001b[0m\u001b[0;34m\u001b[0m\u001b[0m\n\u001b[1;32m    353\u001b[0m                     \u001b[0;32mif\u001b[0m \u001b[0mhasattr\u001b[0m\u001b[0;34m(\u001b[0m\u001b[0mself\u001b[0m\u001b[0;34m,\u001b[0m \u001b[0;34m'selection'\u001b[0m\u001b[0;34m)\u001b[0m\u001b[0;34m:\u001b[0m\u001b[0;34m\u001b[0m\u001b[0;34m\u001b[0m\u001b[0m\n",
      "\u001b[0;31mValueError\u001b[0m: metadata must have the same number of rows (600) as events (598)"
     ]
    }
   ],
   "source": [
    "probe_event_id={'disShortProbe_trig':113,'disLongProbe_trig':115,'tarShortProbe_trig':117,\n",
    "                    'tarLongProbe_trig':119,'neutShortProbe_trig':121,'neutLongProbe_trig':123}\n",
    "probe_tmin, probe_tmax = 0,5.4\n",
    "testingSub_probeEps=mne.Epochs(testing_sub, events=events, baseline=(2,5.4), event_id=probe_event_id, \n",
    "                                  tmin=probe_tmin, tmax=probe_tmax,metadata=behav_files)"
   ]
  },
  {
   "cell_type": "code",
   "execution_count": 41,
   "metadata": {},
   "outputs": [
    {
     "data": {
      "text/plain": [
       "600"
      ]
     },
     "execution_count": 41,
     "metadata": {},
     "output_type": "execute_result"
    }
   ],
   "source": [
    "len(behav_files)"
   ]
  },
  {
   "cell_type": "code",
   "execution_count": 42,
   "metadata": {},
   "outputs": [
    {
     "ename": "NameError",
     "evalue": "name 'sub224_cueEps' is not defined",
     "output_type": "error",
     "traceback": [
      "\u001b[0;31m---------------------------------------------------------------------------\u001b[0m",
      "\u001b[0;31mNameError\u001b[0m                                 Traceback (most recent call last)",
      "\u001b[0;32m<ipython-input-42-2debe84a118d>\u001b[0m in \u001b[0;36m<module>\u001b[0;34m\u001b[0m\n\u001b[0;32m----> 1\u001b[0;31m \u001b[0mnp\u001b[0m\u001b[0;34m.\u001b[0m\u001b[0msum\u001b[0m\u001b[0;34m(\u001b[0m\u001b[0msub224_cueEps\u001b[0m\u001b[0;34m[\u001b[0m\u001b[0;34m'disLongCue_trig'\u001b[0m\u001b[0;34m]\u001b[0m\u001b[0;34m.\u001b[0m\u001b[0mmetadata\u001b[0m\u001b[0;34m[\u001b[0m\u001b[0;34m'SOA'\u001b[0m\u001b[0;34m]\u001b[0m\u001b[0;34m!=\u001b[0m\u001b[0;34m'long'\u001b[0m\u001b[0;34m)\u001b[0m\u001b[0;34m\u001b[0m\u001b[0;34m\u001b[0m\u001b[0m\n\u001b[0m",
      "\u001b[0;31mNameError\u001b[0m: name 'sub224_cueEps' is not defined"
     ]
    }
   ],
   "source": [
    "np.sum(sub224_cueEps['disLongCue_trig'].metadata['SOA']!='long')"
   ]
  },
  {
   "cell_type": "code",
   "execution_count": 43,
   "metadata": {},
   "outputs": [
    {
     "data": {
      "text/plain": [
       "3020"
      ]
     },
     "execution_count": 43,
     "metadata": {},
     "output_type": "execute_result"
    }
   ],
   "source": [
    "len(events)"
   ]
  },
  {
   "cell_type": "code",
   "execution_count": 44,
   "metadata": {},
   "outputs": [],
   "source": [
    "## SEPERATING TRIGS BY BLOCKS\n",
    "    # not all start_block trigs came through \n",
    "    # but all of the end block triggers did,\n",
    "    # so we're basing off of those\n",
    "\n",
    "blocks={}\n",
    "block_counter=0\n",
    "trig_counter=0\n",
    "while block_counter<10: # we usually have 10 blocks of EEG\n",
    "    ev=events[trig_counter]\n",
    "    #print(trig_counter)\n",
    "\n",
    "    if ev[2]==135: # then we've found the end of the block, move on to the next\n",
    "        blocks[str(block_counter)].append(ev)\n",
    "        block_counter += 1\n",
    "    else:\n",
    "        if str(block_counter) not in blocks.keys():\n",
    "            blocks[str(block_counter)]=[]\n",
    "        blocks[str(block_counter)].append(ev)\n",
    "        \n",
    "    trig_counter += 1\n",
    "        "
   ]
  },
  {
   "cell_type": "code",
   "execution_count": 45,
   "metadata": {},
   "outputs": [
    {
     "name": "stdout",
     "output_type": "stream",
     "text": [
      "Block 4 has 59 probe events\n",
      "Block 6 has 59 probe events\n"
     ]
    }
   ],
   "source": [
    "for k in blocks.keys():\n",
    "    probe_count=len([ev[2] for ev in blocks[k] if ev[2] in [113,115,117,119,121,123]])\n",
    "    if probe_count < 60:\n",
    "        print('Block {0} has {1} probe events'.format(k,str(probe_count)))"
   ]
  },
  {
   "cell_type": "code",
   "execution_count": 46,
   "metadata": {},
   "outputs": [
    {
     "name": "stdout",
     "output_type": "stream",
     "text": [
      "Len ITI trigs: 600\n",
      "Len Mask trigs: 600\n",
      "Len Probe trigs: 598\n",
      "Len cue events: 600\n",
      "Len responses: 600\n",
      "Len start block trigs: 9\n",
      "Len stop block trigs: 10\n"
     ]
    }
   ],
   "source": [
    "ITI_evs=[ev[2] for ev in events if ev[2]==127]\n",
    "mask_evs=[ev[2] for ev in events if ev[2]==125]\n",
    "probe_evs=[ev[2] for ev in events if ev[2] in [113,115,117,119,121,123]]\n",
    "cue_evs=[ev[2] for ev in events if ev[2] in [101,103,105,107,109,111]]\n",
    "resp_evs=[ev[2] for ev in events if ev[2] in [129,131]]\n",
    "Startblock_evs=[ev[2] for ev in events if ev[2] ==133]\n",
    "Stopblock_evs=[ev[2] for ev in events if ev[2] ==135]\n",
    "print(\"Len ITI trigs: \"+ str(len(ITI_evs)))\n",
    "print(\"Len Mask trigs: \"+ str(len(mask_evs)))\n",
    "print(\"Len Probe trigs: \"+str(len(probe_evs)))\n",
    "print(\"Len cue events: \"+str(len(cue_evs)))\n",
    "print(\"Len responses: \"+str(len(resp_evs)))\n",
    "print(\"Len start block trigs: \"+str(len(Startblock_evs)))\n",
    "print(\"Len stop block trigs: \"+str(len(Stopblock_evs)))"
   ]
  },
  {
   "cell_type": "code",
   "execution_count": 47,
   "metadata": {
    "scrolled": true
   },
   "outputs": [],
   "source": [
    "probe_block0=[ev[2] for ev in blocks['0'] if ev[2] in [113,115,117,119,121,123]]\n",
    "#probe_block0\n",
    "enumerated_trigs=[]\n",
    "for i,p in enumerate(probe_block0):\n",
    "    enumerated_trigs.append([i,p])"
   ]
  },
  {
   "cell_type": "code",
   "execution_count": 48,
   "metadata": {},
   "outputs": [
    {
     "data": {
      "text/plain": [
       "[[0, 119],\n",
       " [1, 119],\n",
       " [2, 113],\n",
       " [3, 119],\n",
       " [4, 123],\n",
       " [5, 121],\n",
       " [6, 119],\n",
       " [7, 119],\n",
       " [8, 115],\n",
       " [9, 113],\n",
       " [10, 123],\n",
       " [11, 119],\n",
       " [12, 119],\n",
       " [13, 117],\n",
       " [14, 123],\n",
       " [15, 115],\n",
       " [16, 117],\n",
       " [17, 121],\n",
       " [18, 117],\n",
       " [19, 123],\n",
       " [20, 113],\n",
       " [21, 121],\n",
       " [22, 123],\n",
       " [23, 113],\n",
       " [24, 121],\n",
       " [25, 115],\n",
       " [26, 115],\n",
       " [27, 121],\n",
       " [28, 117],\n",
       " [29, 115],\n",
       " [30, 115],\n",
       " [31, 123],\n",
       " [32, 117],\n",
       " [33, 117],\n",
       " [34, 119],\n",
       " [35, 119],\n",
       " [36, 113],\n",
       " [37, 115],\n",
       " [38, 123],\n",
       " [39, 123],\n",
       " [40, 123],\n",
       " [41, 113],\n",
       " [42, 113],\n",
       " [43, 115],\n",
       " [44, 123],\n",
       " [45, 115],\n",
       " [46, 113],\n",
       " [47, 117],\n",
       " [48, 117],\n",
       " [49, 113],\n",
       " [50, 117],\n",
       " [51, 117],\n",
       " [52, 121],\n",
       " [53, 121],\n",
       " [54, 113],\n",
       " [55, 115],\n",
       " [56, 119],\n",
       " [57, 121],\n",
       " [58, 121],\n",
       " [59, 121]]"
      ]
     },
     "execution_count": 48,
     "metadata": {},
     "output_type": "execute_result"
    }
   ],
   "source": [
    "enumerated_trigs"
   ]
  },
  {
   "cell_type": "code",
   "execution_count": null,
   "metadata": {
    "scrolled": true
   },
   "outputs": [],
   "source": [
    "behav_trigs_probe_block0=list(behav_files[behav_files['block']==1]['trial_trigs'])\n",
    "behav_trigs_probe_block0[0][5:10]\n",
    "enumerated_behav=[]\n",
    "for i,p in enumerate(behav_trigs_probe_block0):\n",
    "    #print(i,int(p[5:9]))\n",
    "    enumerated_behav.append([i,int(p[5:9])])\n"
   ]
  },
  {
   "cell_type": "code",
   "execution_count": null,
   "metadata": {
    "scrolled": true
   },
   "outputs": [],
   "source": [
    "for t,b in zip(enumerated_trigs,enumerated_behav):\n",
    "    print(t,b)"
   ]
  },
  {
   "cell_type": "code",
   "execution_count": null,
   "metadata": {
    "scrolled": true
   },
   "outputs": [],
   "source": [
    "#cue_evs[:60]\n",
    "#cue_evs[60:120]\n",
    "#cue_evs[120:180]\n",
    "#cue_evs[180:240]"
   ]
  },
  {
   "cell_type": "code",
   "execution_count": null,
   "metadata": {},
   "outputs": [],
   "source": [
    "#all_trigs[:10]"
   ]
  },
  {
   "cell_type": "code",
   "execution_count": null,
   "metadata": {},
   "outputs": [],
   "source": [
    "mask_trigs=[ev[2] for ev in events if ev[2]==125]\n",
    "len(mask_trigs)"
   ]
  },
  {
   "cell_type": "code",
   "execution_count": null,
   "metadata": {},
   "outputs": [],
   "source": [
    "all_trigs=[ev[2] for ev in events if ev[2] in [101,103,105,107,109,111,113,115,117,119,121,123]]"
   ]
  },
  {
   "cell_type": "code",
   "execution_count": null,
   "metadata": {},
   "outputs": [],
   "source": [
    "len(all_trigs)/2"
   ]
  },
  {
   "cell_type": "code",
   "execution_count": null,
   "metadata": {
    "scrolled": false
   },
   "outputs": [],
   "source": [
    "#all_trigs[-10:]"
   ]
  },
  {
   "cell_type": "code",
   "execution_count": null,
   "metadata": {},
   "outputs": [],
   "source": [
    "all_trigs[:10]"
   ]
  },
  {
   "cell_type": "code",
   "execution_count": null,
   "metadata": {},
   "outputs": [],
   "source": [
    "#events[:10]\n",
    "all_trigs[-10:]"
   ]
  },
  {
   "cell_type": "code",
   "execution_count": null,
   "metadata": {},
   "outputs": [],
   "source": [
    "behav_files"
   ]
  },
  {
   "cell_type": "code",
   "execution_count": null,
   "metadata": {},
   "outputs": [],
   "source": [
    "behav_files=pd.DataFrame()\n",
    "sub_name='228'\n",
    "pattern=sub_name+'_alpha_placeholders_matchingBrad_*_*_*_*_*_*.csv'\n",
    "pattern2=sub_name+'_alpha_placeholders_matchingBrad_*_*_*_*_*.csv'\n",
    "pattern3=sub_name+'_alpha_placeholders_matchingBrad_*_*_*_*_*_TRUNCATED_TO_MATCH_BDF.csv'\n",
    "pattern4=sub_name+'_alpha_placeholders_matchingBrad_*_*_*_*_*_*_TRUNCATED_TO_MATCH_BDF.csv'\n",
    "behav_files=pd.DataFrame()\n",
    "for f in os.listdir(ROOT_behav):\n",
    "    if fnmatch.fnmatch(f,pattern) or fnmatch.fnmatch(f,pattern2) or fnmatch.fnmatch(f,pattern3) or fnmatch.fnmatch(f,pattern4):\n",
    "        print(f)\n",
    "        behav_file=pd.read_csv(ROOT_behav+f,engine='python')\n",
    "        behav_files=behav_files.append(behav_file,ignore_index=True)\n"
   ]
  },
  {
   "cell_type": "code",
   "execution_count": null,
   "metadata": {
    "scrolled": true
   },
   "outputs": [],
   "source": [
    "behav_files=behav_files.sort_values(['block','trialNum']).reset_index()"
   ]
  },
  {
   "cell_type": "code",
   "execution_count": null,
   "metadata": {},
   "outputs": [],
   "source": [
    "behav_files.head()"
   ]
  },
  {
   "cell_type": "code",
   "execution_count": null,
   "metadata": {},
   "outputs": [],
   "source": [
    "#eyes=pd.read_csv(ROOT_eyetrack+'sub_197_trialsCompiled_TRUNCATED_TO_MATCH.csv')\n",
    "#adjusted_behav=pd.read_csv(ROOT_behav+'197_alpha_placeholders_matchingBrad_01_2019_Nov_12_1319_TRUNCATED_TO_MATCH_BDF.csv')"
   ]
  },
  {
   "cell_type": "code",
   "execution_count": null,
   "metadata": {},
   "outputs": [],
   "source": [
    "eyes=pd.read_csv(ROOT_eyetrack+'sub_228_trialsCompiled_TRUNCATED_TO_MATCH.csv')"
   ]
  },
  {
   "cell_type": "code",
   "execution_count": null,
   "metadata": {},
   "outputs": [],
   "source": [
    "len(eyes)"
   ]
  },
  {
   "cell_type": "code",
   "execution_count": null,
   "metadata": {
    "scrolled": true
   },
   "outputs": [],
   "source": [
    "\n",
    "eyes.head()"
   ]
  },
  {
   "cell_type": "code",
   "execution_count": null,
   "metadata": {},
   "outputs": [],
   "source": [
    "appended=pd.concat([behav_files,eyes],ignore_index=False,axis=1)\n",
    "#appended.to_csv('/data/backed_up/shared/AlphaStudy_data/placeholders/eyetracking_compiled_trials/sub_228_trialsCompiled_FOR_PROBE.csv')"
   ]
  },
  {
   "cell_type": "code",
   "execution_count": null,
   "metadata": {},
   "outputs": [],
   "source": [
    "#behav_files.append(eyes,ignore_index=True,axis=1)\n",
    "appended"
   ]
  },
  {
   "cell_type": "code",
   "execution_count": null,
   "metadata": {},
   "outputs": [],
   "source": [
    "pd.read_csv('/data/backed_up/shared/AlphaStudy_data/placeholders/eyetracking_compiled_trials/sub_212_trialsCompiled_FOR_CUES.csv')"
   ]
  },
  {
   "cell_type": "code",
   "execution_count": null,
   "metadata": {},
   "outputs": [],
   "source": []
  }
 ],
 "metadata": {
  "kernelspec": {
   "display_name": "Python 3",
   "language": "python",
   "name": "python3"
  },
  "language_info": {
   "codemirror_mode": {
    "name": "ipython",
    "version": 3
   },
   "file_extension": ".py",
   "mimetype": "text/x-python",
   "name": "python",
   "nbconvert_exporter": "python",
   "pygments_lexer": "ipython3",
   "version": "3.7.1"
  }
 },
 "nbformat": 4,
 "nbformat_minor": 2
}
