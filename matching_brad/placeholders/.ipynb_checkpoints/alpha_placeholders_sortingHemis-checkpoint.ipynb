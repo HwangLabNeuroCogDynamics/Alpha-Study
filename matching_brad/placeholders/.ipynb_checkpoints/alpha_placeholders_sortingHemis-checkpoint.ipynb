{
 "cells": [
  {
   "cell_type": "markdown",
   "metadata": {},
   "source": [
    "## Sorting conditions into left hemisphere v right hemisphere v central, as a basis for looking at alpha reaction to distractors v targets in the ipsi and contralateral hemishere"
   ]
  },
  {
   "cell_type": "code",
   "execution_count": 1,
   "metadata": {},
   "outputs": [],
   "source": [
    "import pandas as pd\n",
    "import mne\n",
    "import os\n",
    "import numpy as np\n",
    "from mne.time_frequency import tfr_morlet\n",
    "import ast"
   ]
  },
  {
   "cell_type": "code",
   "execution_count": 2,
   "metadata": {},
   "outputs": [],
   "source": [
    "ROOT_preproc='/data/backed_up/shared/AlphaStudy_data/placeholders/preproc_EEG_matchingBrad/'\n",
    "list_subs=os.listdir(ROOT_preproc)"
   ]
  },
  {
   "cell_type": "code",
   "execution_count": 3,
   "metadata": {
    "scrolled": true
   },
   "outputs": [
    {
     "name": "stdout",
     "output_type": "stream",
     "text": [
      "Reading /data/backed_up/shared/AlphaStudy_data/placeholders/preproc_EEG_matchingBrad/224/cue-epo.fif ...\n",
      "    Found the data of interest:\n",
      "        t =   -1300.78 ...    1000.00 ms\n",
      "        0 CTF compensation matrices available\n",
      "660 matching events found\n",
      "Applying baseline correction (mode: mean)\n",
      "Adding metadata with 15 columns\n",
      "0 projection items activated\n",
      "Reading /data/backed_up/shared/AlphaStudy_data/placeholders/preproc_EEG_matchingBrad/224/probe events-epo.fif ...\n",
      "    Found the data of interest:\n",
      "        t =       0.00 ...    5400.39 ms\n",
      "        0 CTF compensation matrices available\n",
      "660 matching events found\n",
      "Applying baseline correction (mode: mean)\n",
      "Adding metadata with 15 columns\n",
      "0 projection items activated\n",
      "Reading /data/backed_up/shared/AlphaStudy_data/placeholders/preproc_EEG_matchingBrad/214/cue-epo.fif ...\n",
      "    Found the data of interest:\n",
      "        t =   -1300.78 ...    1000.00 ms\n",
      "        0 CTF compensation matrices available\n",
      "592 matching events found\n",
      "Applying baseline correction (mode: mean)\n",
      "Adding metadata with 15 columns\n",
      "0 projection items activated\n",
      "Reading /data/backed_up/shared/AlphaStudy_data/placeholders/preproc_EEG_matchingBrad/214/probe events-epo.fif ...\n",
      "    Found the data of interest:\n",
      "        t =       0.00 ...    5400.39 ms\n",
      "        0 CTF compensation matrices available\n",
      "595 matching events found\n",
      "Applying baseline correction (mode: mean)\n",
      "Adding metadata with 15 columns\n",
      "0 projection items activated\n",
      "Reading /data/backed_up/shared/AlphaStudy_data/placeholders/preproc_EEG_matchingBrad/211/cue-epo.fif ...\n",
      "    Found the data of interest:\n",
      "        t =   -1300.78 ...    1000.00 ms\n",
      "        0 CTF compensation matrices available\n",
      "590 matching events found\n",
      "Applying baseline correction (mode: mean)\n",
      "Adding metadata with 38 columns\n",
      "0 projection items activated\n",
      "Reading /data/backed_up/shared/AlphaStudy_data/placeholders/preproc_EEG_matchingBrad/211/probe events-epo.fif ...\n",
      "    Found the data of interest:\n",
      "        t =       0.00 ...    5400.39 ms\n",
      "        0 CTF compensation matrices available\n",
      "582 matching events found\n",
      "Applying baseline correction (mode: mean)\n",
      "Adding metadata with 38 columns\n",
      "0 projection items activated\n",
      "Reading /data/backed_up/shared/AlphaStudy_data/placeholders/preproc_EEG_matchingBrad/206/cue-epo.fif ...\n",
      "    Found the data of interest:\n",
      "        t =   -1300.78 ...    1000.00 ms\n",
      "        0 CTF compensation matrices available\n",
      "597 matching events found\n",
      "Applying baseline correction (mode: mean)\n",
      "Adding metadata with 36 columns\n",
      "0 projection items activated\n",
      "Reading /data/backed_up/shared/AlphaStudy_data/placeholders/preproc_EEG_matchingBrad/206/probe events-epo.fif ...\n",
      "    Found the data of interest:\n",
      "        t =       0.00 ...    5400.39 ms\n",
      "        0 CTF compensation matrices available\n",
      "593 matching events found\n",
      "Applying baseline correction (mode: mean)\n",
      "Adding metadata with 36 columns\n",
      "0 projection items activated\n",
      "Reading /data/backed_up/shared/AlphaStudy_data/placeholders/preproc_EEG_matchingBrad/225/cue-epo.fif ...\n",
      "    Found the data of interest:\n",
      "        t =   -1300.78 ...    1000.00 ms\n",
      "        0 CTF compensation matrices available\n",
      "600 matching events found\n",
      "Applying baseline correction (mode: mean)\n",
      "Adding metadata with 36 columns\n",
      "0 projection items activated\n",
      "Reading /data/backed_up/shared/AlphaStudy_data/placeholders/preproc_EEG_matchingBrad/225/probe events-epo.fif ...\n",
      "    Found the data of interest:\n",
      "        t =       0.00 ...    5400.39 ms\n",
      "        0 CTF compensation matrices available\n",
      "595 matching events found\n",
      "Applying baseline correction (mode: mean)\n",
      "Adding metadata with 36 columns\n",
      "0 projection items activated\n",
      "Reading /data/backed_up/shared/AlphaStudy_data/placeholders/preproc_EEG_matchingBrad/226/cue-epo.fif ...\n",
      "    Found the data of interest:\n",
      "        t =   -1300.78 ...    1000.00 ms\n",
      "        0 CTF compensation matrices available\n",
      "598 matching events found\n",
      "Applying baseline correction (mode: mean)\n",
      "Adding metadata with 36 columns\n",
      "0 projection items activated\n",
      "Reading /data/backed_up/shared/AlphaStudy_data/placeholders/preproc_EEG_matchingBrad/226/probe events-epo.fif ...\n",
      "    Found the data of interest:\n",
      "        t =       0.00 ...    5400.39 ms\n",
      "        0 CTF compensation matrices available\n",
      "592 matching events found\n",
      "Applying baseline correction (mode: mean)\n",
      "Adding metadata with 36 columns\n",
      "0 projection items activated\n",
      "Reading /data/backed_up/shared/AlphaStudy_data/placeholders/preproc_EEG_matchingBrad/233/cue-epo.fif ...\n",
      "    Found the data of interest:\n",
      "        t =   -1300.78 ...    1000.00 ms\n",
      "        0 CTF compensation matrices available\n",
      "596 matching events found\n",
      "Applying baseline correction (mode: mean)\n",
      "Adding metadata with 37 columns\n",
      "0 projection items activated\n",
      "Reading /data/backed_up/shared/AlphaStudy_data/placeholders/preproc_EEG_matchingBrad/233/probe events-epo.fif ...\n",
      "    Found the data of interest:\n",
      "        t =       0.00 ...    5400.39 ms\n",
      "        0 CTF compensation matrices available\n",
      "593 matching events found\n",
      "Applying baseline correction (mode: mean)\n",
      "Adding metadata with 37 columns\n",
      "0 projection items activated\n",
      "Reading /data/backed_up/shared/AlphaStudy_data/placeholders/preproc_EEG_matchingBrad/223/cue-epo.fif ...\n",
      "    Found the data of interest:\n",
      "        t =   -1300.78 ...    1000.00 ms\n",
      "        0 CTF compensation matrices available\n",
      "589 matching events found\n",
      "Applying baseline correction (mode: mean)\n",
      "Adding metadata with 36 columns\n",
      "0 projection items activated\n",
      "Reading /data/backed_up/shared/AlphaStudy_data/placeholders/preproc_EEG_matchingBrad/223/probe events-epo.fif ...\n",
      "    Found the data of interest:\n",
      "        t =       0.00 ...    5400.39 ms\n",
      "        0 CTF compensation matrices available\n",
      "583 matching events found\n",
      "Applying baseline correction (mode: mean)\n",
      "Adding metadata with 36 columns\n",
      "0 projection items activated\n",
      "Reading /data/backed_up/shared/AlphaStudy_data/placeholders/preproc_EEG_matchingBrad/197/cue-epo.fif ...\n",
      "    Found the data of interest:\n",
      "        t =   -1300.78 ...    1000.00 ms\n",
      "        0 CTF compensation matrices available\n",
      "578 matching events found\n",
      "Applying baseline correction (mode: mean)\n",
      "Adding metadata with 36 columns\n",
      "0 projection items activated\n",
      "Reading /data/backed_up/shared/AlphaStudy_data/placeholders/preproc_EEG_matchingBrad/197/probe events-epo.fif ...\n",
      "    Found the data of interest:\n",
      "        t =       0.00 ...    5400.39 ms\n",
      "        0 CTF compensation matrices available\n",
      "577 matching events found\n",
      "Applying baseline correction (mode: mean)\n",
      "Adding metadata with 36 columns\n",
      "0 projection items activated\n",
      "Reading /data/backed_up/shared/AlphaStudy_data/placeholders/preproc_EEG_matchingBrad/228/cue-epo.fif ...\n",
      "    Found the data of interest:\n",
      "        t =   -1300.78 ...    1000.00 ms\n",
      "        0 CTF compensation matrices available\n",
      "578 matching events found\n",
      "Applying baseline correction (mode: mean)\n",
      "Adding metadata with 36 columns\n",
      "0 projection items activated\n",
      "Reading /data/backed_up/shared/AlphaStudy_data/placeholders/preproc_EEG_matchingBrad/228/probe events-epo.fif ...\n",
      "    Found the data of interest:\n",
      "        t =       0.00 ...    5400.39 ms\n",
      "        0 CTF compensation matrices available\n",
      "548 matching events found\n",
      "Applying baseline correction (mode: mean)\n",
      "Adding metadata with 38 columns\n",
      "0 projection items activated\n"
     ]
    }
   ],
   "source": [
    "preproc_cue_eps={}\n",
    "preproc_probe_eps={}\n",
    "for s in list_subs:\n",
    "    cue=mne.read_epochs(ROOT_preproc+s+'/'+'cue-epo.fif')\n",
    "    probe=mne.read_epochs(ROOT_preproc+s+'/'+'probe events-epo.fif')\n",
    "    preproc_cue_eps[s]=cue\n",
    "    preproc_probe_eps[s]=probe"
   ]
  },
  {
   "cell_type": "code",
   "execution_count": 4,
   "metadata": {},
   "outputs": [
    {
     "data": {
      "text/html": [
       "<div>\n",
       "<style scoped>\n",
       "    .dataframe tbody tr th:only-of-type {\n",
       "        vertical-align: middle;\n",
       "    }\n",
       "\n",
       "    .dataframe tbody tr th {\n",
       "        vertical-align: top;\n",
       "    }\n",
       "\n",
       "    .dataframe thead th {\n",
       "        text-align: right;\n",
       "    }\n",
       "</style>\n",
       "<table border=\"1\" class=\"dataframe\">\n",
       "  <thead>\n",
       "    <tr style=\"text-align: right;\">\n",
       "      <th></th>\n",
       "      <th>index</th>\n",
       "      <th>tar_color</th>\n",
       "      <th>dis_color</th>\n",
       "      <th>SOA</th>\n",
       "      <th>block</th>\n",
       "      <th>trialNum</th>\n",
       "      <th>trial_type</th>\n",
       "      <th>corrResp</th>\n",
       "      <th>subResp</th>\n",
       "      <th>trialCorr?</th>\n",
       "      <th>...</th>\n",
       "      <th>leftX_probe</th>\n",
       "      <th>leftY_cue</th>\n",
       "      <th>leftY_mask</th>\n",
       "      <th>leftY_probe</th>\n",
       "      <th>rightX_cue</th>\n",
       "      <th>rightX_mask</th>\n",
       "      <th>rightX_probe</th>\n",
       "      <th>rightY_cue</th>\n",
       "      <th>rightY_mask</th>\n",
       "      <th>rightY_probe</th>\n",
       "    </tr>\n",
       "  </thead>\n",
       "  <tbody>\n",
       "    <tr>\n",
       "      <th>3</th>\n",
       "      <td>0</td>\n",
       "      <td>blue</td>\n",
       "      <td>red</td>\n",
       "      <td>long</td>\n",
       "      <td>1</td>\n",
       "      <td>0</td>\n",
       "      <td>dis</td>\n",
       "      <td>p</td>\n",
       "      <td>q</td>\n",
       "      <td>0.0</td>\n",
       "      <td>...</td>\n",
       "      <td>[15.8868, 14.3658, 13.6439, 14.1477, 9.70166, ...</td>\n",
       "      <td>[23.7462, 26.8353, 24.4404, 27.5154, 24.8745, ...</td>\n",
       "      <td>[25.9653, 23.8048, 26.0161, 30.1587, 20.2811, ...</td>\n",
       "      <td>[40.4043, 40.6115, 37.516, 46.5099, 38.8395, 4...</td>\n",
       "      <td>[32.6365, 31.651999999999997, 33.7598, 33.3966...</td>\n",
       "      <td>[28.4338, 34.2328, 35.8075, 32.7913, 32.7972, ...</td>\n",
       "      <td>[46.2546, 45.8972, 48.4182, 47.2302, 47.516000...</td>\n",
       "      <td>[30.2379, 22.1595, 26.7102, 27.4427, 18.0974, ...</td>\n",
       "      <td>[23.3749, 31.8154, 27.2798, 26.9539, 27.807, 2...</td>\n",
       "      <td>[40.4187, 34.2367, 38.9684, 35.1368, 37.7606, ...</td>\n",
       "    </tr>\n",
       "    <tr>\n",
       "      <th>8</th>\n",
       "      <td>1</td>\n",
       "      <td>blue</td>\n",
       "      <td>red</td>\n",
       "      <td>long</td>\n",
       "      <td>1</td>\n",
       "      <td>1</td>\n",
       "      <td>dis</td>\n",
       "      <td>p</td>\n",
       "      <td>p</td>\n",
       "      <td>1.0</td>\n",
       "      <td>...</td>\n",
       "      <td>[4.63782, -1.1613799999999999, 4.9813199999999...</td>\n",
       "      <td>[31.951999999999998, 27.899, 31.9746, 26.0516,...</td>\n",
       "      <td>[27.6514, 27.6766, 25.4014, 25.4685, 29.701999...</td>\n",
       "      <td>[24.7671, 27.113000000000003, 26.2921, 25.5043...</td>\n",
       "      <td>[36.3181, 36.3715, 38.2732, 29.8751, 35.1483, ...</td>\n",
       "      <td>[30.4399, 35.9374, 31.4523, 30.9774, 26.8755, ...</td>\n",
       "      <td>[29.2091, 37.4181, 33.586999999999996, 37.2896...</td>\n",
       "      <td>[22.6167, 28.3213, 27.4908, 25.0062, 23.0895, ...</td>\n",
       "      <td>[23.6102, 27.7855, 27.875999999999998, 24.0566...</td>\n",
       "      <td>[23.8031, 29.686999999999998, 27.3269999999999...</td>\n",
       "    </tr>\n",
       "    <tr>\n",
       "      <th>23</th>\n",
       "      <td>4</td>\n",
       "      <td>blue</td>\n",
       "      <td>red</td>\n",
       "      <td>long</td>\n",
       "      <td>1</td>\n",
       "      <td>4</td>\n",
       "      <td>dis</td>\n",
       "      <td>p</td>\n",
       "      <td>q</td>\n",
       "      <td>0.0</td>\n",
       "      <td>...</td>\n",
       "      <td>[2.4150400000000003, 2.05493, 2.57750999999999...</td>\n",
       "      <td>[30.9437, 30.6653, 34.7609, 36.2324, 29.5891, ...</td>\n",
       "      <td>[33.6353, 35.1494, 34.4948, 35.4889, 35.3999, ...</td>\n",
       "      <td>[38.8503, 36.8386, 38.5317, 40.16, 35.8691, 41...</td>\n",
       "      <td>[36.7462, 39.3616, 34.0376, 39.3363, 38.6257, ...</td>\n",
       "      <td>[39.827, 36.8601, 39.75, 34.603, 36.7679, 33.1...</td>\n",
       "      <td>[43.6892, 45.6107, 44.1088, 45.8937, 42.6216, ...</td>\n",
       "      <td>[27.804000000000002, 27.8601, 29.6394, 28.0621...</td>\n",
       "      <td>[25.7981, 31.9279, 32.7922, 29.4139, 31.7782, ...</td>\n",
       "      <td>[34.0837, 35.0005, 29.4657, 29.5063, 30.5249, ...</td>\n",
       "    </tr>\n",
       "    <tr>\n",
       "      <th>38</th>\n",
       "      <td>7</td>\n",
       "      <td>blue</td>\n",
       "      <td>red</td>\n",
       "      <td>long</td>\n",
       "      <td>1</td>\n",
       "      <td>7</td>\n",
       "      <td>dis</td>\n",
       "      <td>p</td>\n",
       "      <td>p</td>\n",
       "      <td>1.0</td>\n",
       "      <td>...</td>\n",
       "      <td>[3.96423, 1.1561299999999999, 2.57947, -7.7970...</td>\n",
       "      <td>[30.4352, 30.9375, 35.4603, 31.0364, 33.1064, ...</td>\n",
       "      <td>[39.6799, 33.9094, 38.004, 27.9429, 27.6417, 3...</td>\n",
       "      <td>[32.6926, 32.6169, 30.2021, 31.4546, 29.5209, ...</td>\n",
       "      <td>[35.5868, 33.8912, 36.17, 39.1051, 37.5428, 35...</td>\n",
       "      <td>[40.4681, 36.459, 40.9487, 39.3295, 41.6252, 3...</td>\n",
       "      <td>[43.1698, 39.0259, 39.5602, 36.7448, 41.8217, ...</td>\n",
       "      <td>[25.8754, 29.7162, 28.2974, 26.0686, 31.0775, ...</td>\n",
       "      <td>[31.6421, 24.3771, 27.3977, 27.0018, 31.3632, ...</td>\n",
       "      <td>[30.9556, 27.4797, 32.6969, 26.0117, 31.7438, ...</td>\n",
       "    </tr>\n",
       "    <tr>\n",
       "      <th>103</th>\n",
       "      <td>20</td>\n",
       "      <td>blue</td>\n",
       "      <td>red</td>\n",
       "      <td>long</td>\n",
       "      <td>1</td>\n",
       "      <td>20</td>\n",
       "      <td>dis</td>\n",
       "      <td>p</td>\n",
       "      <td>p</td>\n",
       "      <td>1.0</td>\n",
       "      <td>...</td>\n",
       "      <td>[-3.98096, -1.28235, 0.265259, -0.620483, 1.04...</td>\n",
       "      <td>[29.8114, 30.3938, 25.925, 28.6373, 30.4058, 3...</td>\n",
       "      <td>[23.8004, 21.8303, 23.9386, 28.7679, 25.2227, ...</td>\n",
       "      <td>[38.8226, 35.7577, 38.4858, 36.3488, 33.9507, ...</td>\n",
       "      <td>[45.1927, 47.3732, 46.7235, 43.8455, 43.9103, ...</td>\n",
       "      <td>[42.965, 43.3114, 45.2378, 45.1066, 42.6228, 4...</td>\n",
       "      <td>[40.933, 42.2944, 44.1056, 41.8735, 41.5332, 4...</td>\n",
       "      <td>[20.4316, 25.8386, 29.4603, 28.6846, 27.619, 2...</td>\n",
       "      <td>[26.2623, 26.3616, 24.0509, 31.1199, 25.1295, ...</td>\n",
       "      <td>[31.5265, 32.8861, 29.9617, 34.7913, 31.5569, ...</td>\n",
       "    </tr>\n",
       "  </tbody>\n",
       "</table>\n",
       "<p>5 rows × 37 columns</p>\n",
       "</div>"
      ],
      "text/plain": [
       "     index tar_color dis_color   SOA  block  trialNum trial_type corrResp  \\\n",
       "3        0      blue       red  long      1         0        dis        p   \n",
       "8        1      blue       red  long      1         1        dis        p   \n",
       "23       4      blue       red  long      1         4        dis        p   \n",
       "38       7      blue       red  long      1         7        dis        p   \n",
       "103     20      blue       red  long      1        20        dis        p   \n",
       "\n",
       "    subResp  trialCorr?                        ...                          \\\n",
       "3         q         0.0                        ...                           \n",
       "8         p         1.0                        ...                           \n",
       "23        q         0.0                        ...                           \n",
       "38        p         1.0                        ...                           \n",
       "103       p         1.0                        ...                           \n",
       "\n",
       "                                           leftX_probe  \\\n",
       "3    [15.8868, 14.3658, 13.6439, 14.1477, 9.70166, ...   \n",
       "8    [4.63782, -1.1613799999999999, 4.9813199999999...   \n",
       "23   [2.4150400000000003, 2.05493, 2.57750999999999...   \n",
       "38   [3.96423, 1.1561299999999999, 2.57947, -7.7970...   \n",
       "103  [-3.98096, -1.28235, 0.265259, -0.620483, 1.04...   \n",
       "\n",
       "                                             leftY_cue  \\\n",
       "3    [23.7462, 26.8353, 24.4404, 27.5154, 24.8745, ...   \n",
       "8    [31.951999999999998, 27.899, 31.9746, 26.0516,...   \n",
       "23   [30.9437, 30.6653, 34.7609, 36.2324, 29.5891, ...   \n",
       "38   [30.4352, 30.9375, 35.4603, 31.0364, 33.1064, ...   \n",
       "103  [29.8114, 30.3938, 25.925, 28.6373, 30.4058, 3...   \n",
       "\n",
       "                                            leftY_mask  \\\n",
       "3    [25.9653, 23.8048, 26.0161, 30.1587, 20.2811, ...   \n",
       "8    [27.6514, 27.6766, 25.4014, 25.4685, 29.701999...   \n",
       "23   [33.6353, 35.1494, 34.4948, 35.4889, 35.3999, ...   \n",
       "38   [39.6799, 33.9094, 38.004, 27.9429, 27.6417, 3...   \n",
       "103  [23.8004, 21.8303, 23.9386, 28.7679, 25.2227, ...   \n",
       "\n",
       "                                           leftY_probe  \\\n",
       "3    [40.4043, 40.6115, 37.516, 46.5099, 38.8395, 4...   \n",
       "8    [24.7671, 27.113000000000003, 26.2921, 25.5043...   \n",
       "23   [38.8503, 36.8386, 38.5317, 40.16, 35.8691, 41...   \n",
       "38   [32.6926, 32.6169, 30.2021, 31.4546, 29.5209, ...   \n",
       "103  [38.8226, 35.7577, 38.4858, 36.3488, 33.9507, ...   \n",
       "\n",
       "                                            rightX_cue  \\\n",
       "3    [32.6365, 31.651999999999997, 33.7598, 33.3966...   \n",
       "8    [36.3181, 36.3715, 38.2732, 29.8751, 35.1483, ...   \n",
       "23   [36.7462, 39.3616, 34.0376, 39.3363, 38.6257, ...   \n",
       "38   [35.5868, 33.8912, 36.17, 39.1051, 37.5428, 35...   \n",
       "103  [45.1927, 47.3732, 46.7235, 43.8455, 43.9103, ...   \n",
       "\n",
       "                                           rightX_mask  \\\n",
       "3    [28.4338, 34.2328, 35.8075, 32.7913, 32.7972, ...   \n",
       "8    [30.4399, 35.9374, 31.4523, 30.9774, 26.8755, ...   \n",
       "23   [39.827, 36.8601, 39.75, 34.603, 36.7679, 33.1...   \n",
       "38   [40.4681, 36.459, 40.9487, 39.3295, 41.6252, 3...   \n",
       "103  [42.965, 43.3114, 45.2378, 45.1066, 42.6228, 4...   \n",
       "\n",
       "                                          rightX_probe  \\\n",
       "3    [46.2546, 45.8972, 48.4182, 47.2302, 47.516000...   \n",
       "8    [29.2091, 37.4181, 33.586999999999996, 37.2896...   \n",
       "23   [43.6892, 45.6107, 44.1088, 45.8937, 42.6216, ...   \n",
       "38   [43.1698, 39.0259, 39.5602, 36.7448, 41.8217, ...   \n",
       "103  [40.933, 42.2944, 44.1056, 41.8735, 41.5332, 4...   \n",
       "\n",
       "                                            rightY_cue  \\\n",
       "3    [30.2379, 22.1595, 26.7102, 27.4427, 18.0974, ...   \n",
       "8    [22.6167, 28.3213, 27.4908, 25.0062, 23.0895, ...   \n",
       "23   [27.804000000000002, 27.8601, 29.6394, 28.0621...   \n",
       "38   [25.8754, 29.7162, 28.2974, 26.0686, 31.0775, ...   \n",
       "103  [20.4316, 25.8386, 29.4603, 28.6846, 27.619, 2...   \n",
       "\n",
       "                                           rightY_mask  \\\n",
       "3    [23.3749, 31.8154, 27.2798, 26.9539, 27.807, 2...   \n",
       "8    [23.6102, 27.7855, 27.875999999999998, 24.0566...   \n",
       "23   [25.7981, 31.9279, 32.7922, 29.4139, 31.7782, ...   \n",
       "38   [31.6421, 24.3771, 27.3977, 27.0018, 31.3632, ...   \n",
       "103  [26.2623, 26.3616, 24.0509, 31.1199, 25.1295, ...   \n",
       "\n",
       "                                          rightY_probe  \n",
       "3    [40.4187, 34.2367, 38.9684, 35.1368, 37.7606, ...  \n",
       "8    [23.8031, 29.686999999999998, 27.3269999999999...  \n",
       "23   [34.0837, 35.0005, 29.4657, 29.5063, 30.5249, ...  \n",
       "38   [30.9556, 27.4797, 32.6969, 26.0117, 31.7438, ...  \n",
       "103  [31.5265, 32.8861, 29.9617, 34.7913, 31.5569, ...  \n",
       "\n",
       "[5 rows x 37 columns]"
      ]
     },
     "execution_count": 4,
     "metadata": {},
     "output_type": "execute_result"
    }
   ],
   "source": [
    "preproc_cue_eps['233']['disLongCue_trig'].metadata.head()"
   ]
  },
  {
   "cell_type": "markdown",
   "metadata": {},
   "source": [
    "## Verifying that metadata is matched to bdf like it should be!"
   ]
  },
  {
   "cell_type": "code",
   "execution_count": 5,
   "metadata": {},
   "outputs": [],
   "source": [
    "conditions=['tarShortCue_trig','disShortCue_trig','neutShortCue_trig',\n",
    "           'tarLongCue_trig','disLongCue_trig','neutLongCue_trig']\n",
    "\n",
    "for s in list_subs:\n",
    "    for c in conditions:\n",
    "        if 'tar' in c:\n",
    "            csv_label='tar'\n",
    "        elif 'dis' in c:\n",
    "            csv_label='dis'\n",
    "        elif 'neut' in c:\n",
    "            csv_label='neut'\n",
    "        if 'Short' in c:\n",
    "            soa_label='short'\n",
    "        if 'Long' in c:\n",
    "            soa_label='long'\n",
    "            \n",
    "        wrongly_labeled=np.sum(preproc_cue_eps[s][c].metadata['trial_type']!=csv_label)\n",
    "        if wrongly_labeled != 0:\n",
    "            print(s)\n",
    "            \n",
    "        wrongly_labeled=np.sum(preproc_cue_eps[s][c].metadata['SOA']!=soa_label)\n",
    "        if wrongly_labeled != 0:\n",
    "            print(s)\n",
    "        "
   ]
  },
  {
   "cell_type": "markdown",
   "metadata": {},
   "source": [
    "## Sort through metadata for ea subject and ea condition and identify the left v right v central hemisphere trials"
   ]
  },
  {
   "cell_type": "code",
   "execution_count": 6,
   "metadata": {
    "scrolled": true
   },
   "outputs": [],
   "source": [
    "a=preproc_cue_eps['224']['disLongCue_trig'][0].metadata['tar,dis stim_loc'].iloc[0]"
   ]
  },
  {
   "cell_type": "code",
   "execution_count": 7,
   "metadata": {},
   "outputs": [
    {
     "data": {
      "text/plain": [
       "\"('12', '7')\""
      ]
     },
     "execution_count": 7,
     "metadata": {},
     "output_type": "execute_result"
    }
   ],
   "source": [
    "a"
   ]
  },
  {
   "cell_type": "code",
   "execution_count": 8,
   "metadata": {
    "scrolled": true
   },
   "outputs": [],
   "source": [
    "d=preproc_cue_eps['224']['disLongCue_trig']\n",
    "e=preproc_cue_eps['224']['tarLongCue_trig']\n",
    "#mne.epochs.add_channels_epochs(epochs_list=[d,e])\n",
    "#.metadata['tar,dis stim_loc']"
   ]
  },
  {
   "cell_type": "code",
   "execution_count": 9,
   "metadata": {},
   "outputs": [
    {
     "name": "stdout",
     "output_type": "stream",
     "text": [
      "(110, 65, 1179)\n",
      "Dropped 2 epochs\n",
      "(108, 65, 1179)\n"
     ]
    }
   ],
   "source": [
    "b=preproc_cue_eps['224']['disLongCue_trig']\n",
    "print(b.get_data().shape)\n",
    "c=b.drop(np.asarray([0,1]))\n",
    "print(c.get_data().shape)"
   ]
  },
  {
   "cell_type": "code",
   "execution_count": 10,
   "metadata": {},
   "outputs": [
    {
     "data": {
      "text/plain": [
       "108"
      ]
     },
     "execution_count": 10,
     "metadata": {},
     "output_type": "execute_result"
    }
   ],
   "source": [
    "len(b)"
   ]
  },
  {
   "cell_type": "code",
   "execution_count": 11,
   "metadata": {},
   "outputs": [
    {
     "data": {
      "text/plain": [
       "'12'"
      ]
     },
     "execution_count": 11,
     "metadata": {},
     "output_type": "execute_result"
    }
   ],
   "source": [
    "ast.literal_eval(a)[0]"
   ]
  },
  {
   "cell_type": "code",
   "execution_count": 12,
   "metadata": {},
   "outputs": [],
   "source": [
    "right_stim=['1','3','5']\n",
    "center_stim=['6','12']\n",
    "left_stim=['7','9','11']"
   ]
  },
  {
   "cell_type": "code",
   "execution_count": 13,
   "metadata": {
    "scrolled": true
   },
   "outputs": [
    {
     "name": "stdout",
     "output_type": "stream",
     "text": [
      "Dropped 62 epochs\n",
      "Dropped 68 epochs\n",
      "Dropped 90 epochs\n",
      "Dropped 68 epochs\n",
      "Dropped 74 epochs\n",
      "Dropped 78 epochs\n",
      "Dropped 65 epochs\n",
      "Dropped 75 epochs\n",
      "Dropped 80 epochs\n",
      "Dropped 77 epochs\n",
      "Dropped 59 epochs\n",
      "Dropped 84 epochs\n",
      "Dropped 63 epochs\n",
      "Dropped 65 epochs\n",
      "Dropped 70 epochs\n",
      "Dropped 59 epochs\n",
      "Dropped 66 epochs\n",
      "Dropped 75 epochs\n",
      "Dropped 65 epochs\n",
      "Dropped 58 epochs\n",
      "Dropped 73 epochs\n",
      "Dropped 64 epochs\n",
      "Dropped 53 epochs\n",
      "Dropped 81 epochs\n",
      "Dropped 64 epochs\n",
      "Dropped 55 epochs\n",
      "Dropped 77 epochs\n",
      "Dropped 60 epochs\n",
      "Dropped 60 epochs\n",
      "Dropped 76 epochs\n",
      "Dropped 65 epochs\n",
      "Dropped 60 epochs\n",
      "Dropped 73 epochs\n",
      "Dropped 67 epochs\n",
      "Dropped 57 epochs\n",
      "Dropped 70 epochs\n",
      "Dropped 59 epochs\n",
      "Dropped 67 epochs\n",
      "Dropped 74 epochs\n",
      "Dropped 74 epochs\n",
      "Dropped 53 epochs\n",
      "Dropped 73 epochs\n",
      "Dropped 60 epochs\n",
      "Dropped 61 epochs\n",
      "Dropped 79 epochs\n",
      "Dropped 53 epochs\n",
      "Dropped 70 epochs\n",
      "Dropped 77 epochs\n",
      "Dropped 68 epochs\n",
      "Dropped 62 epochs\n",
      "Dropped 70 epochs\n",
      "Dropped 60 epochs\n",
      "Dropped 62 epochs\n",
      "Dropped 78 epochs\n",
      "Dropped 62 epochs\n",
      "Dropped 60 epochs\n",
      "Dropped 78 epochs\n",
      "Dropped 55 epochs\n",
      "Dropped 69 epochs\n",
      "Dropped 76 epochs\n",
      "Dropped 67 epochs\n",
      "Dropped 60 epochs\n",
      "Dropped 71 epochs\n",
      "Dropped 57 epochs\n",
      "Dropped 66 epochs\n",
      "Dropped 77 epochs\n",
      "Dropped 67 epochs\n",
      "Dropped 62 epochs\n",
      "Dropped 71 epochs\n",
      "Dropped 65 epochs\n",
      "Dropped 59 epochs\n",
      "Dropped 74 epochs\n",
      "Dropped 64 epochs\n",
      "Dropped 60 epochs\n",
      "Dropped 74 epochs\n",
      "Dropped 63 epochs\n",
      "Dropped 62 epochs\n",
      "Dropped 75 epochs\n",
      "Dropped 70 epochs\n",
      "Dropped 48 epochs\n",
      "Dropped 82 epochs\n",
      "Dropped 55 epochs\n",
      "Dropped 66 epochs\n",
      "Dropped 75 epochs\n",
      "Dropped 60 epochs\n",
      "Dropped 54 epochs\n",
      "Dropped 82 epochs\n",
      "Dropped 64 epochs\n",
      "Dropped 64 epochs\n",
      "Dropped 68 epochs\n",
      "Dropped 59 epochs\n",
      "Dropped 60 epochs\n",
      "Dropped 81 epochs\n",
      "Dropped 57 epochs\n",
      "Dropped 72 epochs\n",
      "Dropped 71 epochs\n",
      "Dropped 63 epochs\n",
      "Dropped 55 epochs\n",
      "Dropped 70 epochs\n",
      "Dropped 53 epochs\n",
      "Dropped 70 epochs\n",
      "Dropped 73 epochs\n",
      "Dropped 70 epochs\n",
      "Dropped 52 epochs\n",
      "Dropped 76 epochs\n",
      "Dropped 56 epochs\n",
      "Dropped 66 epochs\n",
      "Dropped 70 epochs\n",
      "Dropped 59 epochs\n",
      "Dropped 63 epochs\n",
      "Dropped 66 epochs\n",
      "Dropped 65 epochs\n",
      "Dropped 56 epochs\n",
      "Dropped 71 epochs\n",
      "Dropped 56 epochs\n",
      "Dropped 58 epochs\n",
      "Dropped 74 epochs\n",
      "Dropped 56 epochs\n",
      "Dropped 68 epochs\n",
      "Dropped 72 epochs\n"
     ]
    }
   ],
   "source": [
    "# We have to loop through each subject, each condition, \n",
    "# and find every trial that is *not* in the L, R, or center,\n",
    "# and drop those tirals from 3 copies of the original epochs to get three\n",
    "# copies that are only L, R, or Center trials\n",
    "\n",
    "conditions=['tarShortCue_trig','disShortCue_trig',\n",
    "           'tarLongCue_trig','disLongCue_trig']#,'neutShortCue_trig','neutLongCue_trig']\n",
    "preprocCues_LeftH={}\n",
    "preprocCues_RightH={}\n",
    "preprocCues_CenterH={}\n",
    "\n",
    "for sub in preproc_cue_eps.keys():\n",
    "    \n",
    "    preprocCues_LeftH[sub]={}\n",
    "    preprocCues_RightH[sub]={}\n",
    "    preprocCues_CenterH[sub]={}\n",
    "    \n",
    "    # load cue_epochs for this sub\n",
    "    cue_eps=preproc_cue_eps[sub]\n",
    "    \n",
    "    # loop thru conditions\n",
    "    for cond in conditions:\n",
    "        epsForThisCond=cue_eps[cond]\n",
    "                    \n",
    "        # set up empty lists to be populated with trials that are NOT L/R/center\n",
    "        not_right=[]\n",
    "        not_left=[]\n",
    "        not_center=[]\n",
    "        # will populate w bools where True== drop this trial\n",
    "        \n",
    "        # loop thru each trial, and check out the metadata\n",
    "        for trial_n in range(len(epsForThisCond)):\n",
    "            this_trial=epsForThisCond[trial_n]\n",
    "            \n",
    "            assert this_trial.metadata['trial_type'].iloc[0] in cond            \n",
    "            # grab out the behav data of this trial\n",
    "            this_trial_StimLoc=this_trial.metadata['tar,dis stim_loc'].iloc[0]\n",
    "            this_trial_StimLoc=ast.literal_eval(this_trial_StimLoc) # turn it into a literal tuple\n",
    "            \n",
    "            # identify the condition of interest and pull out that stim loc\n",
    "            if 'tar' in cond:\n",
    "                thisClockPos=this_trial_StimLoc[0] \n",
    "                # if its the target that was the color singleton, we care about which\n",
    "                                        # hemisphere that was in\n",
    "            elif 'dis' in cond:\n",
    "                thisClockPos=this_trial_StimLoc[1]\n",
    "            \n",
    "            # if the the clock pos is on the right side of the screen, \n",
    "                # then we want to document as not-not right, not left, and not center\n",
    "            if thisClockPos in right_stim:\n",
    "                not_right.append(False)\n",
    "                not_left.append(True)\n",
    "                not_center.append(True)\n",
    "            elif thisClockPos in left_stim:\n",
    "                not_right.append(True)\n",
    "                not_left.append(False)\n",
    "                not_center.append(True)\n",
    "            elif thisClockPos in center_stim:\n",
    "                not_right.append(True)\n",
    "                not_left.append(True)\n",
    "                not_center.append(False)\n",
    "        \n",
    "        #print(len(not_right),len(not_left),len(not_center),len(epsForThisCond))\n",
    "        assert len(not_right) == len(not_left) == len(not_center) == len(epsForThisCond)\n",
    "        \n",
    "        # make three copies of the original epochs for this condition\n",
    "        all_Rights=epsForThisCond.copy()\n",
    "        all_Lefts=epsForThisCond.copy()\n",
    "        all_Centers=epsForThisCond.copy()\n",
    "        \n",
    "        # then drop all of the epochs that are \"True\" in not being on the side of the screen we want\n",
    "        all_Rights.drop(indices=np.asarray(not_right),reason='Dropping all left and centers')\n",
    "        all_Lefts.drop(indices=np.asarray(not_left),reason='Dropping all right and centers')\n",
    "        all_Centers.drop(indices=np.asarray(not_center),reason='Dropping all left and rights')\n",
    "        \n",
    "        # asserting that the len of the original eps object == \n",
    "        # [3x len of the original epochs object] minus [the sum of all dropped epochs]\n",
    "        # Did this to make sure no \"False\" is \"True\" in any other list\n",
    "        assert ((len(epsForThisCond)*3)-(np.sum(not_right)+np.sum(not_left)+np.sum(not_center)))==len(epsForThisCond)\n",
    "        \n",
    "        # now put it into a dict\n",
    "        preprocCues_LeftH[sub][cond]=all_Lefts\n",
    "        preprocCues_RightH[sub][cond]=all_Rights\n",
    "        preprocCues_CenterH[sub][cond]=all_Centers\n",
    "        \n",
    "        \n",
    "        \n",
    "            \n",
    "               \n"
   ]
  },
  {
   "cell_type": "code",
   "execution_count": 15,
   "metadata": {},
   "outputs": [],
   "source": [
    "#all_Rights.metadata\n",
    "#all_Centers.metadata"
   ]
  },
  {
   "cell_type": "code",
   "execution_count": 16,
   "metadata": {},
   "outputs": [
    {
     "data": {
      "text/plain": [
       "{'tarShortCue_trig': <EpochsFIF  |   20 events (all good), -1.30078 - 1 sec, baseline [-1.30078, -0.3], ~11.9 MB, data loaded, with metadata,\n",
       "  'tarShortCue_trig': 20>,\n",
       " 'disShortCue_trig': <EpochsFIF  |   32 events (all good), -1.30078 - 1 sec, baseline [-1.30078, -0.3], ~18.9 MB, data loaded, with metadata,\n",
       "  'disShortCue_trig': 32>,\n",
       " 'tarLongCue_trig': <EpochsFIF  |   30 events (all good), -1.30078 - 1 sec, baseline [-1.30078, -0.3], ~17.7 MB, data loaded, with metadata,\n",
       "  'tarLongCue_trig': 30>,\n",
       " 'disLongCue_trig': <EpochsFIF  |   26 events (all good), -1.30078 - 1 sec, baseline [-1.30078, -0.3], ~15.4 MB, data loaded, with metadata,\n",
       "  'disLongCue_trig': 26>}"
      ]
     },
     "execution_count": 16,
     "metadata": {},
     "output_type": "execute_result"
    }
   ],
   "source": [
    "preprocCues_CenterH['224']"
   ]
  },
  {
   "cell_type": "markdown",
   "metadata": {},
   "source": [
    "## PLOTTING EACH SUBJECT, AND EA CONDITION"
   ]
  },
  {
   "cell_type": "code",
   "execution_count": null,
   "metadata": {
    "scrolled": true
   },
   "outputs": [],
   "source": [
    "freqs=np.arange(.5,38.,2.)\n",
    "n_cycles = freqs / 2.\n",
    "leftPost_elecs=['CP5','CP3','P7','P5','P3','PO3','PO7']\n",
    "rightPost_elecs=['CP4','CP6','P4','P6','P8','PO4','PO8']\n",
    "\n",
    "for s in list_subs:\n",
    "    print('\\n\\n\\n')\n",
    "    thisSubLefts=preprocCues_LeftH[s]\n",
    "    thisSubRights=preprocCues_RightH[s]\n",
    "    thisSubCenters=preprocCues_CenterH[s]\n",
    "    print('       ~~~~~~~~~~~~~~~~~~~\\n')\n",
    "    print('~~~~~~~~ PLOTTING SUB %s ~~~~~~~~~~~\\n' %s)\n",
    "    print('       ~~~~~~~~~~~~~~~~~~~\\n')\n",
    "    \n",
    "    for cond in ['disLongCue_trig','tarLongCue_trig']:\n",
    "        tfr_left=mne.time_frequency.tfr_morlet(thisSubLefts[cond],freqs=freqs,n_cycles=n_cycles,average=True,\n",
    "                                             use_fft=True,return_itc=False, decim=2, n_jobs=1)\n",
    "        tfr_center=mne.time_frequency.tfr_morlet(thisSubCenters[cond],freqs=freqs,n_cycles=n_cycles,average=True,\n",
    "                                             use_fft=True,return_itc=False, decim=2, n_jobs=1)\n",
    "        tfr_right=mne.time_frequency.tfr_morlet(thisSubRights[cond],freqs=freqs,n_cycles=n_cycles,average=True,\n",
    "                                             use_fft=True,return_itc=False, decim=2, n_jobs=1)\n",
    "        tfr_left.apply_baseline(mode='zscore', baseline=(-1.300, -0.5))\n",
    "        tfr_center.apply_baseline(mode='zscore', baseline=(-1.300, -0.5))\n",
    "        tfr_right.apply_baseline(mode='zscore', baseline=(-1.300, -0.5))\n",
    "    \n",
    "        leftMinusCenter=tfr_left-tfr_center\n",
    "        rightMinusCenter=tfr_right-tfr_center\n",
    "        \n",
    "        print('\\nPLOTTING CONDITION %s \\n' %cond)\n",
    "        \n",
    "        print('\\n\\nplotting left hemisphere MINUS center for %s\\n' %cond)\n",
    "        leftMinusCenter.plot(vmin=-7,vmax=7,tmin=0,tmax=1,picks=rightPost_elecs,title='RIGHT Posterior Chs:').show()\n",
    "        leftMinusCenter.plot(vmin=-7,vmax=7,tmin=0,tmax=1,picks=leftPost_elecs,title='LEFT Posterior Chs:').show()\n",
    "        \n",
    "        print('\\n\\nplotting right hemisphere MINUS center for %s\\n' %cond)\n",
    "        rightMinusCenter.plot(vmin=-7,vmax=7,tmin=0,tmax=1,picks=rightPost_elecs,title='RIGHT Posterior Chs:').show()\n",
    "        rightMinusCenter.plot(vmin=-7,vmax=7,tmin=0,tmax=1,picks=leftPost_elecs,title='LEFT Posterior Chs:').show()\n",
    "        \n",
    "       "
   ]
  },
  {
   "cell_type": "markdown",
   "metadata": {},
   "source": [
    "## AVERAGING OVER SUBS"
   ]
  },
  {
   "cell_type": "code",
   "execution_count": 25,
   "metadata": {
    "scrolled": true
   },
   "outputs": [
    {
     "name": "stdout",
     "output_type": "stream",
     "text": [
      "extracting sub 224, cond tarShortCue_trig\n",
      "extracting sub 214, cond tarShortCue_trig\n",
      "extracting sub 211, cond tarShortCue_trig\n",
      "extracting sub 206, cond tarShortCue_trig\n",
      "extracting sub 225, cond tarShortCue_trig\n",
      "extracting sub 226, cond tarShortCue_trig\n",
      "extracting sub 233, cond tarShortCue_trig\n",
      "extracting sub 223, cond tarShortCue_trig\n",
      "extracting sub 197, cond tarShortCue_trig\n",
      "extracting sub 228, cond tarShortCue_trig\n",
      "Applying baseline correction (mode: zscore)\n",
      "Finished with left hemis for this cond\n",
      "extracting sub 224, cond disShortCue_trig\n",
      "extracting sub 214, cond disShortCue_trig\n",
      "extracting sub 211, cond disShortCue_trig\n",
      "extracting sub 206, cond disShortCue_trig\n",
      "extracting sub 225, cond disShortCue_trig\n",
      "extracting sub 226, cond disShortCue_trig\n",
      "extracting sub 233, cond disShortCue_trig\n",
      "extracting sub 223, cond disShortCue_trig\n",
      "extracting sub 197, cond disShortCue_trig\n",
      "extracting sub 228, cond disShortCue_trig\n",
      "Applying baseline correction (mode: zscore)\n",
      "Finished with left hemis for this cond\n",
      "extracting sub 224, cond tarLongCue_trig\n",
      "extracting sub 214, cond tarLongCue_trig\n",
      "extracting sub 211, cond tarLongCue_trig\n",
      "extracting sub 206, cond tarLongCue_trig\n",
      "extracting sub 225, cond tarLongCue_trig\n",
      "extracting sub 226, cond tarLongCue_trig\n",
      "extracting sub 233, cond tarLongCue_trig\n",
      "extracting sub 223, cond tarLongCue_trig\n",
      "extracting sub 197, cond tarLongCue_trig\n",
      "extracting sub 228, cond tarLongCue_trig\n",
      "Applying baseline correction (mode: zscore)\n",
      "Finished with left hemis for this cond\n",
      "extracting sub 224, cond disLongCue_trig\n",
      "extracting sub 214, cond disLongCue_trig\n",
      "extracting sub 211, cond disLongCue_trig\n",
      "extracting sub 206, cond disLongCue_trig\n",
      "extracting sub 225, cond disLongCue_trig\n",
      "extracting sub 226, cond disLongCue_trig\n",
      "extracting sub 233, cond disLongCue_trig\n",
      "extracting sub 223, cond disLongCue_trig\n",
      "extracting sub 197, cond disLongCue_trig\n",
      "extracting sub 228, cond disLongCue_trig\n",
      "Applying baseline correction (mode: zscore)\n",
      "Finished with left hemis for this cond\n",
      "extracting sub 224, cond tarShortCue_trig\n",
      "extracting sub 214, cond tarShortCue_trig\n",
      "extracting sub 211, cond tarShortCue_trig\n",
      "extracting sub 206, cond tarShortCue_trig\n",
      "extracting sub 225, cond tarShortCue_trig\n",
      "extracting sub 226, cond tarShortCue_trig\n",
      "extracting sub 233, cond tarShortCue_trig\n",
      "extracting sub 223, cond tarShortCue_trig\n",
      "extracting sub 197, cond tarShortCue_trig\n",
      "extracting sub 228, cond tarShortCue_trig\n",
      "Applying baseline correction (mode: zscore)\n",
      "Finished with right hemis for this cond\n",
      "extracting sub 224, cond disShortCue_trig\n",
      "extracting sub 214, cond disShortCue_trig\n",
      "extracting sub 211, cond disShortCue_trig\n",
      "extracting sub 206, cond disShortCue_trig\n",
      "extracting sub 225, cond disShortCue_trig\n",
      "extracting sub 226, cond disShortCue_trig\n",
      "extracting sub 233, cond disShortCue_trig\n",
      "extracting sub 223, cond disShortCue_trig\n",
      "extracting sub 197, cond disShortCue_trig\n",
      "extracting sub 228, cond disShortCue_trig\n",
      "Applying baseline correction (mode: zscore)\n",
      "Finished with right hemis for this cond\n",
      "extracting sub 224, cond tarLongCue_trig\n",
      "extracting sub 214, cond tarLongCue_trig\n",
      "extracting sub 211, cond tarLongCue_trig\n",
      "extracting sub 206, cond tarLongCue_trig\n",
      "extracting sub 225, cond tarLongCue_trig\n",
      "extracting sub 226, cond tarLongCue_trig\n",
      "extracting sub 233, cond tarLongCue_trig\n",
      "extracting sub 223, cond tarLongCue_trig\n",
      "extracting sub 197, cond tarLongCue_trig\n",
      "extracting sub 228, cond tarLongCue_trig\n",
      "Applying baseline correction (mode: zscore)\n",
      "Finished with right hemis for this cond\n",
      "extracting sub 224, cond disLongCue_trig\n",
      "extracting sub 214, cond disLongCue_trig\n",
      "extracting sub 211, cond disLongCue_trig\n",
      "extracting sub 206, cond disLongCue_trig\n",
      "extracting sub 225, cond disLongCue_trig\n",
      "extracting sub 226, cond disLongCue_trig\n",
      "extracting sub 233, cond disLongCue_trig\n",
      "extracting sub 223, cond disLongCue_trig\n",
      "extracting sub 197, cond disLongCue_trig\n",
      "extracting sub 228, cond disLongCue_trig\n",
      "Applying baseline correction (mode: zscore)\n",
      "Finished with right hemis for this cond\n",
      "extracting sub 224, cond tarShortCue_trig\n",
      "extracting sub 214, cond tarShortCue_trig\n",
      "extracting sub 211, cond tarShortCue_trig\n",
      "extracting sub 206, cond tarShortCue_trig\n",
      "extracting sub 225, cond tarShortCue_trig\n",
      "extracting sub 226, cond tarShortCue_trig\n",
      "extracting sub 233, cond tarShortCue_trig\n",
      "extracting sub 223, cond tarShortCue_trig\n",
      "extracting sub 197, cond tarShortCue_trig\n",
      "extracting sub 228, cond tarShortCue_trig\n",
      "Applying baseline correction (mode: zscore)\n",
      "Finished w centers for this cond\n",
      "extracting sub 224, cond disShortCue_trig\n",
      "extracting sub 214, cond disShortCue_trig\n",
      "extracting sub 211, cond disShortCue_trig\n",
      "extracting sub 206, cond disShortCue_trig\n",
      "extracting sub 225, cond disShortCue_trig\n",
      "extracting sub 226, cond disShortCue_trig\n",
      "extracting sub 233, cond disShortCue_trig\n",
      "extracting sub 223, cond disShortCue_trig\n",
      "extracting sub 197, cond disShortCue_trig\n",
      "extracting sub 228, cond disShortCue_trig\n",
      "Applying baseline correction (mode: zscore)\n",
      "Finished w centers for this cond\n",
      "extracting sub 224, cond tarLongCue_trig\n",
      "extracting sub 214, cond tarLongCue_trig\n",
      "extracting sub 211, cond tarLongCue_trig\n",
      "extracting sub 206, cond tarLongCue_trig\n",
      "extracting sub 225, cond tarLongCue_trig\n",
      "extracting sub 226, cond tarLongCue_trig\n",
      "extracting sub 233, cond tarLongCue_trig\n",
      "extracting sub 223, cond tarLongCue_trig\n",
      "extracting sub 197, cond tarLongCue_trig\n",
      "extracting sub 228, cond tarLongCue_trig\n",
      "Applying baseline correction (mode: zscore)\n",
      "Finished w centers for this cond\n",
      "extracting sub 224, cond disLongCue_trig\n",
      "extracting sub 214, cond disLongCue_trig\n",
      "extracting sub 211, cond disLongCue_trig\n",
      "extracting sub 206, cond disLongCue_trig\n",
      "extracting sub 225, cond disLongCue_trig\n",
      "extracting sub 226, cond disLongCue_trig\n",
      "extracting sub 233, cond disLongCue_trig\n",
      "extracting sub 223, cond disLongCue_trig\n",
      "extracting sub 197, cond disLongCue_trig\n",
      "extracting sub 228, cond disLongCue_trig\n",
      "Applying baseline correction (mode: zscore)\n",
      "Finished w centers for this cond\n"
     ]
    }
   ],
   "source": [
    "freqs=np.arange(.5,38.,2.)\n",
    "n_cycles = freqs / 2.\n",
    "leftPost_elecs=['CP5','CP3','P7','P5','P3','PO3','PO7']\n",
    "rightPost_elecs=['CP4','CP6','P4','P6','P8','PO4','PO8']\n",
    "all_conds=['tarShortCue_trig','disShortCue_trig',\n",
    "           'tarLongCue_trig','disLongCue_trig'] # ,'neutLongCue_trig,'neutShortCue_trig',\n",
    "all_subs_Lefts={}\n",
    "all_subs_Rights={}\n",
    "all_subs_Centers={}\n",
    "\n",
    "for lateralizedSubDict in [preprocCues_LeftH, preprocCues_RightH, preprocCues_CenterH]:\n",
    "    \n",
    "    for cond in all_conds: \n",
    "        # loading an example subject to steal the python object's structure\n",
    "        # and overwrite the subject data with a group average\n",
    "        skeleton_obj=mne.time_frequency.tfr_morlet(lateralizedSubDict['228'][cond],freqs=freqs,n_cycles=n_cycles,\n",
    "                                                   average=True,use_fft=True,return_itc=False, decim=2, n_jobs=1)\n",
    "        thisCond_allSubsDat=[]\n",
    "        for s in list_subs:\n",
    "            #print('\\n\\n\\n')\n",
    "            thisSub=lateralizedSubDict[s][cond]\n",
    "            print('extracting sub {0}, cond {1}'.format(s,cond))\n",
    "            subDat=mne.time_frequency.tfr_morlet(thisSub,freqs=freqs,n_cycles=n_cycles,average=True,\n",
    "                                                     use_fft=True,return_itc=False, decim=2, n_jobs=1)\n",
    "            thisCond_allSubsDat.append(subDat.data)\n",
    "            \n",
    "        # compiling all subjects' data for this condition, in this hemisphere\n",
    "        all_subs_thisCond=np.stack(thisCond_allSubsDat)\n",
    "        # and averaging across the \"subject\" dimension\n",
    "        assert all_subs_thisCond.shape[0] == len(list_subs)\n",
    "        all_subs_thisCond=all_subs_thisCond.mean(axis=0)\n",
    "        # then feeding that into the skeleton MNE averageTFR object\n",
    "        skeleton_obj.data=all_subs_thisCond\n",
    "\n",
    "        skeleton_obj.apply_baseline(mode='zscore', baseline=(-1.300, -0.5))\n",
    "        \n",
    "        if lateralizedSubDict==preprocCues_LeftH:\n",
    "            all_subs_Lefts[cond]=skeleton_obj\n",
    "            print('Finished with left hemis for this cond')\n",
    "        elif lateralizedSubDict==preprocCues_RightH:\n",
    "            all_subs_Rights[cond]=skeleton_obj\n",
    "            print('Finished with right hemis for this cond')\n",
    "        elif lateralizedSubDict==preprocCues_CenterH:\n",
    "            all_subs_Centers[cond]=skeleton_obj\n",
    "            print('Finished w centers for this cond')\n",
    "        \n",
    "        \n",
    "\n"
   ]
  },
  {
   "cell_type": "markdown",
   "metadata": {},
   "source": [
    "### Target Long SOA, when the target is present on the right side of the screen\n",
    "##### expect less alpha power, less inhibition, esp in left channels"
   ]
  },
  {
   "cell_type": "code",
   "execution_count": 38,
   "metadata": {
    "scrolled": false
   },
   "outputs": [
    {
     "name": "stdout",
     "output_type": "stream",
     "text": [
      "\n",
      "\n",
      "plotting RIGHT hemisphere MINUS CENTER for tarLongCue_trig\n",
      "\n",
      "No baseline correction applied\n"
     ]
    },
    {
     "data": {
      "image/png": "[encoded data removed]",
      "text/plain": [
       "<Figure size 432x288 with 2 Axes>"
      ]
     },
     "metadata": {
      "needs_background": "light"
     },
     "output_type": "display_data"
    },
    {
     "name": "stdout",
     "output_type": "stream",
     "text": [
      "No baseline correction applied\n"
     ]
    },
    {
     "data": {
      "image/png": "[encoded data removed]",
      "text/plain": [
       "<Figure size 432x288 with 2 Axes>"
      ]
     },
     "metadata": {
      "needs_background": "light"
     },
     "output_type": "display_data"
    }
   ],
   "source": [
    "cond='tarLongCue_trig'\n",
    "## Contrasting with centrally presented:\n",
    "lat=all_subs_Rights[cond]\n",
    "center=all_subs_Centers[cond]\n",
    "latMinusCenter=lat-center\n",
    "print('\\n\\nplotting RIGHT hemisphere MINUS CENTER for %s\\n' %cond)\n",
    "latMinusCenter.plot(vmin=-7,vmax=7,tmin=0,tmax=1,picks=rightPost_elecs,title='RIGHT Posterior Chs:').show()\n",
    "latMinusCenter.plot(vmin=-7,vmax=7,tmin=0,tmax=1,picks=leftPost_elecs,title='LEFT Posterior Chs:').show()\n",
    "\n"
   ]
  },
  {
   "cell_type": "markdown",
   "metadata": {},
   "source": [
    "### Target Long SOA, target presented in left visual hemi\n",
    "##### expect less alpha power (== less inhibition) especially in right channels"
   ]
  },
  {
   "cell_type": "code",
   "execution_count": 35,
   "metadata": {
    "scrolled": false
   },
   "outputs": [
    {
     "name": "stdout",
     "output_type": "stream",
     "text": [
      "\n",
      "\n",
      "plotting LEFT hemisphere MINUS center for tarLongCue_trig\n",
      "\n",
      "No baseline correction applied\n"
     ]
    },
    {
     "data": {
      "image/png": "[encoded data removed]",
      "text/plain": [
       "<Figure size 432x288 with 2 Axes>"
      ]
     },
     "metadata": {
      "needs_background": "light"
     },
     "output_type": "display_data"
    },
    {
     "name": "stdout",
     "output_type": "stream",
     "text": [
      "No baseline correction applied\n"
     ]
    },
    {
     "data": {
      "image/png": "[encoded data removed]",
      "text/plain": [
       "<Figure size 432x288 with 2 Axes>"
      ]
     },
     "metadata": {
      "needs_background": "light"
     },
     "output_type": "display_data"
    }
   ],
   "source": [
    "cond='tarLongCue_trig'\n",
    "## Contrasting with centrally presented:\n",
    "lat=all_subs_Lefts[cond]\n",
    "center=all_subs_Centers[cond]\n",
    "latMinusCenter=lat-center\n",
    "print('\\n\\nplotting LEFT hemisphere MINUS CENTER for %s\\n' %cond)\n",
    "latMinusCenter.plot(vmin=-7,vmax=7,tmin=0,tmax=1,picks=rightPost_elecs,title='RIGHT Posterior Chs:').show()\n",
    "latMinusCenter.plot(vmin=-7,vmax=7,tmin=0,tmax=1,picks=leftPost_elecs,title='LEFT Posterior Chs:').show()\n",
    "\n"
   ]
  },
  {
   "cell_type": "markdown",
   "metadata": {},
   "source": [
    "### Distractor Long SOA cue, when dis is in right hemisphere\n",
    "###### Expect more alpha power (== more distractor inhibition) in left hemisphere channels"
   ]
  },
  {
   "cell_type": "code",
   "execution_count": 36,
   "metadata": {},
   "outputs": [
    {
     "name": "stdout",
     "output_type": "stream",
     "text": [
      "\n",
      "\n",
      "plotting RIGHT hemisphere MINUS CENTER for disLongCue_trig\n",
      "\n",
      "No baseline correction applied\n"
     ]
    },
    {
     "data": {
      "image/png": "[encoded data removed]",
      "text/plain": [
       "<Figure size 432x288 with 2 Axes>"
      ]
     },
     "metadata": {
      "needs_background": "light"
     },
     "output_type": "display_data"
    },
    {
     "name": "stdout",
     "output_type": "stream",
     "text": [
      "No baseline correction applied\n"
     ]
    },
    {
     "data": {
      "image/png": "[encoded data removed]",
      "text/plain": [
       "<Figure size 432x288 with 2 Axes>"
      ]
     },
     "metadata": {
      "needs_background": "light"
     },
     "output_type": "display_data"
    }
   ],
   "source": [
    "cond='disLongCue_trig'\n",
    "## Contrasting with centrally presented:\n",
    "lat=all_subs_Rights[cond]\n",
    "center=all_subs_Centers[cond]\n",
    "latMinusCenter=lat-center\n",
    "print('\\n\\nplotting RIGHT hemisphere MINUS CENTER for %s\\n' %cond)\n",
    "latMinusCenter.plot(vmin=-7,vmax=7,tmin=0,tmax=1,picks=rightPost_elecs,title='RIGHT Posterior Chs:').show()\n",
    "latMinusCenter.plot(vmin=-7,vmax=7,tmin=0,tmax=1,picks=leftPost_elecs,title='LEFT Posterior Chs:').show()\n",
    "\n"
   ]
  },
  {
   "cell_type": "markdown",
   "metadata": {},
   "source": [
    "### Distractor cue, Long SOA, with distractor appearing in left hemisphere\n",
    "##### Expect more alpha power in right posterior channels"
   ]
  },
  {
   "cell_type": "code",
   "execution_count": 37,
   "metadata": {},
   "outputs": [
    {
     "name": "stdout",
     "output_type": "stream",
     "text": [
      "\n",
      "\n",
      "plotting LEFT hemisphere MINUS CENTER for disLongCue_trig\n",
      "\n",
      "No baseline correction applied\n"
     ]
    },
    {
     "data": {
      "image/png": "[encoded data removed]",
      "text/plain": [
       "<Figure size 432x288 with 2 Axes>"
      ]
     },
     "metadata": {
      "needs_background": "light"
     },
     "output_type": "display_data"
    },
    {
     "name": "stdout",
     "output_type": "stream",
     "text": [
      "No baseline correction applied\n"
     ]
    },
    {
     "data": {
      "image/png": "[encoded data removed]",
      "text/plain": [
       "<Figure size 432x288 with 2 Axes>"
      ]
     },
     "metadata": {
      "needs_background": "light"
     },
     "output_type": "display_data"
    }
   ],
   "source": [
    "cond='disLongCue_trig'\n",
    "## Contrasting with centrally presented:\n",
    "lat=all_subs_Lefts[cond]\n",
    "center=all_subs_Centers[cond]\n",
    "latMinusCenter=lat-center\n",
    "print('\\n\\nplotting LEFT hemisphere MINUS CENTER for %s\\n' %cond)\n",
    "latMinusCenter.plot(vmin=-7,vmax=7,tmin=0,tmax=1,picks=rightPost_elecs,title='RIGHT Posterior Chs:').show()\n",
    "latMinusCenter.plot(vmin=-7,vmax=7,tmin=0,tmax=1,picks=leftPost_elecs,title='LEFT Posterior Chs:').show()\n",
    "\n"
   ]
  },
  {
   "cell_type": "markdown",
   "metadata": {},
   "source": [
    "### [Distractor Long SOA] minus [Distractor Short SOA]"
   ]
  },
  {
   "cell_type": "code",
   "execution_count": 39,
   "metadata": {},
   "outputs": [],
   "source": [
    "leftDisL=all_subs_Lefts['disLongCue_trig']\n",
    "leftDisS=all_subs_Lefts['disShortCue_trig']"
   ]
  },
  {
   "cell_type": "code",
   "execution_count": 40,
   "metadata": {},
   "outputs": [
    {
     "name": "stdout",
     "output_type": "stream",
     "text": [
      "\n",
      "\n",
      "plotting LEFT hemisphere, LONG MINUS SHORT SOA for tarLongCue_trig\n",
      "\n",
      "No baseline correction applied\n"
     ]
    },
    {
     "data": {
      "image/png": "[encoded data removed]",
      "text/plain": [
       "<Figure size 432x288 with 2 Axes>"
      ]
     },
     "metadata": {
      "needs_background": "light"
     },
     "output_type": "display_data"
    },
    {
     "name": "stdout",
     "output_type": "stream",
     "text": [
      "No baseline correction applied\n"
     ]
    },
    {
     "name": "stderr",
     "output_type": "stream",
     "text": [
      "/home/dcellier/condaenvs/p3env/lib/python3.7/site-packages/matplotlib/figure.py:445: UserWarning: Matplotlib is currently using module://ipykernel.pylab.backend_inline, which is a non-GUI backend, so cannot show the figure.\n",
      "  % get_backend())\n"
     ]
    },
    {
     "data": {
      "image/png": "[encoded data removed]",
      "text/plain": [
       "<Figure size 432x288 with 2 Axes>"
      ]
     },
     "metadata": {
      "needs_background": "light"
     },
     "output_type": "display_data"
    }
   ],
   "source": [
    "longMinusShort=leftDisL-leftDisS\n",
    "print('\\n\\nplotting LEFT hemisphere, LONG MINUS SHORT SOA for %s\\n' %cond)\n",
    "longMinusShort.plot(vmin=-7,vmax=7,tmin=0,tmax=1,picks=rightPost_elecs,title='RIGHT Posterior Chs:').show()\n",
    "longMinusShort.plot(vmin=-7,vmax=7,tmin=0,tmax=1,picks=leftPost_elecs,title='LEFT Posterior Chs:').show()\n",
    "\n"
   ]
  },
  {
   "cell_type": "code",
   "execution_count": 41,
   "metadata": {},
   "outputs": [],
   "source": [
    "## Combine to just be ipsi and contralateral to cue rather than Left and Right"
   ]
  },
  {
   "cell_type": "code",
   "execution_count": null,
   "metadata": {},
   "outputs": [],
   "source": []
  }
 ],
 "metadata": {
  "kernelspec": {
   "display_name": "Python 3",
   "language": "python",
   "name": "python3"
  },
  "language_info": {
   "codemirror_mode": {
    "name": "ipython",
    "version": 3
   },
   "file_extension": ".py",
   "mimetype": "text/x-python",
   "name": "python",
   "nbconvert_exporter": "python",
   "pygments_lexer": "ipython3",
   "version": "3.7.1"
  }
 },
 "nbformat": 4,
 "nbformat_minor": 2
}
