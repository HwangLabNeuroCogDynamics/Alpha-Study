{
 "cells": [
  {
   "cell_type": "code",
   "execution_count": 1,
   "metadata": {},
   "outputs": [
    {
     "name": "stdout",
     "output_type": "stream",
     "text": [
      "Python version 3.6.10 |Anaconda, Inc.| (default, Jan  7 2020, 21:14:29) \n",
      "[GCC 7.3.0]\n",
      "Pandas version 1.0.1\n",
      "Matplotlib version 3.2.0\n"
     ]
    }
   ],
   "source": [
    "import numpy as np  # whole numpy lib is available, prepend 'np.'\n",
    "from numpy import average, std\n",
    "from numpy.random import random, randint, normal, shuffle,uniform\n",
    "import scipy\n",
    "from scipy.stats import ttest_ind\n",
    "import seaborn as sns\n",
    "import fnmatch\n",
    "import os  # handy system and path functions\n",
    "import sys  # to get file system encoding\n",
    "import csv\n",
    "from pandas import DataFrame, read_csv\n",
    "import matplotlib.pyplot as plt\n",
    "import pandas as pd  \n",
    "import matplotlib\n",
    "print('Python version ' + sys.version)\n",
    "print('Pandas version ' + pd.__version__)\n",
    "print('Matplotlib version ' + matplotlib.__version__)"
   ]
  },
  {
   "cell_type": "code",
   "execution_count": null,
   "metadata": {},
   "outputs": [],
   "source": []
  }
 ],
 "metadata": {
  "kernelspec": {
   "display_name": "Python 3",
   "language": "python",
   "name": "python3"
  },
  "language_info": {
   "codemirror_mode": {
    "name": "ipython",
    "version": 3
   },
   "file_extension": ".py",
   "mimetype": "text/x-python",
   "name": "python",
   "nbconvert_exporter": "python",
   "pygments_lexer": "ipython3",
   "version": "3.6.10"
  }
 },
 "nbformat": 4,
 "nbformat_minor": 4
}
