{
 "cells": [
  {
   "cell_type": "code",
   "execution_count": 5,
   "metadata": {},
   "outputs": [
    {
     "name": "stdout",
     "output_type": "stream",
     "text": [
      "Python version 3.6.3 |Anaconda, Inc.| (default, Oct 15 2017, 03:27:45) [MSC v.1900 64 bit (AMD64)]\n",
      "Pandas version 0.20.3\n",
      "Matplotlib version 2.1.0\n"
     ]
    }
   ],
   "source": [
    "import numpy as np  # whole numpy lib is available, prepend 'np.'\n",
    "from numpy import sin, cos, log10, pi, average, sqrt, std\n",
    "from numpy.random import random, randint, normal, shuffle,uniform\n",
    "import os  # handy system and path functions\n",
    "import sys  # to get file system encoding\n",
    "import csv\n",
    "from pandas import DataFrame, read_csv\n",
    "import matplotlib.pyplot as plt\n",
    "import pandas as pd  \n",
    "import matplotlib\n",
    "print('Python version ' + sys.version)\n",
    "print('Pandas version ' + pd.__version__)\n",
    "print('Matplotlib version ' + matplotlib.__version__)\n"
   ]
  },
  {
   "cell_type": "code",
   "execution_count": 6,
   "metadata": {},
   "outputs": [
    {
     "name": "stdout",
     "output_type": "stream",
     "text": [
      "  flex or blocked?  no stim TarInDistFlag lateralized?  block     cue  \\\n",
      "0             True     12.0         False        False    NaN     NaN   \n",
      "1              NaN      NaN           NaN          NaN    2.0  target   \n",
      "2              NaN      NaN           NaN          NaN    NaN     NaN   \n",
      "3              NaN      NaN           NaN          NaN    NaN     NaN   \n",
      "4              NaN      NaN           NaN          NaN    NaN     NaN   \n",
      "\n",
      "   validity  trialNum trial_type corrResp subResp  trialCorr?  \\\n",
      "0       NaN       NaN        NaN      NaN     NaN         NaN   \n",
      "1       0.5       1.0    invalid       up      up         1.0   \n",
      "2       NaN       2.0    invalid     down    down         1.0   \n",
      "3       NaN       3.0      valid    right   right         1.0   \n",
      "4       NaN       4.0      valid     down    down         1.0   \n",
      "\n",
      "                   RT  tarinDisCond       ITI  \n",
      "0                 NaN           NaN       NaN  \n",
      "1  0.9380524614243768           0.0  3.884918  \n",
      "2  1.2052399183157831           0.0  4.286241  \n",
      "3  0.5268456870981026           0.0  4.383581  \n",
      "4  0.5700186001195107           0.0  4.284713  \n"
     ]
    }
   ],
   "source": [
    "where_files = r'C:\\Users\\dillc\\University of Iowa\\Hwang Lab - Documents\\Alpha Paradigm\\scripts\\data'\n",
    "file = pd.read_csv(where_files +r'\\99_alpha_pilot_01_2018_Sep_25_1011.csv')\n",
    "print(file.head())\n"
   ]
  },
  {
   "cell_type": "code",
   "execution_count": null,
   "metadata": {
    "collapsed": true
   },
   "outputs": [],
   "source": [
    "# Data for plotting\n",
    "#t = np.arange(0.0, 2.0, 0.01)\n",
    "#s = 1 + np.sin(2 * np.pi * t)\n",
    "#fig, ax = plt.subplots()\n",
    "#ax.plot(t, s)\n",
    "#ax.set(xlabel='time (s)', ylabel='voltage (mV)',\n",
    "#title='About as simple as it gets, folks')\n",
    "#ax.grid()\n",
    "#fig.savefig(\"test.png\")\n",
    "#plt.show()"
   ]
  },
  {
   "cell_type": "code",
   "execution_count": null,
   "metadata": {
    "collapsed": true
   },
   "outputs": [],
   "source": []
  }
 ],
 "metadata": {
  "kernelspec": {
   "display_name": "Python 3",
   "language": "python",
   "name": "python3"
  },
  "language_info": {
   "codemirror_mode": {
    "name": "ipython",
    "version": 3
   },
   "file_extension": ".py",
   "mimetype": "text/x-python",
   "name": "python",
   "nbconvert_exporter": "python",
   "pygments_lexer": "ipython3",
   "version": "3.6.3"
  }
 },
 "nbformat": 4,
 "nbformat_minor": 2
}
