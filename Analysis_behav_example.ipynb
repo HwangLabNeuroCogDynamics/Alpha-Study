{
 "cells": [
  {
   "cell_type": "markdown",
   "metadata": {},
   "source": [
    "First, we have to import the functions and packages relevant to our script"
   ]
  },
  {
   "cell_type": "code",
   "execution_count": 2,
   "metadata": {},
   "outputs": [
    {
     "name": "stdout",
     "output_type": "stream",
     "text": [
      "Python version 3.6.3 |Anaconda, Inc.| (default, Oct 15 2017, 03:27:45) [MSC v.1900 64 bit (AMD64)]\n",
      "Pandas version 0.20.3\n",
      "Matplotlib version 2.1.0\n"
     ]
    }
   ],
   "source": [
    "import numpy as np  # whole numpy lib is available, prepend 'np.'\n",
    "from numpy import average, std\n",
    "from numpy.random import random, randint, normal, shuffle,uniform\n",
    "import os  # handy system and path functions\n",
    "import sys  # to get file system encoding\n",
    "import csv\n",
    "from pandas import DataFrame, read_csv\n",
    "import matplotlib.pyplot as plt\n",
    "import pandas as pd  \n",
    "import matplotlib\n",
    "print('Python version ' + sys.version)\n",
    "print('Pandas version ' + pd.__version__)\n",
    "print('Matplotlib version ' + matplotlib.__version__)\n"
   ]
  },
  {
   "cell_type": "markdown",
   "metadata": {},
   "source": [
    "Now we're going to want to pull up an example of one .csv results file and extract its data"
   ]
  },
  {
   "cell_type": "code",
   "execution_count": 3,
   "metadata": {
    "collapsed": true
   },
   "outputs": [],
   "source": [
    "cue_conditions=['target','distractor','neutral']\n",
    "valid_conds=[0.5,0.8]\n",
    "numTrials=33\n",
    "subjects=['99']\n",
    "sessions=3\n",
    "#path to .csv result files with our mock data \n",
    "where_files = r'C:\\Users\\dillc\\University of Iowa\\Hwang Lab - Documents\\Alpha Paradigm\\scripts\\data'"
   ]
  },
  {
   "cell_type": "markdown",
   "metadata": {},
   "source": [
    "# First, we'll look at the results of one subject"
   ]
  },
  {
   "cell_type": "code",
   "execution_count": 4,
   "metadata": {},
   "outputs": [],
   "source": [
    "results = pd.read_csv(where_files +r'\\99_alpha_pilot_01_2018.csv') #https://www.tutorialspoint.com/python_pandas/python_pandas_dataframe.htm\n",
    "#results.fillna('')\n",
    "#results.columns"
   ]
  },
  {
   "cell_type": "code",
   "execution_count": 5,
   "metadata": {},
   "outputs": [],
   "source": [
    "block_results=results.iloc[1:,4:]\n",
    "#block_results\n",
    "#block_results.fillna('')"
   ]
  },
  {
   "cell_type": "code",
   "execution_count": 6,
   "metadata": {},
   "outputs": [
    {
     "data": {
      "text/plain": [
       "0.8848484848484849"
      ]
     },
     "execution_count": 6,
     "metadata": {},
     "output_type": "execute_result"
    }
   ],
   "source": [
    "#extracting overall accuracy\n",
    "accALL=(np.sum(block_results['trialCorr?'])/165)\n",
    "accALL"
   ]
  },
  {
   "cell_type": "markdown",
   "metadata": {},
   "source": [
    "Have to convert the RT dtype to floats instead of strings"
   ]
  },
  {
   "cell_type": "code",
   "execution_count": 7,
   "metadata": {
    "collapsed": true
   },
   "outputs": [],
   "source": [
    "block_results['RT']=block_results['RT'].replace('None',0)\n",
    "block_results['RT']=block_results.RT.astype(float)"
   ]
  },
  {
   "cell_type": "code",
   "execution_count": 8,
   "metadata": {},
   "outputs": [
    {
     "data": {
      "text/plain": [
       "0.8438402787100516"
      ]
     },
     "execution_count": 8,
     "metadata": {},
     "output_type": "execute_result"
    }
   ],
   "source": [
    "#overall mean\n",
    "RTall=np.mean(block_results['RT'])\n",
    "RTall"
   ]
  },
  {
   "cell_type": "markdown",
   "metadata": {},
   "source": [
    "# Now, we'll look at data within subjects as well as across them"
   ]
  },
  {
   "cell_type": "markdown",
   "metadata": {},
   "source": [
    "We want to look at condition-by-condition data, because averages across conditions aren't super informative on their own"
   ]
  },
  {
   "cell_type": "code",
   "execution_count": 15,
   "metadata": {},
   "outputs": [
    {
     "name": "stdout",
     "output_type": "stream",
     "text": [
      "subject 99:\n",
      "##### session 1 #####\n",
      "target0.5:\n",
      "mean RT: 0.8119709620002664\n",
      "standard dev of RT: 0.2374912871959076\n",
      "acc: 0.8787878787878788\n",
      "\n",
      "\n",
      "target0.8:\n",
      "mean RT: 0.8431061725471712\n",
      "standard dev of RT: 0.20788688729234286\n",
      "acc: 0.9090909090909091\n",
      "\n",
      "\n",
      "distractor0.5:\n",
      "mean RT: 0.9298115108443502\n",
      "standard dev of RT: 0.2802179522400999\n",
      "acc: 1.0\n",
      "\n",
      "\n",
      "distractor0.8:\n",
      "mean RT: 0.8941386995725087\n",
      "standard dev of RT: 0.2948363007707853\n",
      "acc: 0.8181818181818182\n",
      "\n",
      "\n",
      "neutral:\n",
      "mean RT: 0.7401740485859618\n",
      "standard dev of RT: 0.22309704241857353\n",
      "acc: 0.8181818181818182\n",
      "\n",
      "\n",
      "##### session 2 #####\n",
      "target0.5:\n",
      "mean RT: 0.7743502302941069\n",
      "standard dev of RT: 0.19008069455340842\n",
      "acc: 0.9696969696969697\n",
      "\n",
      "\n",
      "target0.8:\n",
      "mean RT: 0.7664571167538683\n",
      "standard dev of RT: 0.16481630648745232\n",
      "acc: 0.9393939393939394\n",
      "\n",
      "\n",
      "distractor0.5:\n",
      "mean RT: 0.8470242070898442\n",
      "standard dev of RT: 0.1713615115388313\n",
      "acc: 0.9393939393939394\n",
      "\n",
      "\n",
      "distractor0.8:\n",
      "mean RT: 0.8025405645087382\n",
      "standard dev of RT: 0.14403240266290224\n",
      "acc: 1.0\n",
      "\n",
      "\n",
      "neutral:\n",
      "mean RT: 0.8006877278923198\n",
      "standard dev of RT: 0.1715902278294843\n",
      "acc: 0.9393939393939394\n",
      "\n",
      "\n",
      "##### session 3 #####\n",
      "target0.5:\n",
      "mean RT: 0.7328276749255676\n",
      "standard dev of RT: 0.1818784911081051\n",
      "acc: 0.98989898989899\n",
      "\n",
      "\n"
     ]
    }
   ],
   "source": [
    "# want to grab the indices of each condtion row and what condition it is (cue type AND validity)\n",
    "\n",
    "data=pd.DataFrame()\n",
    "data_row_labels=[]\n",
    "\n",
    "for sub in subjects:\n",
    "    print('subject '+str(sub)+':')\n",
    "    for session in range(sessions):\n",
    "        print('##### session '+str(session+1)+' #####')\n",
    "        \n",
    "        results = pd.read_csv(where_files +r'\\%s_alpha_pilot_0%d_2018.csv'% (sub,(session+1)))\n",
    "        block_results=results.iloc[1:,4:]\n",
    "        block_results['RT']=block_results['RT'].replace('None',0)\n",
    "        block_results['RT']=block_results.RT.astype(float)\n",
    "        \n",
    "        conds_indices={}\n",
    "        for cue in cue_conditions: #loop through the cue categories and find their indices\n",
    "            inds=block_results['cue'][block_results['cue']==cue].index\n",
    "            #print(cue)\n",
    "            #print(inds)\n",
    "            for valid in valid_conds: #once we find the cue indices we still need to know the validity for those cue blocks\n",
    "                if cue=='neutral' and inds.any():\n",
    "                    conds_indices['neutral']=inds #neutral cues always have validity of 0 \n",
    "                else:    \n",
    "                    for ind in inds:\n",
    "                        if block_results['validity'][ind]==valid:\n",
    "                            conds_indices.setdefault((cue+str(valid)),[]).append(ind)\n",
    "        #print(conds_indices) \n",
    "\n",
    "        ### now we have a dictionary of each condtion's indices in the DataFrame, so we next want to extract the data for each ###\n",
    "\n",
    "        for cond in conds_indices.keys():\n",
    "            print(cond+':')\n",
    "            RTs=[]\n",
    "            for ind in conds_indices[cond]: #slicing the series 'RT' by the indices of ea condition to grab out the RT's for this cond\n",
    "                slce=block_results['RT'][(ind-1):(ind+(numTrials-1))]\n",
    "                RTs.append(slce)\n",
    "            cond_RT=pd.concat(RTs)\n",
    "            print('mean RT: '+str(np.mean(cond_RT)))\n",
    "            print('standard dev of RT: '+str(np.std(cond_RT)))\n",
    "            ACCs=[]\n",
    "            for ind in conds_indices[cond]: #slicing the series 'RT' by the indices of ea condition to grab out the RT's for this cond\n",
    "                slce=block_results['trialCorr?'][(ind-1):(ind+(numTrials-1))]\n",
    "                ACCs.append(slce)\n",
    "            cond_ACC=pd.concat(ACCs)\n",
    "            print('acc: '+str(np.mean(cond_ACC)))\n",
    "            print('\\n')\n",
    "            data2=pd.DataFrame([[np.mean(cond_RT),np.std(cond_RT),np.mean(cond_ACC)]],columns=['meanRT','stdRT','meanACC'])\n",
    "            data=data.append(data2)\n",
    "            data_row_labels.append(sub+'s'+str(session+1)+' '+cond)\n",
    "\n",
    "data.index=(data_row_labels)"
   ]
  },
  {
   "cell_type": "code",
   "execution_count": 16,
   "metadata": {},
   "outputs": [
    {
     "data": {
      "text/html": [
       "<div>\n",
       "<style>\n",
       "    .dataframe thead tr:only-child th {\n",
       "        text-align: right;\n",
       "    }\n",
       "\n",
       "    .dataframe thead th {\n",
       "        text-align: left;\n",
       "    }\n",
       "\n",
       "    .dataframe tbody tr th {\n",
       "        vertical-align: top;\n",
       "    }\n",
       "</style>\n",
       "<table border=\"1\" class=\"dataframe\">\n",
       "  <thead>\n",
       "    <tr style=\"text-align: right;\">\n",
       "      <th></th>\n",
       "      <th>meanRT</th>\n",
       "      <th>stdRT</th>\n",
       "      <th>meanACC</th>\n",
       "    </tr>\n",
       "  </thead>\n",
       "  <tbody>\n",
       "    <tr>\n",
       "      <th>99s1 target0.5</th>\n",
       "      <td>0.811971</td>\n",
       "      <td>0.237491</td>\n",
       "      <td>0.878788</td>\n",
       "    </tr>\n",
       "    <tr>\n",
       "      <th>99s1 target0.8</th>\n",
       "      <td>0.843106</td>\n",
       "      <td>0.207887</td>\n",
       "      <td>0.909091</td>\n",
       "    </tr>\n",
       "    <tr>\n",
       "      <th>99s1 distractor0.5</th>\n",
       "      <td>0.929812</td>\n",
       "      <td>0.280218</td>\n",
       "      <td>1.000000</td>\n",
       "    </tr>\n",
       "    <tr>\n",
       "      <th>99s1 distractor0.8</th>\n",
       "      <td>0.894139</td>\n",
       "      <td>0.294836</td>\n",
       "      <td>0.818182</td>\n",
       "    </tr>\n",
       "    <tr>\n",
       "      <th>99s1 neutral</th>\n",
       "      <td>0.740174</td>\n",
       "      <td>0.223097</td>\n",
       "      <td>0.818182</td>\n",
       "    </tr>\n",
       "    <tr>\n",
       "      <th>99s2 target0.5</th>\n",
       "      <td>0.774350</td>\n",
       "      <td>0.190081</td>\n",
       "      <td>0.969697</td>\n",
       "    </tr>\n",
       "    <tr>\n",
       "      <th>99s2 target0.8</th>\n",
       "      <td>0.766457</td>\n",
       "      <td>0.164816</td>\n",
       "      <td>0.939394</td>\n",
       "    </tr>\n",
       "    <tr>\n",
       "      <th>99s2 distractor0.5</th>\n",
       "      <td>0.847024</td>\n",
       "      <td>0.171362</td>\n",
       "      <td>0.939394</td>\n",
       "    </tr>\n",
       "    <tr>\n",
       "      <th>99s2 distractor0.8</th>\n",
       "      <td>0.802541</td>\n",
       "      <td>0.144032</td>\n",
       "      <td>1.000000</td>\n",
       "    </tr>\n",
       "    <tr>\n",
       "      <th>99s2 neutral</th>\n",
       "      <td>0.800688</td>\n",
       "      <td>0.171590</td>\n",
       "      <td>0.939394</td>\n",
       "    </tr>\n",
       "    <tr>\n",
       "      <th>99s3 target0.5</th>\n",
       "      <td>0.732828</td>\n",
       "      <td>0.181878</td>\n",
       "      <td>0.989899</td>\n",
       "    </tr>\n",
       "  </tbody>\n",
       "</table>\n",
       "</div>"
      ],
      "text/plain": [
       "                      meanRT     stdRT   meanACC\n",
       "99s1 target0.5      0.811971  0.237491  0.878788\n",
       "99s1 target0.8      0.843106  0.207887  0.909091\n",
       "99s1 distractor0.5  0.929812  0.280218  1.000000\n",
       "99s1 distractor0.8  0.894139  0.294836  0.818182\n",
       "99s1 neutral        0.740174  0.223097  0.818182\n",
       "99s2 target0.5      0.774350  0.190081  0.969697\n",
       "99s2 target0.8      0.766457  0.164816  0.939394\n",
       "99s2 distractor0.5  0.847024  0.171362  0.939394\n",
       "99s2 distractor0.8  0.802541  0.144032  1.000000\n",
       "99s2 neutral        0.800688  0.171590  0.939394\n",
       "99s3 target0.5      0.732828  0.181878  0.989899"
      ]
     },
     "execution_count": 16,
     "metadata": {},
     "output_type": "execute_result"
    }
   ],
   "source": [
    "data"
   ]
  },
  {
   "cell_type": "code",
   "execution_count": 20,
   "metadata": {
    "scrolled": true
   },
   "outputs": [
    {
     "data": {
      "image/png": "[encoded data removed]",
      "text/plain": [
       "<matplotlib.figure.Figure at 0x11d0de71978>"
      ]
     },
     "metadata": {},
     "output_type": "display_data"
    }
   ],
   "source": [
    "#plot=data['meanRT'].plot(kind='bar')\n",
    "plot=data.plot(kind='bar')\n",
    "plt.show()"
   ]
  },
  {
   "cell_type": "code",
   "execution_count": null,
   "metadata": {
    "collapsed": true
   },
   "outputs": [],
   "source": []
  },
  {
   "cell_type": "code",
   "execution_count": 1,
   "metadata": {},
   "outputs": [
    {
     "ename": "NameError",
     "evalue": "name 'plt' is not defined",
     "output_type": "error",
     "traceback": [
      "\u001b[1;31m---------------------------------------------------------------------------\u001b[0m",
      "\u001b[1;31mNameError\u001b[0m                                 Traceback (most recent call last)",
      "\u001b[1;32m<ipython-input-1-3240858ad497>\u001b[0m in \u001b[0;36m<module>\u001b[1;34m()\u001b[0m\n\u001b[0;32m      7\u001b[0m \u001b[0mmeanRTs_neutral\u001b[0m\u001b[1;33m=\u001b[0m\u001b[1;33m(\u001b[0m\u001b[1;36m0.74017\u001b[0m\u001b[1;33m,\u001b[0m\u001b[1;36m0.8006\u001b[0m\u001b[1;33m,\u001b[0m\u001b[1;36m0.7899\u001b[0m\u001b[1;33m)\u001b[0m\u001b[1;31m#last num is fake\u001b[0m\u001b[1;33m\u001b[0m\u001b[0m\n\u001b[0;32m      8\u001b[0m \u001b[1;33m\u001b[0m\u001b[0m\n\u001b[1;32m----> 9\u001b[1;33m \u001b[0mplt\u001b[0m\u001b[1;33m.\u001b[0m\u001b[0mfigure\u001b[0m\u001b[1;33m(\u001b[0m\u001b[0mfigsize\u001b[0m\u001b[1;33m=\u001b[0m\u001b[1;33m(\u001b[0m\u001b[1;36m20\u001b[0m\u001b[1;33m,\u001b[0m\u001b[1;36m40\u001b[0m\u001b[1;33m)\u001b[0m\u001b[1;33m)\u001b[0m\u001b[1;33m\u001b[0m\u001b[0m\n\u001b[0m\u001b[0;32m     10\u001b[0m \u001b[0mfig\u001b[0m\u001b[1;33m,\u001b[0m \u001b[0max\u001b[0m \u001b[1;33m=\u001b[0m \u001b[0mplt\u001b[0m\u001b[1;33m.\u001b[0m\u001b[0msubplots\u001b[0m\u001b[1;33m(\u001b[0m\u001b[1;33m)\u001b[0m\u001b[1;33m\u001b[0m\u001b[0m\n\u001b[0;32m     11\u001b[0m \u001b[1;33m\u001b[0m\u001b[0m\n",
      "\u001b[1;31mNameError\u001b[0m: name 'plt' is not defined"
     ]
    }
   ],
   "source": [
    "# Data for plotting\n",
    "\n",
    "meanRTs_tar5=(0.8119,0.77435,0.73282)\n",
    "meanRTs_tar8=(0.84310,0.766457,0.83333)#last num is fake\n",
    "meanRTs_dis5=(0.929811,0.84702,0.86532)#last num is fake\n",
    "meanRTs_dis8=(0.894138,0.8025405,0.8506)#last num is fake\n",
    "meanRTs_neutral=(0.74017,0.8006,0.7899)#last num is fake\n",
    "\n",
    "plt.figure(figsize=(20,40))\n",
    "fig, ax = plt.subplots()\n",
    "\n",
    "ax.set(xlabel='conditions', ylabel='RT',\n",
    "title='across sessions')\n",
    "index=np.arange(3)\n",
    "bar_width=0.15\n",
    "opacity=0.5\n",
    "\n",
    "a=plt.bar(index, meanRTs_tar5, bar_width,\n",
    "                 alpha=opacity,\n",
    "                 color='b',\n",
    "                 label='tar5')\n",
    "b=plt.bar(index+bar_width, meanRTs_tar8, bar_width,\n",
    "                 alpha=opacity,\n",
    "                 color='g',\n",
    "                 label='tar8')\n",
    "c=plt.bar(index+(bar_width*2), meanRTs_dis5, bar_width,\n",
    "                 alpha=opacity,\n",
    "                 color='c',\n",
    "                 label='dis5')\n",
    "d=plt.bar(index+(bar_width*3), meanRTs_dis8, bar_width,\n",
    "                 alpha=opacity,\n",
    "                 color='r',\n",
    "                 label='dis8')\n",
    "e=plt.bar(index+(bar_width*4), meanRTs_neutral, bar_width,\n",
    "                 alpha=opacity,\n",
    "                 color='k',\n",
    "                 label='neutral')\n",
    "\n",
    "#x=['s1t0.5','s1t0.8','s1d0.5','s1d0.8','s1n','s2t0.5','s2t0.8','s2d0.5','s2d0.8','s2n','s3t0.5','s3t0.8','s3d0.5','s3d0.8','s3n']\n",
    "plt.xticks(index,('s1','s2','s3'))\n",
    "#y=[]\n",
    "plt.legend(loc=\"lower right\")\n",
    "#plt.tight_layout()\n",
    "plt.show()"
   ]
  },
  {
   "cell_type": "code",
   "execution_count": null,
   "metadata": {},
   "outputs": [],
   "source": []
  },
  {
   "cell_type": "code",
   "execution_count": null,
   "metadata": {
    "collapsed": true
   },
   "outputs": [],
   "source": []
  },
  {
   "cell_type": "code",
   "execution_count": null,
   "metadata": {
    "collapsed": true
   },
   "outputs": [],
   "source": []
  }
 ],
 "metadata": {
  "kernelspec": {
   "display_name": "Python 3",
   "language": "python",
   "name": "python3"
  },
  "language_info": {
   "codemirror_mode": {
    "name": "ipython",
    "version": 3
   },
   "file_extension": ".py",
   "mimetype": "text/x-python",
   "name": "python",
   "nbconvert_exporter": "python",
   "pygments_lexer": "ipython3",
   "version": "3.6.3"
  }
 },
 "nbformat": 4,
 "nbformat_minor": 2
}
